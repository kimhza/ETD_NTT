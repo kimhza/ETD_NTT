{
 "cells": [
  {
   "cell_type": "markdown",
   "id": "7d3bf8ec-6aaf-4463-8a5e-3fb623680441",
   "metadata": {},
   "source": [
    "# Informe Estados en Estados Unidos"
   ]
  },
  {
   "cell_type": "markdown",
   "id": "53d478ba-7b2f-4be4-943b-0172e7d1269b",
   "metadata": {},
   "source": [
    "### Campos de la tabla suministrada para el reto:\n",
    "* **Estado**: nombre del Estado\n",
    "* **Población 2000**: población del Estado en el año 2000\n",
    "* **Población 2001**: población del Estado en el año 2001\n",
    "* **Residentes menores de 65 años 2000**: número de personas menores de 65 años en\n",
    "el Estado en el año 2000\n",
    "* **Residentes menores de 65 años 2001**: número de personas menores de 65 años en\n",
    "el Estado en el año 2001\n",
    "* **Muertes 2000**: fallecidos en el Estado en el año 2000\n",
    "* **Muertes 2001**: fallecidos en el Estado en el año 2001\n",
    "* **Fecha de fundación del Estado**: fecha en que se fundó el Estado\n",
    "* **Latitud**: latitud correspondiente a la capital del Estado\n",
    "* **Longitud**: longitud correspondiente a la capital del Estado"
   ]
  },
  {
   "cell_type": "markdown",
   "id": "010b698d-c6dd-4daa-82d7-132904df47a1",
   "metadata": {},
   "source": [
    "## Ejercicio 1"
   ]
  },
  {
   "cell_type": "markdown",
   "id": "f7ad4caf-ddaf-49e1-a242-2a821e316c18",
   "metadata": {},
   "source": [
    "### a. Lista que contiene un diccionario por cada estado. Cada elemento de la lista es un diccionario"
   ]
  },
  {
   "cell_type": "code",
   "execution_count": 2,
   "id": "2ccfc4bf-7dfd-453b-aa87-1414a7229e1d",
   "metadata": {
    "scrolled": true
   },
   "outputs": [
    {
     "name": "stdout",
     "output_type": "stream",
     "text": [
      "Lista con 4 diccionarios correspondientes a estados de EEUU:\n"
     ]
    },
    {
     "data": {
      "text/plain": [
       "[{'estado': 'Alabama',\n",
       "  'poblacion_2000': 4447100,\n",
       "  'poblacion_2001': 4451493,\n",
       "  'residentes_menores_65_años_2000': 3870598,\n",
       "  'residentes_menores_65_años_2001': 3880476,\n",
       "  'muertes_2000': 10622,\n",
       "  'muertes_2001': 15912,\n",
       "  'fecha_fundacion': '14/12/1819',\n",
       "  'latitud': '33.258882',\n",
       "  'longitud': '-86.829534'},\n",
       " {'estado': 'Florida',\n",
       "  'poblacion_2000': 15982378,\n",
       "  'poblacion_2001': 17054000,\n",
       "  'residentes_menores_65_años_2000': 13237167,\n",
       "  'residentes_menores_65_años_2001': 13548077,\n",
       "  'muertes_2000': 38103,\n",
       "  'muertes_2001': 168069,\n",
       "  'fecha_fundacion': '03/03/1845',\n",
       "  'latitud': '27.756767',\n",
       "  'longitud': '-81.463983'},\n",
       " {'estado': 'Georgia',\n",
       "  'poblacion_2000': 8186453,\n",
       "  'poblacion_2001': 8229823,\n",
       "  'residentes_menores_65_años_2000': 7440877,\n",
       "  'residentes_menores_65_años_2001': 7582146,\n",
       "  'muertes_2000': 14804,\n",
       "  'muertes_2001': 15000,\n",
       "  'fecha_fundacion': '12/02/1733',\n",
       "  'latitud': '32.329381',\n",
       "  'longitud': '-83.113737'},\n",
       " {'estado': 'South_Carolina',\n",
       "  'poblacion_2000': 4012012,\n",
       "  'poblacion_2001': 4023438,\n",
       "  'residentes_menores_65_años_2000': 3535770,\n",
       "  'residentes_menores_65_años_2001': 3567172,\n",
       "  'muertes_2000': 8581,\n",
       "  'muertes_2001': 9500,\n",
       "  'fecha_fundacion': '26/03/1776',\n",
       "  'latitud': '33.687439',\n",
       "  'longitud': '-80.436374'}]"
      ]
     },
     "execution_count": 2,
     "metadata": {},
     "output_type": "execute_result"
    }
   ],
   "source": [
    "# Creación de diccionarios con los 4 estados\n",
    "diccionario_alabama = {\n",
    "    \"estado\": \"Alabama\",\n",
    "     \"poblacion_2000\":4447100,\n",
    "     \"poblacion_2001\":4451493,\n",
    "     \"residentes_menores_65_años_2000\":3870598,\n",
    "     \"residentes_menores_65_años_2001\":3880476,\n",
    "     \"muertes_2000\":10622,\n",
    "     \"muertes_2001\":15912,\n",
    "     \"fecha_fundacion\":\"14/12/1819\",\n",
    "     \"latitud\":\"33.258882\",\n",
    "     \"longitud\":\"-86.829534\"\n",
    "}\n",
    "\n",
    "diccionario_florida = {\n",
    "    \"estado\": \"Florida\",\n",
    "     \"poblacion_2000\":15982378,\n",
    "     \"poblacion_2001\":17054000,\n",
    "     \"residentes_menores_65_años_2000\":13237167,\n",
    "     \"residentes_menores_65_años_2001\":13548077,\n",
    "     \"muertes_2000\":38103,\n",
    "     \"muertes_2001\":168069,\n",
    "     \"fecha_fundacion\":\"03/03/1845\",\n",
    "     \"latitud\":\"27.756767\",\n",
    "     \"longitud\":\"-81.463983\"\n",
    "}\n",
    "\n",
    "diccionario_georgia = {\n",
    "    \"estado\": \"Georgia\",\n",
    "     \"poblacion_2000\":8186453,\n",
    "     \"poblacion_2001\":8229823,\n",
    "     \"residentes_menores_65_años_2000\":7440877,\n",
    "     \"residentes_menores_65_años_2001\":7582146,\n",
    "     \"muertes_2000\":14804,\n",
    "     \"muertes_2001\":15000,\n",
    "     \"fecha_fundacion\":\"12/02/1733\",\n",
    "     \"latitud\":\"32.329381\",\n",
    "     \"longitud\":\"-83.113737\"\n",
    "}\n",
    "\n",
    "diccionario_south_carolina = {\"estado\": \"South_Carolina\",\n",
    "     \"poblacion_2000\":4012012,\n",
    "     \"poblacion_2001\":4023438,\n",
    "     \"residentes_menores_65_años_2000\":3535770,\n",
    "     \"residentes_menores_65_años_2001\":3567172,\n",
    "     \"muertes_2000\":8581,\n",
    "     \"muertes_2001\":9500,\n",
    "     \"fecha_fundacion\":\"26/03/1776\",\n",
    "     \"latitud\":\"33.687439\",\n",
    "     \"longitud\":\"-80.436374\"\n",
    "} \n",
    "\n",
    "lista_estados = [diccionario_alabama, diccionario_florida, diccionario_georgia, diccionario_south_carolina]\n",
    "\n",
    "print(\"Lista con 4 diccionarios correspondientes a estados de EEUU:\")\n",
    "lista_estados"
   ]
  },
  {
   "cell_type": "markdown",
   "id": "029ee0f6-660a-47eb-ac90-af5875edf04e",
   "metadata": {},
   "source": [
    "### b. Transformación de la lista inicial en tantos diccionarios de acuerdo a la cantidad de estados, siguiendo la estructura de nombres dinamica"
   ]
  },
  {
   "cell_type": "code",
   "execution_count": 3,
   "id": "1e3758be-2116-46b9-b852-08ddd7fc4c29",
   "metadata": {
    "scrolled": true
   },
   "outputs": [
    {
     "name": "stdout",
     "output_type": "stream",
     "text": [
      "Lista con los nombres para cada estado, de acuerdo a la estructura requerida:\n"
     ]
    },
    {
     "data": {
      "text/plain": [
       "['Diccionario_Alabama',\n",
       " 'Diccionario_Florida',\n",
       " 'Diccionario_Georgia',\n",
       " 'Diccionario_South_Carolina']"
      ]
     },
     "execution_count": 3,
     "metadata": {},
     "output_type": "execute_result"
    }
   ],
   "source": [
    "\"\"\"\n",
    "Se almacenan los nombres de los estados precedidos por la palabra Diccionario \n",
    "en la lista \"lista_nombres_estado\"\n",
    "\"\"\"\n",
    "lista_nombres_estados = []\n",
    "for indice, valor in enumerate(lista_estados):\n",
    "    lista_nombres_estados.append(f\"Diccionario_{lista_estados[indice]['estado']}\")\n",
    "\n",
    "print(\"Lista con los nombres para cada estado, de acuerdo a la estructura requerida:\")\n",
    "lista_nombres_estados"
   ]
  },
  {
   "cell_type": "code",
   "execution_count": 4,
   "id": "2a24cb29-c383-4b94-8405-993f13b526df",
   "metadata": {
    "scrolled": true
   },
   "outputs": [
    {
     "name": "stdout",
     "output_type": "stream",
     "text": [
      "Diccionario con diccionarios internos para cada estado y nombres dinamicos:\n"
     ]
    },
    {
     "data": {
      "text/plain": [
       "{'Diccionario_Alabama': {'estado': 'Alabama',\n",
       "  'poblacion_2000': 4447100,\n",
       "  'poblacion_2001': 4451493,\n",
       "  'residentes_menores_65_años_2000': 3870598,\n",
       "  'residentes_menores_65_años_2001': 3880476,\n",
       "  'muertes_2000': 10622,\n",
       "  'muertes_2001': 15912,\n",
       "  'fecha_fundacion': '14/12/1819',\n",
       "  'latitud': '33.258882',\n",
       "  'longitud': '-86.829534'},\n",
       " 'Diccionario_Florida': {'estado': 'Florida',\n",
       "  'poblacion_2000': 15982378,\n",
       "  'poblacion_2001': 17054000,\n",
       "  'residentes_menores_65_años_2000': 13237167,\n",
       "  'residentes_menores_65_años_2001': 13548077,\n",
       "  'muertes_2000': 38103,\n",
       "  'muertes_2001': 168069,\n",
       "  'fecha_fundacion': '03/03/1845',\n",
       "  'latitud': '27.756767',\n",
       "  'longitud': '-81.463983'},\n",
       " 'Diccionario_Georgia': {'estado': 'Georgia',\n",
       "  'poblacion_2000': 8186453,\n",
       "  'poblacion_2001': 8229823,\n",
       "  'residentes_menores_65_años_2000': 7440877,\n",
       "  'residentes_menores_65_años_2001': 7582146,\n",
       "  'muertes_2000': 14804,\n",
       "  'muertes_2001': 15000,\n",
       "  'fecha_fundacion': '12/02/1733',\n",
       "  'latitud': '32.329381',\n",
       "  'longitud': '-83.113737'},\n",
       " 'Diccionario_South_Carolina': {'estado': 'South_Carolina',\n",
       "  'poblacion_2000': 4012012,\n",
       "  'poblacion_2001': 4023438,\n",
       "  'residentes_menores_65_años_2000': 3535770,\n",
       "  'residentes_menores_65_años_2001': 3567172,\n",
       "  'muertes_2000': 8581,\n",
       "  'muertes_2001': 9500,\n",
       "  'fecha_fundacion': '26/03/1776',\n",
       "  'latitud': '33.687439',\n",
       "  'longitud': '-80.436374'}}"
      ]
     },
     "execution_count": 4,
     "metadata": {},
     "output_type": "execute_result"
    }
   ],
   "source": [
    "\"\"\"\n",
    "Se itera con zip la lista con los nombres de los estados y la lista inicial que contiene\n",
    "la informacion, luego el objeto zip se convierte en un diccionario que \n",
    "contiene los diccionarios de cada estado\n",
    "\"\"\"\n",
    "diccionario = dict(zip(lista_nombres_estados, lista_estados))\n",
    "print(\"Diccionario con diccionarios internos para cada estado y nombres dinamicos:\")\n",
    "diccionario"
   ]
  },
  {
   "cell_type": "code",
   "execution_count": 5,
   "id": "2c411a03-a318-405c-85c8-490bd70cb719",
   "metadata": {
    "scrolled": true
   },
   "outputs": [
    {
     "data": {
      "text/plain": [
       "{'Diccionario_Alabama': {'Estado_Alabama': 'Alabama',\n",
       "  'Poblacion_2000_Alabama': 4447100,\n",
       "  'Poblacion_2001_Alabama': 4451493,\n",
       "  'Residentes_menores_65_años_2000_Alabama': 3870598,\n",
       "  'Residentes_menores_65_años_2001_Alabama': 3880476,\n",
       "  'Muertes_2000_Alabama': 10622,\n",
       "  'Muertes_2001_Alabama': 15912,\n",
       "  'Latitud_Alabama': '33.258882',\n",
       "  'Longitud_Alabama': '-86.829534',\n",
       "  'Fecha_Fundacion_Alabama': '14/12/1819'},\n",
       " 'Diccionario_Florida': {'Estado_Florida': 'Florida',\n",
       "  'Poblacion_2000_Florida': 15982378,\n",
       "  'Poblacion_2001_Florida': 17054000,\n",
       "  'Residentes_menores_65_años_2000_Florida': 13237167,\n",
       "  'Residentes_menores_65_años_2001_Florida': 13548077,\n",
       "  'Muertes_2000_Florida': 38103,\n",
       "  'Muertes_2001_Florida': 168069,\n",
       "  'Latitud_Florida': '27.756767',\n",
       "  'Longitud_Florida': '-81.463983',\n",
       "  'Fecha_Fundacion_Florida': '03/03/1845'},\n",
       " 'Diccionario_Georgia': {'Estado_Georgia': 'Georgia',\n",
       "  'Poblacion_2000_Georgia': 8186453,\n",
       "  'Poblacion_2001_Georgia': 8229823,\n",
       "  'Residentes_menores_65_años_2000_Georgia': 7440877,\n",
       "  'Residentes_menores_65_años_2001_Georgia': 7582146,\n",
       "  'Muertes_2000_Georgia': 14804,\n",
       "  'Muertes_2001_Georgia': 15000,\n",
       "  'Latitud_Georgia': '32.329381',\n",
       "  'Longitud_Georgia': '-83.113737',\n",
       "  'Fecha_Fundacion_Georgia': '12/02/1733'},\n",
       " 'Diccionario_South_Carolina': {'Estado_South_Carolina': 'South_Carolina',\n",
       "  'Poblacion_2000_South_Carolina': 4012012,\n",
       "  'Poblacion_2001_South_Carolina': 4023438,\n",
       "  'Residentes_menores_65_años_2000_South_Carolina': 3535770,\n",
       "  'Residentes_menores_65_años_2001_South_Carolina': 3567172,\n",
       "  'Muertes_2000_South_Carolina': 8581,\n",
       "  'Muertes_2001_South_Carolina': 9500,\n",
       "  'Latitud_South_Carolina': '33.687439',\n",
       "  'Longitud_South_Carolina': '-80.436374',\n",
       "  'Fecha_Fundacion_South_Carolina': '26/03/1776'}}"
      ]
     },
     "execution_count": 5,
     "metadata": {},
     "output_type": "execute_result"
    }
   ],
   "source": [
    "# Se modifican claves de diccionario de acuerdo la estructura requerida \n",
    "for clave, valor in diccionario.items():\n",
    "    estado = diccionario[clave][\"estado\"]     \n",
    "    diccionario[clave][f'Estado_{estado}'] = diccionario[clave].pop(\"estado\")\n",
    "    diccionario[clave][f'Poblacion_2000_{estado}'] = diccionario[clave].pop(\"poblacion_2000\")\n",
    "    diccionario[clave][f'Poblacion_2001_{estado}'] = diccionario[clave].pop(\"poblacion_2001\")\n",
    "    diccionario[clave][f'Residentes_menores_65_años_2000_{estado}'] = diccionario[clave].pop(\"residentes_menores_65_años_2000\")\n",
    "    diccionario[clave][f'Residentes_menores_65_años_2001_{estado}'] = diccionario[clave].pop(\"residentes_menores_65_años_2001\")\n",
    "    diccionario[clave][f'Muertes_2000_{estado}'] = diccionario[clave].pop(\"muertes_2000\")\n",
    "    diccionario[clave][f'Muertes_2001_{estado}'] = diccionario[clave].pop(\"muertes_2001\")\n",
    "    diccionario[clave][f'Latitud_{estado}'] = diccionario[clave].pop(\"latitud\")\n",
    "    diccionario[clave][f'Longitud_{estado}'] = diccionario[clave].pop(\"longitud\")\n",
    "    diccionario[clave][f'Fecha_Fundacion_{estado}'] = diccionario[clave].pop(\"fecha_fundacion\")\n",
    "\n",
    "diccionario"
   ]
  },
  {
   "cell_type": "markdown",
   "id": "01d414f7-b73a-41d4-b6e7-2141adce546c",
   "metadata": {},
   "source": [
    "### c. Los datos de población de Florida en 2001 eran incorrectos, por lo cual se actualiza valor a 16054328"
   ]
  },
  {
   "cell_type": "code",
   "execution_count": 17,
   "id": "8ffbb90f-b16f-4604-9237-050e1c131b7d",
   "metadata": {
    "scrolled": true
   },
   "outputs": [
    {
     "data": {
      "text/plain": [
       "{'Estado_Florida': 'Florida',\n",
       " 'Poblacion_2000_Florida': 15982378,\n",
       " 'Poblacion_2001_Florida': 16054328,\n",
       " 'Residentes_menores_65_años_2000_Florida': 13237167,\n",
       " 'Residentes_menores_65_años_2001_Florida': 13548077,\n",
       " 'Muertes_2000_Florida': 38103,\n",
       " 'Muertes_2001_Florida': 168069,\n",
       " 'Latitud_Florida': '27.756767',\n",
       " 'Longitud_Florida': '-81.463983',\n",
       " 'Fecha_Fundacion_Florida': datetime.date(1845, 3, 3),\n",
       " 'Dias_Desde_Fundacion_Florida': 65462,\n",
       " 'Porcentaje_mayores_65_2000_Florida': 17.18,\n",
       " 'Porcentaje_mayores_65_2001_Florida': 15.61,\n",
       " 'Poblacion_2002_Florida': 15982380,\n",
       " 'Poblacion_Estudio_Demografico_Florida': 797564}"
      ]
     },
     "execution_count": 17,
     "metadata": {},
     "output_type": "execute_result"
    }
   ],
   "source": [
    "# Corrección de datos de Población de Florida en 2001\n",
    "diccionario[\"Diccionario_Florida\"][\"Poblacion_2001_Florida\"] = 16054328\n",
    "diccionario[\"Diccionario_Florida\"]"
   ]
  },
  {
   "cell_type": "markdown",
   "id": "9ee8d4d2-4da6-402f-b86f-ffb3cc5d35d3",
   "metadata": {},
   "source": [
    "### d. Se incluye una nueva clave “Días desde fundación nombre_estado” que corresponde al número de días que han pasado desde la fundación del Estado hasta la actualidad."
   ]
  },
  {
   "cell_type": "code",
   "execution_count": 7,
   "id": "3584b07a-ef3b-48a0-8459-8b3337f88fb7",
   "metadata": {},
   "outputs": [
    {
     "name": "stdout",
     "output_type": "stream",
     "text": [
      " Alabama\n",
      "    Días desde fundación: 74673\n",
      "    Meses desde fundación: 2489\n",
      "    \n",
      " Florida\n",
      "    Días desde fundación: 65462\n",
      "    Meses desde fundación: 2182\n",
      "    \n",
      " Georgia\n",
      "    Días desde fundación: 106388\n",
      "    Meses desde fundación: 3546\n",
      "    \n",
      " South_Carolina\n",
      "    Días desde fundación: 90640\n",
      "    Meses desde fundación: 3021\n",
      "    \n"
     ]
    }
   ],
   "source": [
    "# Se importa libreria datetime\n",
    "from datetime import datetime, date\n",
    "\n",
    "# Se agrega la clave “Días desde fundación\" para cada diccionario\n",
    "for clave, valor in diccionario.items():\n",
    "    estado = clave.replace(\"Diccionario_\", \"\")\n",
    "    fecha_fundacion = datetime.strptime(diccionario[clave][f\"Fecha_Fundacion_{estado}\"], '%d/%m/%Y').date()\n",
    "    # Actualizo las fechas de fundacion a formato fecha\n",
    "    diccionario[clave][f\"Fecha_Fundacion_{estado}\"] = fecha_fundacion\n",
    "    # Calculo los dias y meses desde la fundación del estado\n",
    "    dias_desde_fundacion = (date.today() - fecha_fundacion).days\n",
    "    diccionario[clave][f'Dias_Desde_Fundacion_{estado}'] = dias_desde_fundacion\n",
    "    meses_desde_fundacion = dias_desde_fundacion / 30\n",
    "    \n",
    "    print(f\"\"\" {estado}\n",
    "    Días desde fundación: {round(dias_desde_fundacion)}\n",
    "    Meses desde fundación: {round(meses_desde_fundacion)}\n",
    "    \"\"\")"
   ]
  },
  {
   "cell_type": "markdown",
   "id": "281dcca3-c92c-4083-9185-52efa55e51d3",
   "metadata": {},
   "source": [
    "### e. Se calcula una nueva clave del diccionario que sea “Porcentaje mayores de 65 años_nombre_estado”"
   ]
  },
  {
   "cell_type": "code",
   "execution_count": 8,
   "id": "b3a60485-ef05-4aa7-95fb-6ab706a48efa",
   "metadata": {},
   "outputs": [
    {
     "name": "stdout",
     "output_type": "stream",
     "text": [
      "Alabama\n",
      "    Porcentaje mayores de 65 años en 2000: 12.96%\n",
      "    Porcentaje mayores de 65 años en 2001: 12.83%\n",
      "    \n",
      "Florida\n",
      "    Porcentaje mayores de 65 años en 2000: 17.18%\n",
      "    Porcentaje mayores de 65 años en 2001: 15.61%\n",
      "    \n",
      "Georgia\n",
      "    Porcentaje mayores de 65 años en 2000: 9.11%\n",
      "    Porcentaje mayores de 65 años en 2001: 7.87%\n",
      "    \n",
      "South_Carolina\n",
      "    Porcentaje mayores de 65 años en 2000: 11.87%\n",
      "    Porcentaje mayores de 65 años en 2001: 11.34%\n",
      "    \n"
     ]
    }
   ],
   "source": [
    "# Se agrega la clave Porcentaje mayores de 65 años para cada estado\n",
    "for clave, valor in diccionario.items():\n",
    "    estado = clave.replace(\"Diccionario_\", \"\")\n",
    "    # Porcentaje mayores 65 años em 2000\n",
    "    poblacion_mayor_65_en_2000 = diccionario[clave][f\"Poblacion_2000_{estado}\"] - diccionario[clave][f\"Residentes_menores_65_años_2000_{estado}\"]\n",
    "    porcentaje_mayor_65_en_2000 = round(((100 * poblacion_mayor_65_en_2000) / diccionario[clave][f\"Poblacion_2000_{estado}\"]), 2 )\n",
    "    diccionario[clave][f'Porcentaje_mayores_65_2000_{estado}'] = porcentaje_mayor_65_en_2000\n",
    "    # Porcentaje mayores 65 años em 2001\n",
    "    poblacion_mayor_65_en_2001 = diccionario[clave][f\"Poblacion_2001_{estado}\"] - diccionario[clave][f\"Residentes_menores_65_años_2001_{estado}\"]\n",
    "    porcentaje_mayor_65_en_2001 = round(((100 * poblacion_mayor_65_en_2001) / diccionario[clave][f\"Poblacion_2001_{estado}\"]), 2 )\n",
    "    diccionario[clave][f'Porcentaje_mayores_65_2001_{estado}'] = porcentaje_mayor_65_en_2001\n",
    "    print(f\"\"\"{estado}\n",
    "    Porcentaje mayores de 65 años en 2000: {porcentaje_mayor_65_en_2000}%\n",
    "    Porcentaje mayores de 65 años en 2001: {porcentaje_mayor_65_en_2001}%\n",
    "    \"\"\")"
   ]
  },
  {
   "cell_type": "markdown",
   "id": "af1af4f6-0aca-4801-a10f-86ad9a04a54e",
   "metadata": {},
   "source": [
    "### f. Programa que imprime por pantalla el nombre del Estado más antiguo y el más moderno"
   ]
  },
  {
   "cell_type": "code",
   "execution_count": 9,
   "id": "8c87e3f9-f39d-4232-9478-7b91ad34c1ea",
   "metadata": {},
   "outputs": [
    {
     "name": "stdout",
     "output_type": "stream",
     "text": [
      "De acuerdo a la información suministrada:\n",
      "    * El Estado mas antiguo es Georgia (1733)\n",
      "    * El Estado mas reciente es Florida (1845)\n",
      "    \n",
      "Entre estos Estados, hay una diferencia de 112 años\n"
     ]
    }
   ],
   "source": [
    "from datetime import datetime, date\n",
    "\n",
    "def estado_antiguo_moderno(diccionario):\n",
    "    \"\"\"\n",
    "    Retorna un diccionario con el estado mas antiguo y el mas reciente.\n",
    "    \n",
    "    Argumentos:\n",
    "    diccionario - Diccionario con todos los estados, el cual incluye la fecha de fundación.\n",
    "    \"\"\"\n",
    "    estado_mayor = {}\n",
    "    estado_menor = {}\n",
    "    dict_fundacion_estados = {}\n",
    "    mayor = diccionario[\"Diccionario_Alabama\"][\"Fecha_Fundacion_Alabama\"]\n",
    "    menor = diccionario[\"Diccionario_Alabama\"][\"Fecha_Fundacion_Alabama\"]\n",
    "    \n",
    "    for clave, valor in diccionario.items():\n",
    "        estado = clave.replace(\"Diccionario_\", \"\")\n",
    "        #print(f\"{estado}: {valor[f'Fecha_Fundacion_{estado}']}\")\n",
    "        if valor[f\"Fecha_Fundacion_{estado}\"] > mayor: \n",
    "            estado_mayor[\"nombre\"] = estado\n",
    "            mayor = valor[f\"Fecha_Fundacion_{estado}\"]\n",
    "            estado_mayor[\"fecha_fundacion\"] = mayor\n",
    "        if valor[f\"Fecha_Fundacion_{estado}\"] < menor:\n",
    "            estado_menor[\"nombre\"] = estado\n",
    "            menor = valor[f\"Fecha_Fundacion_{estado}\"]\n",
    "            estado_menor[\"fecha_fundacion\"] = menor\n",
    "    \n",
    "    dict_fundacion_estados[\"antiguo\"] = estado_menor\n",
    "    dict_fundacion_estados[\"reciente\"] = estado_mayor\n",
    "    año_fundacion_antiguo = dict_fundacion_estados[\"antiguo\"][\"fecha_fundacion\"].year\n",
    "    año_fundacion_reciente = dict_fundacion_estados[\"reciente\"][\"fecha_fundacion\"].year\n",
    " \n",
    "    print(f\"\"\"De acuerdo a la información suministrada:\n",
    "    * El Estado mas antiguo es {dict_fundacion_estados[\"antiguo\"][\"nombre\"]} ({año_fundacion_antiguo})\n",
    "    * El Estado mas reciente es {dict_fundacion_estados[\"reciente\"][\"nombre\"]} ({año_fundacion_reciente})\n",
    "    \n",
    "Entre estos Estados, hay una diferencia de {año_fundacion_reciente - año_fundacion_antiguo} años\"\"\")\n",
    "       \n",
    "estado_antiguo_moderno(diccionario)"
   ]
  },
  {
   "cell_type": "markdown",
   "id": "d495e625-fba0-46b8-8c01-c1049f16cd29",
   "metadata": {},
   "source": [
    "## Ejercicio 2"
   ]
  },
  {
   "cell_type": "markdown",
   "id": "b90a57dc-59b5-48d7-95fc-d56565656fea",
   "metadata": {},
   "source": [
    "### a. Calculo de años que tardará South Carolina en alcanzar en población a Alabama"
   ]
  },
  {
   "cell_type": "code",
   "execution_count": 10,
   "id": "53a72972-d41c-49e5-97a5-a63d7d880509",
   "metadata": {},
   "outputs": [
    {
     "name": "stdout",
     "output_type": "stream",
     "text": [
      "Tasas de crecimiento poblacional:\n",
      "    * Alabama: 0.066\n",
      "    * South Carolina: 0.098\n"
     ]
    }
   ],
   "source": [
    "# Se importan las librerias\n",
    "import random\n",
    "import math\n",
    "\n",
    "# Calculo de tasa de crecimiento\n",
    "# Loop para garantizar que las tasas sean diferentes y no se genere error de division por zero en la formula de cto poblacional\n",
    "flag = 0\n",
    "\n",
    "while flag != 1:\n",
    "    # Se asume que la tasa de crecimiento de la poblacion para 2002 es un numero aleatorio entre 0 y 0.1\n",
    "    tasa_cto_1 = random.uniform(0, 0.1)\n",
    "    tasa_cto_2 = random.uniform(0, 0.1)\n",
    "    if tasa_cto_1 == tasa_cto_2:\n",
    "        flag = 0\n",
    "    else:\n",
    "        if tasa_cto_1 > tasa_cto_2:\n",
    "            tasa_cto_alabama = tasa_cto_2\n",
    "            tasa_cto_south_carolina = tasa_cto_1\n",
    "        else:\n",
    "            tasa_cto_alabama = tasa_cto_1\n",
    "            tasa_cto_south_carolina = tasa_cto_2\n",
    "        flag = 1\n",
    "print(f\"\"\"Tasas de crecimiento poblacional:\n",
    "    * Alabama: {round(tasa_cto_alabama, 3)}\n",
    "    * South Carolina: {round(tasa_cto_south_carolina, 3)}\"\"\")"
   ]
  },
  {
   "cell_type": "code",
   "execution_count": 11,
   "id": "65debd36-3933-4e3d-a107-2642f162d412",
   "metadata": {},
   "outputs": [
    {
     "name": "stdout",
     "output_type": "stream",
     "text": [
      "Con una tasa de crecimiento de 0.098, South Carolina tardará 3.5 años en alcanzar la población de Alabama en 2001 (4451493 habs)\n"
     ]
    }
   ],
   "source": [
    "# Población de los Estados Alabama y South Carolina en 2001:\n",
    "poblacion_2001_alabama = diccionario['Diccionario_Alabama']['Poblacion_2001_Alabama']\n",
    "poblacion_2001_south_carolina = diccionario['Diccionario_South_Carolina']['Poblacion_2001_South_Carolina']\n",
    "\n",
    "# Calculo del tiempo en que South Carolina alcanza la población de Alabama, usando la formula: Pfutura = P0*((1 + r)**t\n",
    "tiempo_futuro = (math.log(poblacion_2001_south_carolina/poblacion_2001_alabama)) /((math.log(1+tasa_cto_alabama))-(math.log(1+tasa_cto_south_carolina)))\n",
    "print(f\"\"\"Con una tasa de crecimiento de {round(tasa_cto_south_carolina, 3)}, South Carolina tardará {round(tiempo_futuro, 1)} años en alcanzar la población de Alabama en 2001 ({poblacion_2001_alabama} habs)\"\"\")"
   ]
  },
  {
   "cell_type": "markdown",
   "id": "6f04a6d4-3a2a-4971-9e69-3672af85c0b1",
   "metadata": {},
   "source": [
    "### b. Calculo del año en que South Carolina alcanzará en población a Alabama"
   ]
  },
  {
   "cell_type": "code",
   "execution_count": 12,
   "id": "a8b89c21-51b0-4a4d-a705-9719f0e0f5dc",
   "metadata": {},
   "outputs": [
    {
     "name": "stdout",
     "output_type": "stream",
     "text": [
      "Con una tasa de crecimiento de 0.098, South Carolina alcanzará la población de Alabama aproximadamente en el año 2004\n"
     ]
    }
   ],
   "source": [
    "# Año en el que South Carolina alcanzará la poblacion de Alabama de 2001\n",
    "año_actual = 2001\n",
    "año_crecimiento = round(año_actual + tiempo_futuro, 0)\n",
    "print(f\"Con una tasa de crecimiento de {round(tasa_cto_south_carolina, 3)}, South Carolina alcanzará la población de Alabama aproximadamente en el año {int(año_crecimiento)}\")"
   ]
  },
  {
   "cell_type": "markdown",
   "id": "08ffa5a5-0f2f-4f94-894a-99ef1890985a",
   "metadata": {},
   "source": [
    "### c. Calculo del tiempo que tardará South Carolina en alcanzar la población de Alabama teniendo en cuenta la tasa de fallecidos"
   ]
  },
  {
   "cell_type": "code",
   "execution_count": 13,
   "id": "6b476ae8-7b85-4e0e-bc90-4db9c4c81e9c",
   "metadata": {},
   "outputs": [
    {
     "name": "stdout",
     "output_type": "stream",
     "text": [
      "Con una tasa de crecimiento de 0.095, South Carolina tardará 3.33 años en alcanzar una población de 4451493 habs\n"
     ]
    }
   ],
   "source": [
    "# Número de muertes en 2001 para ambos Estados\n",
    "muertes_2001_alabama = diccionario['Diccionario_Alabama']['Muertes_2001_Alabama']\n",
    "muertes_2001_south_carolina = diccionario['Diccionario_South_Carolina']['Muertes_2001_South_Carolina']\n",
    "\n",
    "# Calculo de la tasa de fallecidos\n",
    "tasa_fallecidos_2021_alabama = muertes_2001_alabama/poblacion_2001_alabama\n",
    "tasa_fallecidos_2021_south_carolina = muertes_2001_south_carolina/poblacion_2001_south_carolina\n",
    "\n",
    "# A la tasa de crecimiento se le resta la tasa de fallecidos\n",
    "tasa_cto_alabama_2001 = tasa_cto_alabama - tasa_fallecidos_2021_alabama\n",
    "tasa_cto_south_carolina_2001 = tasa_cto_south_carolina - tasa_fallecidos_2021_south_carolina\n",
    "\n",
    "# Se calcula el tiempo que tardará South Carolina en alcanzar la población de Alabama teniendo en cuenta la tasa de fallecidos\n",
    "tiempo_futuro_2 = (math.log(poblacion_2001_south_carolina/poblacion_2001_alabama)) /((math.log(1+tasa_cto_alabama_2001))-(math.log(1+tasa_cto_south_carolina_2001)))\n",
    "print(f\"\"\"Con una tasa de crecimiento de {round(tasa_cto_south_carolina_2001, 3)}, South Carolina tardará {round(tiempo_futuro_2, 2)} años en alcanzar una población de {poblacion_2001_alabama} habs\"\"\")"
   ]
  },
  {
   "cell_type": "markdown",
   "id": "17186097-fe63-4dee-93d7-1b5befec44c3",
   "metadata": {},
   "source": [
    "## Ejercicio 3"
   ]
  },
  {
   "cell_type": "markdown",
   "id": "1c32d3bb-1ab8-4b51-880e-e178a7eb67be",
   "metadata": {},
   "source": [
    "### Función que genera proyección para el año 2002, utilizando como ratio la comparativa entre los años 2000 y 2001. Además la funcion muestra la población que tendría cada Estado bajo la estimación que devuelve el estudio demográfico."
   ]
  },
  {
   "cell_type": "code",
   "execution_count": 14,
   "id": "89c47e4f-59b7-4dc5-9de8-e55313f5dcba",
   "metadata": {},
   "outputs": [
    {
     "name": "stdout",
     "output_type": "stream",
     "text": [
      "Alabama\n",
      "        * Población según proyección en 2002: 4447102 habs\n",
      "        * Población según estudio demográfico: 1174544 habs\n",
      "Florida\n",
      "        * Población según proyección en 2002: 15982380 habs\n",
      "        * Población según estudio demográfico: 797564 habs\n",
      "Georgia\n",
      "        * Población según proyección en 2002: 8186455 habs\n",
      "        * Población según estudio demográfico: 2421521 habs\n",
      "South_Carolina\n",
      "        * Población según proyección en 2002: 4012014 habs\n",
      "        * Población según estudio demográfico: 1798029 habs\n"
     ]
    }
   ],
   "source": [
    "def generar_proyeccion_cto(diccionario):\n",
    "    \"\"\"\n",
    "    Imprime un diccioario con la población de cada Estado para 2002 teniendo en cuenta la población de los años 2000 y 2001.\n",
    "    \n",
    "    Argumentos:\n",
    "    diccionario - Diccionario con todos los Estados\n",
    "    \"\"\"\n",
    "    for clave, valor in diccionario.items():\n",
    "        estado = clave.replace(\"Diccionario_\", \"\")\n",
    "        # Poblacion de los Estados en 2000 y 2001\n",
    "        poblacion_2000 = diccionario[clave][f'Poblacion_2000_{estado}']\n",
    "        poblacion_2001 = diccionario[clave][f'Poblacion_2001_{estado}']\n",
    "        # Tasa de crecimiento\n",
    "        ratio = poblacion_2001 / (poblacion_2000 * poblacion_2001)\n",
    "        # Poblacion 2002\n",
    "        poblacion_2002 = int(poblacion_2000 * ((1 + ratio) ** 2))\n",
    "        # Se agrega clave al diccionario de cada Estado\n",
    "        diccionario[clave][f'Poblacion_2002_{estado}'] = poblacion_2002\n",
    "        # Calculo de años transcurridos entre la fundación del Estado y 1900\n",
    "        años_hasta_1900 = 1900 - (diccionario[clave][f\"Fecha_Fundacion_{estado}\"]).year \n",
    "        # Función de estudio demografico\n",
    "        poblacion_estudio = int(14500 * años_hasta_1900 + (7000/(2 * años_hasta_1900)) + 1)\n",
    "        # Se agrega clave al diccionario de cada Estado\n",
    "        diccionario[clave][f'Poblacion_Estudio_Demografico_{estado}'] = poblacion_estudio\n",
    "        print(f\"\"\"{estado}\n",
    "        * Población según proyección en 2002: {poblacion_2002} habs\n",
    "        * Población según estudio demográfico: {poblacion_estudio} habs\"\"\")\n",
    "\n",
    "generar_proyeccion_cto(diccionario)"
   ]
  },
  {
   "cell_type": "markdown",
   "id": "323780d7-d6ff-47c9-879c-dbd0afb1c866",
   "metadata": {},
   "source": [
    "## Ejercicio 4"
   ]
  },
  {
   "cell_type": "markdown",
   "id": "f256f568-fe50-4553-b1e0-758cae5954cc",
   "metadata": {},
   "source": [
    "### Creación de mapa para representar los datos de la población de 2002 para cada uno de los estados."
   ]
  },
  {
   "cell_type": "code",
   "execution_count": 15,
   "id": "267e4bd2-3893-4df0-8f27-7b8f737930ee",
   "metadata": {},
   "outputs": [],
   "source": [
    "# Datos de inicialización:\n",
    "latitud = float(\"30.101271\")\n",
    "longitud = float(\"-82.370146\")\n",
    "zoom_inicial = 6"
   ]
  },
  {
   "cell_type": "code",
   "execution_count": 16,
   "id": "08f63ed8-1aef-4b3c-b84d-df88fc4906f0",
   "metadata": {},
   "outputs": [
    {
     "data": {
      "text/html": [
       "<div style=\"width:100%;\"><div style=\"position:relative;width:100%;height:0;padding-bottom:60%;\"><span style=\"color:#565656\">Make this Notebook Trusted to load map: File -> Trust Notebook</span><iframe srcdoc=\"&lt;!DOCTYPE html&gt;\n",
       "&lt;html&gt;\n",
       "&lt;head&gt;\n",
       "    \n",
       "    &lt;meta http-equiv=&quot;content-type&quot; content=&quot;text/html; charset=UTF-8&quot; /&gt;\n",
       "    \n",
       "        &lt;script&gt;\n",
       "            L_NO_TOUCH = false;\n",
       "            L_DISABLE_3D = false;\n",
       "        &lt;/script&gt;\n",
       "    \n",
       "    &lt;style&gt;html, body {width: 100%;height: 100%;margin: 0;padding: 0;}&lt;/style&gt;\n",
       "    &lt;style&gt;#map {position:absolute;top:0;bottom:0;right:0;left:0;}&lt;/style&gt;\n",
       "    &lt;script src=&quot;https://cdn.jsdelivr.net/npm/leaflet@1.9.3/dist/leaflet.js&quot;&gt;&lt;/script&gt;\n",
       "    &lt;script src=&quot;https://code.jquery.com/jquery-3.7.1.min.js&quot;&gt;&lt;/script&gt;\n",
       "    &lt;script src=&quot;https://cdn.jsdelivr.net/npm/bootstrap@5.2.2/dist/js/bootstrap.bundle.min.js&quot;&gt;&lt;/script&gt;\n",
       "    &lt;script src=&quot;https://cdnjs.cloudflare.com/ajax/libs/Leaflet.awesome-markers/2.0.2/leaflet.awesome-markers.js&quot;&gt;&lt;/script&gt;\n",
       "    &lt;link rel=&quot;stylesheet&quot; href=&quot;https://cdn.jsdelivr.net/npm/leaflet@1.9.3/dist/leaflet.css&quot;/&gt;\n",
       "    &lt;link rel=&quot;stylesheet&quot; href=&quot;https://cdn.jsdelivr.net/npm/bootstrap@5.2.2/dist/css/bootstrap.min.css&quot;/&gt;\n",
       "    &lt;link rel=&quot;stylesheet&quot; href=&quot;https://netdna.bootstrapcdn.com/bootstrap/3.0.0/css/bootstrap.min.css&quot;/&gt;\n",
       "    &lt;link rel=&quot;stylesheet&quot; href=&quot;https://cdn.jsdelivr.net/npm/@fortawesome/fontawesome-free@6.2.0/css/all.min.css&quot;/&gt;\n",
       "    &lt;link rel=&quot;stylesheet&quot; href=&quot;https://cdnjs.cloudflare.com/ajax/libs/Leaflet.awesome-markers/2.0.2/leaflet.awesome-markers.css&quot;/&gt;\n",
       "    &lt;link rel=&quot;stylesheet&quot; href=&quot;https://cdn.jsdelivr.net/gh/python-visualization/folium/folium/templates/leaflet.awesome.rotate.min.css&quot;/&gt;\n",
       "    \n",
       "            &lt;meta name=&quot;viewport&quot; content=&quot;width=device-width,\n",
       "                initial-scale=1.0, maximum-scale=1.0, user-scalable=no&quot; /&gt;\n",
       "            &lt;style&gt;\n",
       "                #map_a7c1737e724d65269e9f78d238644524 {\n",
       "                    position: relative;\n",
       "                    width: 100.0%;\n",
       "                    height: 100.0%;\n",
       "                    left: 0.0%;\n",
       "                    top: 0.0%;\n",
       "                }\n",
       "                .leaflet-container { font-size: 1rem; }\n",
       "            &lt;/style&gt;\n",
       "        \n",
       "&lt;/head&gt;\n",
       "&lt;body&gt;\n",
       "    \n",
       "    \n",
       "            &lt;div class=&quot;folium-map&quot; id=&quot;map_a7c1737e724d65269e9f78d238644524&quot; &gt;&lt;/div&gt;\n",
       "        \n",
       "&lt;/body&gt;\n",
       "&lt;script&gt;\n",
       "    \n",
       "    \n",
       "            var map_a7c1737e724d65269e9f78d238644524 = L.map(\n",
       "                &quot;map_a7c1737e724d65269e9f78d238644524&quot;,\n",
       "                {\n",
       "                    center: [30.101271, -82.370146],\n",
       "                    crs: L.CRS.EPSG3857,\n",
       "                    zoom: 6,\n",
       "                    zoomControl: true,\n",
       "                    preferCanvas: false,\n",
       "                    title: &quot;Poblaci\\u00f3n Estados 2002&quot;,\n",
       "                }\n",
       "            );\n",
       "\n",
       "            \n",
       "\n",
       "        \n",
       "    \n",
       "            var tile_layer_97dae6594049083e6468eddbce1bc92d = L.tileLayer(\n",
       "                &quot;https://tile.openstreetmap.org/{z}/{x}/{y}.png&quot;,\n",
       "                {&quot;attribution&quot;: &quot;\\u0026copy; \\u003ca href=\\&quot;https://www.openstreetmap.org/copyright\\&quot;\\u003eOpenStreetMap\\u003c/a\\u003e contributors&quot;, &quot;detectRetina&quot;: false, &quot;maxNativeZoom&quot;: 19, &quot;maxZoom&quot;: 19, &quot;minZoom&quot;: 0, &quot;noWrap&quot;: false, &quot;opacity&quot;: 1, &quot;subdomains&quot;: &quot;abc&quot;, &quot;tms&quot;: false}\n",
       "            );\n",
       "        \n",
       "    \n",
       "            tile_layer_97dae6594049083e6468eddbce1bc92d.addTo(map_a7c1737e724d65269e9f78d238644524);\n",
       "        \n",
       "    \n",
       "            var circle_82071587a7326e088929788540ab0b4e = L.circle(\n",
       "                [33.258882, -86.829534],\n",
       "                {&quot;bubblingMouseEvents&quot;: true, &quot;color&quot;: &quot;blue&quot;, &quot;dashArray&quot;: null, &quot;dashOffset&quot;: null, &quot;fill&quot;: true, &quot;fillColor&quot;: &quot;blue&quot;, &quot;fillOpacity&quot;: 0.6, &quot;fillRule&quot;: &quot;evenodd&quot;, &quot;lineCap&quot;: &quot;round&quot;, &quot;lineJoin&quot;: &quot;round&quot;, &quot;opacity&quot;: 1, &quot;radius&quot;: 44471.02, &quot;stroke&quot;: false, &quot;weight&quot;: 3}\n",
       "            ).addTo(map_a7c1737e724d65269e9f78d238644524);\n",
       "        \n",
       "    \n",
       "        var popup_580e9f5445da9aa8daa39f34dbcfbeaa = L.popup({&quot;maxWidth&quot;: &quot;100%&quot;});\n",
       "\n",
       "        \n",
       "            \n",
       "                var html_1e68a4b252f5b4b8b7f9b0422eb8a24b = $(`&lt;div id=&quot;html_1e68a4b252f5b4b8b7f9b0422eb8a24b&quot; style=&quot;width: 100.0%; height: 100.0%;&quot;&gt;Alabama&lt;/div&gt;`)[0];\n",
       "                popup_580e9f5445da9aa8daa39f34dbcfbeaa.setContent(html_1e68a4b252f5b4b8b7f9b0422eb8a24b);\n",
       "            \n",
       "        \n",
       "\n",
       "        circle_82071587a7326e088929788540ab0b4e.bindPopup(popup_580e9f5445da9aa8daa39f34dbcfbeaa)\n",
       "        ;\n",
       "\n",
       "        \n",
       "    \n",
       "    \n",
       "            circle_82071587a7326e088929788540ab0b4e.bindTooltip(\n",
       "                `&lt;div&gt;\n",
       "                     Alabama\n",
       "                 &lt;/div&gt;`,\n",
       "                {&quot;sticky&quot;: true}\n",
       "            );\n",
       "        \n",
       "    \n",
       "            var circle_7b1a7b11a24a8dfa8e2dc45e49ca0fa1 = L.circle(\n",
       "                [27.756767, -81.463983],\n",
       "                {&quot;bubblingMouseEvents&quot;: true, &quot;color&quot;: &quot;blue&quot;, &quot;dashArray&quot;: null, &quot;dashOffset&quot;: null, &quot;fill&quot;: true, &quot;fillColor&quot;: &quot;blue&quot;, &quot;fillOpacity&quot;: 0.6, &quot;fillRule&quot;: &quot;evenodd&quot;, &quot;lineCap&quot;: &quot;round&quot;, &quot;lineJoin&quot;: &quot;round&quot;, &quot;opacity&quot;: 1, &quot;radius&quot;: 159823.8, &quot;stroke&quot;: false, &quot;weight&quot;: 3}\n",
       "            ).addTo(map_a7c1737e724d65269e9f78d238644524);\n",
       "        \n",
       "    \n",
       "        var popup_417be35ec0de2f2ead58e16ce1529e73 = L.popup({&quot;maxWidth&quot;: &quot;100%&quot;});\n",
       "\n",
       "        \n",
       "            \n",
       "                var html_4e99729f5cab50f105f82a9b8c4c69dc = $(`&lt;div id=&quot;html_4e99729f5cab50f105f82a9b8c4c69dc&quot; style=&quot;width: 100.0%; height: 100.0%;&quot;&gt;Florida&lt;/div&gt;`)[0];\n",
       "                popup_417be35ec0de2f2ead58e16ce1529e73.setContent(html_4e99729f5cab50f105f82a9b8c4c69dc);\n",
       "            \n",
       "        \n",
       "\n",
       "        circle_7b1a7b11a24a8dfa8e2dc45e49ca0fa1.bindPopup(popup_417be35ec0de2f2ead58e16ce1529e73)\n",
       "        ;\n",
       "\n",
       "        \n",
       "    \n",
       "    \n",
       "            circle_7b1a7b11a24a8dfa8e2dc45e49ca0fa1.bindTooltip(\n",
       "                `&lt;div&gt;\n",
       "                     Florida\n",
       "                 &lt;/div&gt;`,\n",
       "                {&quot;sticky&quot;: true}\n",
       "            );\n",
       "        \n",
       "    \n",
       "            var circle_972040a29305e8e0ff3e2235875e6396 = L.circle(\n",
       "                [32.329381, -83.113737],\n",
       "                {&quot;bubblingMouseEvents&quot;: true, &quot;color&quot;: &quot;blue&quot;, &quot;dashArray&quot;: null, &quot;dashOffset&quot;: null, &quot;fill&quot;: true, &quot;fillColor&quot;: &quot;blue&quot;, &quot;fillOpacity&quot;: 0.6, &quot;fillRule&quot;: &quot;evenodd&quot;, &quot;lineCap&quot;: &quot;round&quot;, &quot;lineJoin&quot;: &quot;round&quot;, &quot;opacity&quot;: 1, &quot;radius&quot;: 81864.55, &quot;stroke&quot;: false, &quot;weight&quot;: 3}\n",
       "            ).addTo(map_a7c1737e724d65269e9f78d238644524);\n",
       "        \n",
       "    \n",
       "        var popup_be2765deb5cba98300a60abba92e11cc = L.popup({&quot;maxWidth&quot;: &quot;100%&quot;});\n",
       "\n",
       "        \n",
       "            \n",
       "                var html_8539cb7ab4fd16b3c69f6af2707d5658 = $(`&lt;div id=&quot;html_8539cb7ab4fd16b3c69f6af2707d5658&quot; style=&quot;width: 100.0%; height: 100.0%;&quot;&gt;Georgia&lt;/div&gt;`)[0];\n",
       "                popup_be2765deb5cba98300a60abba92e11cc.setContent(html_8539cb7ab4fd16b3c69f6af2707d5658);\n",
       "            \n",
       "        \n",
       "\n",
       "        circle_972040a29305e8e0ff3e2235875e6396.bindPopup(popup_be2765deb5cba98300a60abba92e11cc)\n",
       "        ;\n",
       "\n",
       "        \n",
       "    \n",
       "    \n",
       "            circle_972040a29305e8e0ff3e2235875e6396.bindTooltip(\n",
       "                `&lt;div&gt;\n",
       "                     Georgia\n",
       "                 &lt;/div&gt;`,\n",
       "                {&quot;sticky&quot;: true}\n",
       "            );\n",
       "        \n",
       "    \n",
       "            var circle_093654ce2057e62d1cc95753a7a1139c = L.circle(\n",
       "                [33.687439, -80.436374],\n",
       "                {&quot;bubblingMouseEvents&quot;: true, &quot;color&quot;: &quot;blue&quot;, &quot;dashArray&quot;: null, &quot;dashOffset&quot;: null, &quot;fill&quot;: true, &quot;fillColor&quot;: &quot;blue&quot;, &quot;fillOpacity&quot;: 0.6, &quot;fillRule&quot;: &quot;evenodd&quot;, &quot;lineCap&quot;: &quot;round&quot;, &quot;lineJoin&quot;: &quot;round&quot;, &quot;opacity&quot;: 1, &quot;radius&quot;: 40120.14, &quot;stroke&quot;: false, &quot;weight&quot;: 3}\n",
       "            ).addTo(map_a7c1737e724d65269e9f78d238644524);\n",
       "        \n",
       "    \n",
       "        var popup_542bd7705c42e9ff52f911f6059eb5b3 = L.popup({&quot;maxWidth&quot;: &quot;100%&quot;});\n",
       "\n",
       "        \n",
       "            \n",
       "                var html_b3ea661a4e74baac03b7afbffd8b98c7 = $(`&lt;div id=&quot;html_b3ea661a4e74baac03b7afbffd8b98c7&quot; style=&quot;width: 100.0%; height: 100.0%;&quot;&gt;South_Carolina&lt;/div&gt;`)[0];\n",
       "                popup_542bd7705c42e9ff52f911f6059eb5b3.setContent(html_b3ea661a4e74baac03b7afbffd8b98c7);\n",
       "            \n",
       "        \n",
       "\n",
       "        circle_093654ce2057e62d1cc95753a7a1139c.bindPopup(popup_542bd7705c42e9ff52f911f6059eb5b3)\n",
       "        ;\n",
       "\n",
       "        \n",
       "    \n",
       "    \n",
       "            circle_093654ce2057e62d1cc95753a7a1139c.bindTooltip(\n",
       "                `&lt;div&gt;\n",
       "                     South_Carolina\n",
       "                 &lt;/div&gt;`,\n",
       "                {&quot;sticky&quot;: true}\n",
       "            );\n",
       "        \n",
       "&lt;/script&gt;\n",
       "&lt;/html&gt;\" style=\"position:absolute;width:100%;height:100%;left:0;top:0;border:none !important;\" allowfullscreen webkitallowfullscreen mozallowfullscreen></iframe></div></div>"
      ],
      "text/plain": [
       "<folium.folium.Map at 0x7ba9976a3e10>"
      ]
     },
     "execution_count": 16,
     "metadata": {},
     "output_type": "execute_result"
    }
   ],
   "source": [
    "import folium\n",
    "\n",
    "mapa = folium.Map(\n",
    "    location=[latitud, longitud], \n",
    "    zoom_start=zoom_inicial,\n",
    "    title=\"Población Estados 2002\")\n",
    "\n",
    "for clave, valor in diccionario.items():\n",
    "    estado = clave.replace(\"Diccionario_\", \"\")\n",
    "    radius = (diccionario[clave][f\"Poblacion_2002_{estado}\"])/100\n",
    "    lat_estado = float(diccionario[clave][f\"Latitud_{estado}\"])\n",
    "    lon_estado = float(diccionario[clave][f\"Longitud_{estado}\"])\n",
    "    \n",
    "    folium.Circle(\n",
    "        location=[lat_estado, lon_estado],\n",
    "        radius=radius,\n",
    "        color=\"blue\",\n",
    "        stroke=False,\n",
    "        fill=True,\n",
    "        fill_opacity=0.6,\n",
    "        opacity=1,\n",
    "        popup=estado,\n",
    "        tooltip=estado\n",
    "    ).add_to(mapa)\n",
    "mapa"
   ]
  }
 ],
 "metadata": {
  "kernelspec": {
   "display_name": "Python 3 (ipykernel)",
   "language": "python",
   "name": "python3"
  },
  "language_info": {
   "codemirror_mode": {
    "name": "ipython",
    "version": 3
   },
   "file_extension": ".py",
   "mimetype": "text/x-python",
   "name": "python",
   "nbconvert_exporter": "python",
   "pygments_lexer": "ipython3",
   "version": "3.11.7"
  }
 },
 "nbformat": 4,
 "nbformat_minor": 5
}
