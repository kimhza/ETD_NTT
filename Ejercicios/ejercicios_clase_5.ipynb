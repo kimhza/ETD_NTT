{
 "cells": [
  {
   "cell_type": "markdown",
   "id": "0b5d5a78-b8ca-415c-9f1a-d93492afee40",
   "metadata": {},
   "source": [
    "# Ejercicios clase 5"
   ]
  },
  {
   "cell_type": "code",
   "execution_count": 23,
   "id": "7f84de28-a0d7-4830-8803-db40a6755d8a",
   "metadata": {},
   "outputs": [
    {
     "name": "stdout",
     "output_type": "stream",
     "text": [
      "2024-05-14 08:49:53.293935\n"
     ]
    }
   ],
   "source": [
    "# Ejercicio 1\n",
    "from datetime import datetime\n",
    "\n",
    "fecha_hora = datetime.now()\n",
    "print(fecha_hora)"
   ]
  },
  {
   "cell_type": "code",
   "execution_count": 5,
   "id": "9c4e7aac",
   "metadata": {},
   "outputs": [
    {
     "name": "stdout",
     "output_type": "stream",
     "text": [
      "2024-05-14\n"
     ]
    }
   ],
   "source": [
    "# Ejercicio 2\n",
    "from datetime import date\n",
    "\n",
    "fecha = date.today()\n",
    "print(fecha)"
   ]
  },
  {
   "cell_type": "code",
   "execution_count": 15,
   "id": "18f19987",
   "metadata": {},
   "outputs": [
    {
     "name": "stdout",
     "output_type": "stream",
     "text": [
      "2023-12-26\n"
     ]
    }
   ],
   "source": [
    "# Ejercicio 3\n",
    "from datetime import date\n",
    "\n",
    "fecha = date(2023, 11, 25)\n",
    "nueva_fecha = fecha.replace(month=12, day=26)\n",
    "print(nueva_fecha)"
   ]
  },
  {
   "cell_type": "code",
   "execution_count": 16,
   "id": "d3edc2b4",
   "metadata": {},
   "outputs": [
    {
     "name": "stdout",
     "output_type": "stream",
     "text": [
      "0.617449274389759\n"
     ]
    }
   ],
   "source": [
    "# Ejercicio 4\n",
    "from random import random\n",
    "\n",
    "float_aleatorio = random()\n",
    "print(float_aleatorio)"
   ]
  },
  {
   "cell_type": "code",
   "execution_count": 27,
   "id": "8a68a684",
   "metadata": {},
   "outputs": [
    {
     "name": "stdout",
     "output_type": "stream",
     "text": [
      "Deciaml aleatorio entre 4 y 6: 5.686138054449593\n",
      "Número entero aleatorio entre 4 y 6: 5\n"
     ]
    }
   ],
   "source": [
    "# Ejercicio 5\n",
    "import random\n",
    "\n",
    "float_aleatorio = random.uniform(4,6)\n",
    "print(f\"Deciaml aleatorio entre 4 y 6: {float_aleatorio}\")\n",
    "\n",
    "int_aleatorio = random.randint(4,6)\n",
    "print(f\"Número entero aleatorio entre 4 y 6: {int_aleatorio}\")"
   ]
  },
  {
   "cell_type": "markdown",
   "id": "47e83f41",
   "metadata": {},
   "source": [
    "##### Ejercicio 6\n",
    "La libreria mas usada para trabajar von archivos ZIP es zipfile"
   ]
  },
  {
   "cell_type": "markdown",
   "id": "47e83f41",
   "metadata": {},
   "source": [
    "#### Ejercicio 7\n",
    "La libreria mas usada para leer y esrcibir este tipo de archivos es csv"
   ]
  }
 ],
 "metadata": {
  "kernelspec": {
   "display_name": "Python 3.10.12 64-bit",
   "language": "python",
   "name": "python3"
  },
  "language_info": {
   "codemirror_mode": {
    "name": "ipython",
    "version": 3
   },
   "file_extension": ".py",
   "mimetype": "text/x-python",
   "name": "python",
   "nbconvert_exporter": "python",
   "pygments_lexer": "ipython3",
   "version": "3.10.12"
  },
  "vscode": {
   "interpreter": {
    "hash": "916dbcbb3f70747c44a77c7bcd40155683ae19c65e1c03b4aa3499c5328201f1"
   }
  }
 },
 "nbformat": 4,
 "nbformat_minor": 5
}
