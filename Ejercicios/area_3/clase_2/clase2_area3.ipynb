{
 "cells": [
  {
   "cell_type": "markdown",
   "id": "4ed9822e-7a08-4275-91af-b23ab3e66757",
   "metadata": {},
   "source": [
    "# Ejercicios Clase 2 - Area 3"
   ]
  },
  {
   "cell_type": "code",
   "execution_count": 1,
   "id": "6a46e69a-abca-45c8-8c91-228c4fff110c",
   "metadata": {},
   "outputs": [],
   "source": [
    "# Librerias\n",
    "import numpy as np\n",
    "import pandas as pd"
   ]
  },
  {
   "cell_type": "code",
   "execution_count": 12,
   "id": "30e48aeb-c97e-4262-8900-0ecb9a35ee43",
   "metadata": {},
   "outputs": [
    {
     "data": {
      "text/plain": [
       "array([ 9, 10, 11, 12, 13, 14, 15, 16, 17, 18, 19, 20, 21, 22, 23])"
      ]
     },
     "execution_count": 12,
     "metadata": {},
     "output_type": "execute_result"
    }
   ],
   "source": [
    "# Ejercicio 1\n",
    "arr = np.arange(9, 24)\n",
    "arr"
   ]
  },
  {
   "cell_type": "code",
   "execution_count": 13,
   "id": "7e6fb045-dee9-42b3-94ef-e81711a54b75",
   "metadata": {},
   "outputs": [
    {
     "data": {
      "text/plain": [
       "15"
      ]
     },
     "execution_count": 13,
     "metadata": {},
     "output_type": "execute_result"
    }
   ],
   "source": [
    "# Ejercicio 2\n",
    "arr.size"
   ]
  },
  {
   "cell_type": "code",
   "execution_count": 14,
   "id": "29bb3192-35cd-4812-b0c5-bd3c9ac97cd5",
   "metadata": {},
   "outputs": [
    {
     "data": {
      "text/plain": [
       "array([[ 9, 10, 11, 12, 13, 14, 15, 16],\n",
       "       [17, 18, 19, 20, 21, 22, 23, 24]])"
      ]
     },
     "execution_count": 14,
     "metadata": {},
     "output_type": "execute_result"
    }
   ],
   "source": [
    "# Ejercicio 3\n",
    "arr2 = np.arange(9, 25).reshape(2, 8)\n",
    "arr2"
   ]
  },
  {
   "cell_type": "code",
   "execution_count": 68,
   "id": "4231634f-8572-4aa4-b2cb-1589ad8abb63",
   "metadata": {},
   "outputs": [
    {
     "data": {
      "text/plain": [
       "array([[ 9, 10, 11, 12],\n",
       "       [13, 14, 15, 16],\n",
       "       [17, 18, 19, 20],\n",
       "       [21, 22, 23, 24]])"
      ]
     },
     "execution_count": 68,
     "metadata": {},
     "output_type": "execute_result"
    }
   ],
   "source": [
    "# Ejercicio 4\n",
    "arr2 = np.arange(9, 25).reshape(4, 4)\n",
    "arr2"
   ]
  },
  {
   "cell_type": "code",
   "execution_count": 69,
   "id": "79322d25-3637-414f-a658-32129a534124",
   "metadata": {},
   "outputs": [
    {
     "name": "stdout",
     "output_type": "stream",
     "text": [
      "Array con todos los valores: [3 5 6 1 7 9 2 3 6]\n",
      "h\n",
      "h\n",
      "h\n",
      "h\n"
     ]
    }
   ],
   "source": [
    "# Ejercicio 5\n",
    "arr3 = np.array([3,5,6,1,7,9,2,3,6])\n",
    "print(f\"Array con todos los valores: {arr3}\")\n",
    "\n",
    "for elemento in arr3:\n",
    "    if elemento > 5:\n",
    "        print(\"h\")"
   ]
  },
  {
   "cell_type": "code",
   "execution_count": 27,
   "id": "e85bb72a-52a1-486c-84c1-09ba6f41663d",
   "metadata": {},
   "outputs": [
    {
     "data": {
      "text/plain": [
       "array([0.25, 0.4 , 0.5 ])"
      ]
     },
     "execution_count": 27,
     "metadata": {},
     "output_type": "execute_result"
    }
   ],
   "source": [
    "# Ejercicio 6\n",
    "arr4 = np.array([1,2,3])\n",
    "arr5 = np.array([4,5,6])\n",
    "div_arr = arr4 / arr5\n",
    "div_arr"
   ]
  },
  {
   "cell_type": "code",
   "execution_count": 72,
   "id": "5eb2024c-2c2d-4f7f-8eed-f17a41f7d803",
   "metadata": {},
   "outputs": [
    {
     "name": "stdout",
     "output_type": "stream",
     "text": [
      "[1 2 3] multiplicado por 6 es: [ 6 12 18]\n",
      "[4 5 6] multiplicado por 6 es: [24 30 36]\n"
     ]
    }
   ],
   "source": [
    "# Ejercicio 7\n",
    "arr4 = np.array([1,2,3])\n",
    "mul_arr_4 = arr4 * 6\n",
    "print(f\"{arr4} multiplicado por 6 es: {mul_arr_4}\")\n",
    "\n",
    "arr5 = np.array([4,5,6])\n",
    "mul_arr_5 = arr5 * 6\n",
    "print(f\"{arr5} multiplicado por 6 es: {mul_arr_5}\")"
   ]
  },
  {
   "cell_type": "code",
   "execution_count": 105,
   "id": "109b6a5b-cdea-438b-883f-ca315e9e47d4",
   "metadata": {},
   "outputs": [
    {
     "name": "stdout",
     "output_type": "stream",
     "text": [
      "[ 6 12 18] -> Dimensión: (3,)\n",
      "[24 30 36] -> Dimensión: (3,)\n"
     ]
    }
   ],
   "source": [
    "# Ejercicio 8\n",
    "print(f\"{mul_arr_4} -> Dimensión: {mul_arr_4.shape}\")\n",
    "print(f\"{mul_arr_5} -> Dimensión: {mul_arr_5.shape}\")"
   ]
  },
  {
   "cell_type": "code",
   "execution_count": 103,
   "id": "70888d6d-357e-46fb-82f4-7bd6df139aa3",
   "metadata": {},
   "outputs": [
    {
     "name": "stdout",
     "output_type": "stream",
     "text": [
      "[ 6 12 18] -> Tipo de datos: int64\n",
      "[24 30 36] -> Tipo de datos: int64\n"
     ]
    }
   ],
   "source": [
    "print(f\"{mul_arr_4} -> Tipo de datos: {mul_arr_4.dtype}\")\n",
    "print(f\"{mul_arr_5} -> Tipo de datos: {mul_arr_5.dtype}\")"
   ]
  },
  {
   "cell_type": "code",
   "execution_count": 33,
   "id": "2b386ae5-17a5-4ac4-854f-a98598208c49",
   "metadata": {},
   "outputs": [
    {
     "data": {
      "text/plain": [
       "0    4\n",
       "1    8\n",
       "2    6\n",
       "3    2\n",
       "4    7\n",
       "5    8\n",
       "6    2\n",
       "7    1\n",
       "8    9\n",
       "dtype: int64"
      ]
     },
     "execution_count": 33,
     "metadata": {},
     "output_type": "execute_result"
    }
   ],
   "source": [
    "# Ejercicio 9\n",
    "ser1 = pd.Series([4,8,6,2,7,8,2,1,9])\n",
    "ser1"
   ]
  },
  {
   "cell_type": "code",
   "execution_count": 35,
   "id": "bfbf80ce-1424-463d-9d7a-57eea6d25ef2",
   "metadata": {},
   "outputs": [
    {
     "data": {
      "text/plain": [
       "a    4\n",
       "b    8\n",
       "c    6\n",
       "d    2\n",
       "e    7\n",
       "f    8\n",
       "g    2\n",
       "h    1\n",
       "i    9\n",
       "dtype: int64"
      ]
     },
     "execution_count": 35,
     "metadata": {},
     "output_type": "execute_result"
    }
   ],
   "source": [
    "# Ejercicio 10\n",
    "ser2 = pd.Series([4,8,6,2,7,8,2,1,9], index = [\"a\",\"b\",\"c\",\"d\",\"e\",\"f\",\"g\",\"h\",\"i\"])\n",
    "ser2"
   ]
  },
  {
   "cell_type": "code",
   "execution_count": 109,
   "id": "fd42d05f-8fdb-45d6-8997-e64856d5b64b",
   "metadata": {},
   "outputs": [
    {
     "name": "stdout",
     "output_type": "stream",
     "text": [
      "El elemento ubicado en el indice 'e' es: 7\n"
     ]
    }
   ],
   "source": [
    "# Ejercicio 11\n",
    "valor = ser2.e\n",
    "print(f\"El elemento ubicado en el indice 'e' es: {valor}\")"
   ]
  },
  {
   "cell_type": "code",
   "execution_count": 40,
   "id": "b986a26e-1d82-4d60-8108-a7e1365bd691",
   "metadata": {},
   "outputs": [
    {
     "data": {
      "text/plain": [
       "0    1\n",
       "1    5\n",
       "2    0\n",
       "3    8\n",
       "dtype: int64"
      ]
     },
     "execution_count": 40,
     "metadata": {},
     "output_type": "execute_result"
    }
   ],
   "source": [
    "# Ejercicio 12\n",
    "ser3 = pd.Series([1,5,3,8])\n",
    "ser4 = pd.Series([4,8,3,9])\n",
    "div_ser = ser3 % ser4\n",
    "div_ser"
   ]
  },
  {
   "cell_type": "code",
   "execution_count": 41,
   "id": "1f6ff35f-086a-4332-8e76-8a5f97082bda",
   "metadata": {},
   "outputs": [
    {
     "data": {
      "text/plain": [
       "0     4\n",
       "1    16\n",
       "2    24\n",
       "3    32\n",
       "dtype: int64"
      ]
     },
     "execution_count": 41,
     "metadata": {},
     "output_type": "execute_result"
    }
   ],
   "source": [
    "# Ejercicio 13\n",
    "ser5 = pd.Series([1,4,6,8])\n",
    "mul_ser = ser5 * 4\n",
    "mul_ser"
   ]
  },
  {
   "cell_type": "code",
   "execution_count": 63,
   "id": "8915e47c-531b-47cb-b68f-69941ab3d371",
   "metadata": {},
   "outputs": [
    {
     "data": {
      "text/plain": [
       "0    12.0\n",
       "1    14.0\n",
       "2     8.0\n",
       "3     9.0\n",
       "4    15.0\n",
       "5    10.0\n",
       "6     3.0\n",
       "7    10.0\n",
       "dtype: float64"
      ]
     },
     "execution_count": 63,
     "metadata": {},
     "output_type": "execute_result"
    }
   ],
   "source": [
    "# Ejercicio 14\n",
    "ser6 = pd.Series([4,8,6,2,7,8,2,1,9])\n",
    "ser7 = ser6.shift(-1)\n",
    "ser8 = (ser6 + ser7).dropna()\n",
    "ser8"
   ]
  },
  {
   "cell_type": "code",
   "execution_count": 110,
   "id": "e9b39764-9404-4a2c-b21e-97352b450db0",
   "metadata": {},
   "outputs": [
    {
     "data": {
      "text/plain": [
       "0    12\n",
       "1    14\n",
       "2     8\n",
       "3     9\n",
       "4    15\n",
       "5    10\n",
       "6     3\n",
       "7    10\n",
       "dtype: int64"
      ]
     },
     "execution_count": 110,
     "metadata": {},
     "output_type": "execute_result"
    }
   ],
   "source": [
    "# Ejercicio 14\n",
    "ser6 = pd.Series([4,8,6,2,7,8,2,1,9])\n",
    "lista1 = []\n",
    "\n",
    "for idx, valor in enumerate(ser6):\n",
    "    a = ser6[idx]\n",
    "    if idx < len(ser6) - 1:\n",
    "        b = a + ser6[idx + 1]\n",
    "        lista1.append(b)\n",
    "\n",
    "serie_final = pd.Series(lista1)\n",
    "serie_final"
   ]
  },
  {
   "cell_type": "code",
   "execution_count": 158,
   "id": "911ccd18-5027-4571-b9b7-2e8c137766e9",
   "metadata": {},
   "outputs": [
    {
     "data": {
      "text/html": [
       "<div>\n",
       "<style scoped>\n",
       "    .dataframe tbody tr th:only-of-type {\n",
       "        vertical-align: middle;\n",
       "    }\n",
       "\n",
       "    .dataframe tbody tr th {\n",
       "        vertical-align: top;\n",
       "    }\n",
       "\n",
       "    .dataframe thead th {\n",
       "        text-align: right;\n",
       "    }\n",
       "</style>\n",
       "<table border=\"1\" class=\"dataframe\">\n",
       "  <thead>\n",
       "    <tr style=\"text-align: right;\">\n",
       "      <th></th>\n",
       "      <th>Mes</th>\n",
       "      <th>Ventas</th>\n",
       "      <th>Gastos</th>\n",
       "      <th>Cobrado</th>\n",
       "    </tr>\n",
       "  </thead>\n",
       "  <tbody>\n",
       "    <tr>\n",
       "      <th>0</th>\n",
       "      <td>Enero</td>\n",
       "      <td>10000</td>\n",
       "      <td>6500</td>\n",
       "      <td>S</td>\n",
       "    </tr>\n",
       "    <tr>\n",
       "      <th>1</th>\n",
       "      <td>Febrero</td>\n",
       "      <td>15200</td>\n",
       "      <td>6500</td>\n",
       "      <td>N</td>\n",
       "    </tr>\n",
       "    <tr>\n",
       "      <th>2</th>\n",
       "      <td>Marzo</td>\n",
       "      <td>14300</td>\n",
       "      <td>6500</td>\n",
       "      <td>N</td>\n",
       "    </tr>\n",
       "    <tr>\n",
       "      <th>3</th>\n",
       "      <td>Abril</td>\n",
       "      <td>25800</td>\n",
       "      <td>7850</td>\n",
       "      <td>S</td>\n",
       "    </tr>\n",
       "    <tr>\n",
       "      <th>4</th>\n",
       "      <td>Mayo</td>\n",
       "      <td>2560</td>\n",
       "      <td>6500</td>\n",
       "      <td>S</td>\n",
       "    </tr>\n",
       "    <tr>\n",
       "      <th>5</th>\n",
       "      <td>Junio</td>\n",
       "      <td>12780</td>\n",
       "      <td>8250</td>\n",
       "      <td>N</td>\n",
       "    </tr>\n",
       "    <tr>\n",
       "      <th>6</th>\n",
       "      <td>Julio</td>\n",
       "      <td>32500</td>\n",
       "      <td>6500</td>\n",
       "      <td>S</td>\n",
       "    </tr>\n",
       "    <tr>\n",
       "      <th>7</th>\n",
       "      <td>Agosto</td>\n",
       "      <td>23624</td>\n",
       "      <td>9252</td>\n",
       "      <td>S</td>\n",
       "    </tr>\n",
       "    <tr>\n",
       "      <th>8</th>\n",
       "      <td>Septiembre</td>\n",
       "      <td>12000</td>\n",
       "      <td>6500</td>\n",
       "      <td>S</td>\n",
       "    </tr>\n",
       "    <tr>\n",
       "      <th>9</th>\n",
       "      <td>Octubre</td>\n",
       "      <td>15858</td>\n",
       "      <td>10250</td>\n",
       "      <td>N</td>\n",
       "    </tr>\n",
       "    <tr>\n",
       "      <th>10</th>\n",
       "      <td>Noviembre</td>\n",
       "      <td>23250</td>\n",
       "      <td>12450</td>\n",
       "      <td>S</td>\n",
       "    </tr>\n",
       "    <tr>\n",
       "      <th>11</th>\n",
       "      <td>Diciembre</td>\n",
       "      <td>11630</td>\n",
       "      <td>13000</td>\n",
       "      <td>N</td>\n",
       "    </tr>\n",
       "  </tbody>\n",
       "</table>\n",
       "</div>"
      ],
      "text/plain": [
       "           Mes  Ventas  Gastos Cobrado\n",
       "0        Enero   10000    6500       S\n",
       "1      Febrero   15200    6500       N\n",
       "2        Marzo   14300    6500       N\n",
       "3        Abril   25800    7850       S\n",
       "4         Mayo    2560    6500       S\n",
       "5        Junio   12780    8250       N\n",
       "6        Julio   32500    6500       S\n",
       "7       Agosto   23624    9252       S\n",
       "8   Septiembre   12000    6500       S\n",
       "9      Octubre   15858   10250       N\n",
       "10   Noviembre   23250   12450       S\n",
       "11   Diciembre   11630   13000       N"
      ]
     },
     "execution_count": 158,
     "metadata": {},
     "output_type": "execute_result"
    }
   ],
   "source": [
    "# Ejercicio 15\n",
    "Mes = [\"Enero\", \"Febrero\", \"Marzo\", \"Abril\", \"Mayo\", \"Junio\", \"Julio\", \"Agosto\", \"Septiembre\", \"Octubre\", \"Noviembre\", \"Diciembre\"]\n",
    "Ventas = [10000, 15200, 14300, 25800, 2560, 12780, 32500, 23624, 12000, 15858, 23250, 11630]\n",
    "Gastos = [6500, 6500, 6500, 7850, 6500, 8250, 6500, 9252, 6500, 10250, 12450, 13000]\n",
    "Cobrado = [\"S\", \"N\", \"N\", \"S\", \"S\", \"N\", \"S\", \"S\", \"S\", \"N\", \"S\", \"N\"]\n",
    "df = pd.DataFrame({\"Mes\":Mes, \"Ventas\":Ventas, \"Gastos\":Gastos, \"Cobrado\":Cobrado})\n",
    "df"
   ]
  },
  {
   "cell_type": "code",
   "execution_count": 130,
   "id": "c3434cf9-c3e6-4235-aeb1-9d6db8f23958",
   "metadata": {},
   "outputs": [
    {
     "name": "stdout",
     "output_type": "stream",
     "text": [
      "* El numero de filas del dataframe es: 12\n",
      "* Las columnas del dataframe son: ['Mes' 'Ventas' 'Gastos' 'Cobrado']\n",
      "* El espacio en memoria usado por cada columna en bytes:\n",
      "Index      132\n",
      "Mes         96\n",
      "Ventas      96\n",
      "Gastos      96\n",
      "Cobrado     96\n",
      "dtype: int64\n",
      "\n",
      "* La media de las ventas anuales es 16625.17\n",
      "* Teniendo en cuenta solo esas 2 columnas se podria inferir que si es rentable, ya que las ventas fueron\n",
      "superiores a los gastos; especificamente se obtuvo unas ganancias anuales de 99450\n"
     ]
    }
   ],
   "source": [
    "# Ejercicio 16\n",
    "\n",
    "# Pregunta 1: ¿Cuántas filas tiene el dataframe?\n",
    "filas = df.shape[0]\n",
    "print(f\"* El numero de filas del dataframe es: {filas}\")\n",
    "\n",
    "# Pregunta 2: ¿Cuáles son las columnas que los forman?\n",
    "columnas = df.columns.values\n",
    "print(f\"* Las columnas del dataframe son: {columnas}\")\n",
    "\n",
    "# Pregunta 3: ¿Cuánto espacio ha utilizado en memoria?\n",
    "espacio = df.memory_usage()\n",
    "print(f\"\"\"* El espacio en memoria usado por cada columna en bytes:\n",
    "{espacio}\n",
    "\"\"\")\n",
    "\n",
    "# Pregunta 4: ¿Cuál es la media de las ventas anuales?\n",
    "ventas = df[\"Ventas\"].mean()\n",
    "print(f\"* La media de las ventas anuales es {round(ventas, 2)}\")\n",
    "\n",
    "# Pregunta 5: Teniendo en cuenta solo las columnas Ventas y Gastos, al final de año, ¿crees que la empresa es rentable?\n",
    "beneficio = (df[\"Ventas\"] - df[\"Gastos\"]).sum()\n",
    "print(f\"\"\"* Teniendo en cuenta solo esas 2 columnas se podria inferir que si es rentable, ya que las ventas fueron\n",
    "superiores a los gastos; especificamente se obtuvo unas ganancias anuales de {beneficio}\"\"\")"
   ]
  },
  {
   "cell_type": "code",
   "execution_count": 143,
   "id": "1896d381-dafd-4698-bd45-08eb5c17bd14",
   "metadata": {},
   "outputs": [
    {
     "data": {
      "text/html": [
       "<div>\n",
       "<style scoped>\n",
       "    .dataframe tbody tr th:only-of-type {\n",
       "        vertical-align: middle;\n",
       "    }\n",
       "\n",
       "    .dataframe tbody tr th {\n",
       "        vertical-align: top;\n",
       "    }\n",
       "\n",
       "    .dataframe thead th {\n",
       "        text-align: right;\n",
       "    }\n",
       "</style>\n",
       "<table border=\"1\" class=\"dataframe\">\n",
       "  <thead>\n",
       "    <tr style=\"text-align: right;\">\n",
       "      <th></th>\n",
       "      <th>Mes</th>\n",
       "      <th>Ventas</th>\n",
       "      <th>Gastos</th>\n",
       "      <th>Cobrado</th>\n",
       "    </tr>\n",
       "  </thead>\n",
       "  <tbody>\n",
       "    <tr>\n",
       "      <th>3</th>\n",
       "      <td>Abril</td>\n",
       "      <td>25800</td>\n",
       "      <td>7850</td>\n",
       "      <td>S</td>\n",
       "    </tr>\n",
       "    <tr>\n",
       "      <th>6</th>\n",
       "      <td>Julio</td>\n",
       "      <td>32500</td>\n",
       "      <td>6500</td>\n",
       "      <td>S</td>\n",
       "    </tr>\n",
       "    <tr>\n",
       "      <th>7</th>\n",
       "      <td>Agosto</td>\n",
       "      <td>23624</td>\n",
       "      <td>9252</td>\n",
       "      <td>S</td>\n",
       "    </tr>\n",
       "    <tr>\n",
       "      <th>10</th>\n",
       "      <td>Noviembre</td>\n",
       "      <td>23250</td>\n",
       "      <td>12450</td>\n",
       "      <td>S</td>\n",
       "    </tr>\n",
       "  </tbody>\n",
       "</table>\n",
       "</div>"
      ],
      "text/plain": [
       "          Mes  Ventas  Gastos Cobrado\n",
       "3       Abril   25800    7850       S\n",
       "6       Julio   32500    6500       S\n",
       "7      Agosto   23624    9252       S\n",
       "10  Noviembre   23250   12450       S"
      ]
     },
     "execution_count": 143,
     "metadata": {},
     "output_type": "execute_result"
    }
   ],
   "source": [
    "\"\"\"\n",
    "Ejercicio 17\n",
    "Información sobre los meses en los que se ha facturado por encima de la facturación media anual.\n",
    "\"\"\" \n",
    "df[df[\"Ventas\"] > df[\"Ventas\"].mean()]"
   ]
  },
  {
   "cell_type": "code",
   "execution_count": 147,
   "id": "04f7ebe0-1a89-4ab3-a9e6-d3847fa3d24d",
   "metadata": {},
   "outputs": [
    {
     "data": {
      "text/plain": [
       "1       Febrero\n",
       "2         Marzo\n",
       "5         Junio\n",
       "9       Octubre\n",
       "11    Diciembre\n",
       "Name: Mes, dtype: object"
      ]
     },
     "execution_count": 147,
     "metadata": {},
     "output_type": "execute_result"
    }
   ],
   "source": [
    "\"\"\"\n",
    "Ejercicio 18\n",
    "Meses en los que hay facturas pendientes de cobro\n",
    "\"\"\" \n",
    "df.loc[df[\"Cobrado\"] == \"N\", \"Mes\"]"
   ]
  },
  {
   "cell_type": "code",
   "execution_count": 148,
   "id": "4e2206bd-47a9-4bbf-a9b6-d05f0e69faf6",
   "metadata": {},
   "outputs": [
    {
     "data": {
      "text/html": [
       "<div>\n",
       "<style scoped>\n",
       "    .dataframe tbody tr th:only-of-type {\n",
       "        vertical-align: middle;\n",
       "    }\n",
       "\n",
       "    .dataframe tbody tr th {\n",
       "        vertical-align: top;\n",
       "    }\n",
       "\n",
       "    .dataframe thead th {\n",
       "        text-align: right;\n",
       "    }\n",
       "</style>\n",
       "<table border=\"1\" class=\"dataframe\">\n",
       "  <thead>\n",
       "    <tr style=\"text-align: right;\">\n",
       "      <th></th>\n",
       "      <th>Mes</th>\n",
       "      <th>Ventas</th>\n",
       "      <th>Gastos</th>\n",
       "      <th>Cobrado</th>\n",
       "    </tr>\n",
       "  </thead>\n",
       "  <tbody>\n",
       "    <tr>\n",
       "      <th>4</th>\n",
       "      <td>Mayo</td>\n",
       "      <td>2560</td>\n",
       "      <td>6500</td>\n",
       "      <td>S</td>\n",
       "    </tr>\n",
       "    <tr>\n",
       "      <th>11</th>\n",
       "      <td>Diciembre</td>\n",
       "      <td>11630</td>\n",
       "      <td>13000</td>\n",
       "      <td>N</td>\n",
       "    </tr>\n",
       "  </tbody>\n",
       "</table>\n",
       "</div>"
      ],
      "text/plain": [
       "          Mes  Ventas  Gastos Cobrado\n",
       "4        Mayo    2560    6500       S\n",
       "11  Diciembre   11630   13000       N"
      ]
     },
     "execution_count": 148,
     "metadata": {},
     "output_type": "execute_result"
    }
   ],
   "source": [
    "\"\"\"\n",
    "Ejercicio 19\n",
    "Información sobre los meses en los que los gastos han sido mayores que las ventas.\n",
    "\"\"\"\n",
    "df[df[\"Gastos\"] > df[\"Ventas\"]]"
   ]
  },
  {
   "cell_type": "code",
   "execution_count": 159,
   "id": "881bfebf-f7d6-43f8-a2f9-86a7cc2a1c2c",
   "metadata": {},
   "outputs": [
    {
     "data": {
      "text/html": [
       "<div>\n",
       "<style scoped>\n",
       "    .dataframe tbody tr th:only-of-type {\n",
       "        vertical-align: middle;\n",
       "    }\n",
       "\n",
       "    .dataframe tbody tr th {\n",
       "        vertical-align: top;\n",
       "    }\n",
       "\n",
       "    .dataframe thead th {\n",
       "        text-align: right;\n",
       "    }\n",
       "</style>\n",
       "<table border=\"1\" class=\"dataframe\">\n",
       "  <thead>\n",
       "    <tr style=\"text-align: right;\">\n",
       "      <th></th>\n",
       "      <th>Mes</th>\n",
       "      <th>Ventas</th>\n",
       "      <th>Gastos</th>\n",
       "      <th>Cobrado</th>\n",
       "      <th>Beneficio</th>\n",
       "    </tr>\n",
       "  </thead>\n",
       "  <tbody>\n",
       "    <tr>\n",
       "      <th>0</th>\n",
       "      <td>Enero</td>\n",
       "      <td>10000</td>\n",
       "      <td>6500</td>\n",
       "      <td>S</td>\n",
       "      <td>0</td>\n",
       "    </tr>\n",
       "    <tr>\n",
       "      <th>1</th>\n",
       "      <td>Febrero</td>\n",
       "      <td>15200</td>\n",
       "      <td>6500</td>\n",
       "      <td>N</td>\n",
       "      <td>0</td>\n",
       "    </tr>\n",
       "    <tr>\n",
       "      <th>2</th>\n",
       "      <td>Marzo</td>\n",
       "      <td>14300</td>\n",
       "      <td>6500</td>\n",
       "      <td>N</td>\n",
       "      <td>0</td>\n",
       "    </tr>\n",
       "    <tr>\n",
       "      <th>3</th>\n",
       "      <td>Abril</td>\n",
       "      <td>25800</td>\n",
       "      <td>7850</td>\n",
       "      <td>S</td>\n",
       "      <td>0</td>\n",
       "    </tr>\n",
       "    <tr>\n",
       "      <th>4</th>\n",
       "      <td>Mayo</td>\n",
       "      <td>2560</td>\n",
       "      <td>6500</td>\n",
       "      <td>S</td>\n",
       "      <td>0</td>\n",
       "    </tr>\n",
       "    <tr>\n",
       "      <th>5</th>\n",
       "      <td>Junio</td>\n",
       "      <td>12780</td>\n",
       "      <td>8250</td>\n",
       "      <td>N</td>\n",
       "      <td>0</td>\n",
       "    </tr>\n",
       "    <tr>\n",
       "      <th>6</th>\n",
       "      <td>Julio</td>\n",
       "      <td>32500</td>\n",
       "      <td>6500</td>\n",
       "      <td>S</td>\n",
       "      <td>0</td>\n",
       "    </tr>\n",
       "    <tr>\n",
       "      <th>7</th>\n",
       "      <td>Agosto</td>\n",
       "      <td>23624</td>\n",
       "      <td>9252</td>\n",
       "      <td>S</td>\n",
       "      <td>0</td>\n",
       "    </tr>\n",
       "    <tr>\n",
       "      <th>8</th>\n",
       "      <td>Septiembre</td>\n",
       "      <td>12000</td>\n",
       "      <td>6500</td>\n",
       "      <td>S</td>\n",
       "      <td>0</td>\n",
       "    </tr>\n",
       "    <tr>\n",
       "      <th>9</th>\n",
       "      <td>Octubre</td>\n",
       "      <td>15858</td>\n",
       "      <td>10250</td>\n",
       "      <td>N</td>\n",
       "      <td>0</td>\n",
       "    </tr>\n",
       "    <tr>\n",
       "      <th>10</th>\n",
       "      <td>Noviembre</td>\n",
       "      <td>23250</td>\n",
       "      <td>12450</td>\n",
       "      <td>S</td>\n",
       "      <td>0</td>\n",
       "    </tr>\n",
       "    <tr>\n",
       "      <th>11</th>\n",
       "      <td>Diciembre</td>\n",
       "      <td>11630</td>\n",
       "      <td>13000</td>\n",
       "      <td>N</td>\n",
       "      <td>0</td>\n",
       "    </tr>\n",
       "  </tbody>\n",
       "</table>\n",
       "</div>"
      ],
      "text/plain": [
       "           Mes  Ventas  Gastos Cobrado  Beneficio\n",
       "0        Enero   10000    6500       S          0\n",
       "1      Febrero   15200    6500       N          0\n",
       "2        Marzo   14300    6500       N          0\n",
       "3        Abril   25800    7850       S          0\n",
       "4         Mayo    2560    6500       S          0\n",
       "5        Junio   12780    8250       N          0\n",
       "6        Julio   32500    6500       S          0\n",
       "7       Agosto   23624    9252       S          0\n",
       "8   Septiembre   12000    6500       S          0\n",
       "9      Octubre   15858   10250       N          0\n",
       "10   Noviembre   23250   12450       S          0\n",
       "11   Diciembre   11630   13000       N          0"
      ]
     },
     "execution_count": 159,
     "metadata": {},
     "output_type": "execute_result"
    }
   ],
   "source": [
    "\"\"\"\n",
    "Ejercicio 20\n",
    "Añade una nueva columna al dataframe que hemos estado utilizando, llamada Beneficio, que tenga sus doce valores\n",
    "iguales a 0. NOTA: Crea un nuevo dataframe utilizando diccionarios y lo que sabes sobre ellos.\n",
    "\"\"\"\n",
    "df['Beneficio'] = 0\n",
    "df2 = df\n",
    "df2"
   ]
  },
  {
   "cell_type": "code",
   "execution_count": 163,
   "id": "896f65f0-5501-42ac-ada5-57b113272361",
   "metadata": {},
   "outputs": [
    {
     "data": {
      "text/html": [
       "<div>\n",
       "<style scoped>\n",
       "    .dataframe tbody tr th:only-of-type {\n",
       "        vertical-align: middle;\n",
       "    }\n",
       "\n",
       "    .dataframe tbody tr th {\n",
       "        vertical-align: top;\n",
       "    }\n",
       "\n",
       "    .dataframe thead th {\n",
       "        text-align: right;\n",
       "    }\n",
       "</style>\n",
       "<table border=\"1\" class=\"dataframe\">\n",
       "  <thead>\n",
       "    <tr style=\"text-align: right;\">\n",
       "      <th></th>\n",
       "      <th>Mes</th>\n",
       "      <th>Ventas</th>\n",
       "      <th>Gastos</th>\n",
       "      <th>Cobrado</th>\n",
       "      <th>Beneficio</th>\n",
       "    </tr>\n",
       "  </thead>\n",
       "  <tbody>\n",
       "    <tr>\n",
       "      <th>0</th>\n",
       "      <td>Enero</td>\n",
       "      <td>10000</td>\n",
       "      <td>6500</td>\n",
       "      <td>S</td>\n",
       "      <td>3500</td>\n",
       "    </tr>\n",
       "    <tr>\n",
       "      <th>1</th>\n",
       "      <td>Febrero</td>\n",
       "      <td>15200</td>\n",
       "      <td>6500</td>\n",
       "      <td>N</td>\n",
       "      <td>8700</td>\n",
       "    </tr>\n",
       "    <tr>\n",
       "      <th>2</th>\n",
       "      <td>Marzo</td>\n",
       "      <td>14300</td>\n",
       "      <td>6500</td>\n",
       "      <td>N</td>\n",
       "      <td>7800</td>\n",
       "    </tr>\n",
       "    <tr>\n",
       "      <th>3</th>\n",
       "      <td>Abril</td>\n",
       "      <td>25800</td>\n",
       "      <td>7850</td>\n",
       "      <td>S</td>\n",
       "      <td>17950</td>\n",
       "    </tr>\n",
       "    <tr>\n",
       "      <th>4</th>\n",
       "      <td>Mayo</td>\n",
       "      <td>2560</td>\n",
       "      <td>6500</td>\n",
       "      <td>S</td>\n",
       "      <td>-3940</td>\n",
       "    </tr>\n",
       "    <tr>\n",
       "      <th>5</th>\n",
       "      <td>Junio</td>\n",
       "      <td>12780</td>\n",
       "      <td>8250</td>\n",
       "      <td>N</td>\n",
       "      <td>4530</td>\n",
       "    </tr>\n",
       "    <tr>\n",
       "      <th>6</th>\n",
       "      <td>Julio</td>\n",
       "      <td>32500</td>\n",
       "      <td>6500</td>\n",
       "      <td>S</td>\n",
       "      <td>26000</td>\n",
       "    </tr>\n",
       "    <tr>\n",
       "      <th>7</th>\n",
       "      <td>Agosto</td>\n",
       "      <td>23624</td>\n",
       "      <td>9252</td>\n",
       "      <td>S</td>\n",
       "      <td>14372</td>\n",
       "    </tr>\n",
       "    <tr>\n",
       "      <th>8</th>\n",
       "      <td>Septiembre</td>\n",
       "      <td>12000</td>\n",
       "      <td>6500</td>\n",
       "      <td>S</td>\n",
       "      <td>5500</td>\n",
       "    </tr>\n",
       "    <tr>\n",
       "      <th>9</th>\n",
       "      <td>Octubre</td>\n",
       "      <td>15858</td>\n",
       "      <td>10250</td>\n",
       "      <td>N</td>\n",
       "      <td>5608</td>\n",
       "    </tr>\n",
       "    <tr>\n",
       "      <th>10</th>\n",
       "      <td>Noviembre</td>\n",
       "      <td>23250</td>\n",
       "      <td>12450</td>\n",
       "      <td>S</td>\n",
       "      <td>10800</td>\n",
       "    </tr>\n",
       "    <tr>\n",
       "      <th>11</th>\n",
       "      <td>Diciembre</td>\n",
       "      <td>11630</td>\n",
       "      <td>13000</td>\n",
       "      <td>N</td>\n",
       "      <td>-1370</td>\n",
       "    </tr>\n",
       "  </tbody>\n",
       "</table>\n",
       "</div>"
      ],
      "text/plain": [
       "           Mes  Ventas  Gastos Cobrado  Beneficio\n",
       "0        Enero   10000    6500       S       3500\n",
       "1      Febrero   15200    6500       N       8700\n",
       "2        Marzo   14300    6500       N       7800\n",
       "3        Abril   25800    7850       S      17950\n",
       "4         Mayo    2560    6500       S      -3940\n",
       "5        Junio   12780    8250       N       4530\n",
       "6        Julio   32500    6500       S      26000\n",
       "7       Agosto   23624    9252       S      14372\n",
       "8   Septiembre   12000    6500       S       5500\n",
       "9      Octubre   15858   10250       N       5608\n",
       "10   Noviembre   23250   12450       S      10800\n",
       "11   Diciembre   11630   13000       N      -1370"
      ]
     },
     "execution_count": 163,
     "metadata": {},
     "output_type": "execute_result"
    }
   ],
   "source": [
    "\"\"\"\n",
    "Ejercicio 21\n",
    "Añade una nueva columna al dataframe que hemos estado utilizando, llamada Beneficio, que tenga sus doce valores\n",
    "iguales a 0. NOTA: Crea un nuevo dataframe utilizando diccionarios y lo que sabes sobre ellos.\n",
    "\"\"\"\n",
    "df2['Beneficio'] = df2[\"Ventas\"] - df2[\"Gastos\"]\n",
    "df2"
   ]
  },
  {
   "cell_type": "code",
   "execution_count": 184,
   "id": "22a1257f-68d7-421f-bee3-868ef3218bd4",
   "metadata": {},
   "outputs": [
    {
     "data": {
      "text/html": [
       "<div>\n",
       "<style scoped>\n",
       "    .dataframe tbody tr th:only-of-type {\n",
       "        vertical-align: middle;\n",
       "    }\n",
       "\n",
       "    .dataframe tbody tr th {\n",
       "        vertical-align: top;\n",
       "    }\n",
       "\n",
       "    .dataframe thead th {\n",
       "        text-align: right;\n",
       "    }\n",
       "</style>\n",
       "<table border=\"1\" class=\"dataframe\">\n",
       "  <thead>\n",
       "    <tr style=\"text-align: right;\">\n",
       "      <th></th>\n",
       "      <th>Mes</th>\n",
       "      <th>Beneficio</th>\n",
       "    </tr>\n",
       "  </thead>\n",
       "  <tbody>\n",
       "    <tr>\n",
       "      <th>4</th>\n",
       "      <td>Mayo</td>\n",
       "      <td>-3940</td>\n",
       "    </tr>\n",
       "    <tr>\n",
       "      <th>11</th>\n",
       "      <td>Diciembre</td>\n",
       "      <td>-1370</td>\n",
       "    </tr>\n",
       "  </tbody>\n",
       "</table>\n",
       "</div>"
      ],
      "text/plain": [
       "          Mes  Beneficio\n",
       "4        Mayo      -3940\n",
       "11  Diciembre      -1370"
      ]
     },
     "execution_count": 184,
     "metadata": {},
     "output_type": "execute_result"
    }
   ],
   "source": [
    "\"\"\"\n",
    "Ejercicio 22\n",
    "Meses en los que ha habido pérdidas\n",
    "\"\"\"\n",
    "df2.loc[df2[\"Beneficio\"] < 0, [\"Mes\", \"Beneficio\"]]"
   ]
  },
  {
   "cell_type": "code",
   "execution_count": 170,
   "id": "690c7836-43d3-4bb3-a5c1-f6d8b0471312",
   "metadata": {},
   "outputs": [
    {
     "data": {
      "text/html": [
       "<div>\n",
       "<style scoped>\n",
       "    .dataframe tbody tr th:only-of-type {\n",
       "        vertical-align: middle;\n",
       "    }\n",
       "\n",
       "    .dataframe tbody tr th {\n",
       "        vertical-align: top;\n",
       "    }\n",
       "\n",
       "    .dataframe thead th {\n",
       "        text-align: right;\n",
       "    }\n",
       "</style>\n",
       "<table border=\"1\" class=\"dataframe\">\n",
       "  <thead>\n",
       "    <tr style=\"text-align: right;\">\n",
       "      <th></th>\n",
       "      <th>Mes</th>\n",
       "      <th>Ventas</th>\n",
       "      <th>Gastos</th>\n",
       "      <th>Cobrado</th>\n",
       "      <th>Beneficio</th>\n",
       "    </tr>\n",
       "  </thead>\n",
       "  <tbody>\n",
       "    <tr>\n",
       "      <th>6</th>\n",
       "      <td>Julio</td>\n",
       "      <td>32500</td>\n",
       "      <td>6500</td>\n",
       "      <td>S</td>\n",
       "      <td>26000</td>\n",
       "    </tr>\n",
       "  </tbody>\n",
       "</table>\n",
       "</div>"
      ],
      "text/plain": [
       "     Mes  Ventas  Gastos Cobrado  Beneficio\n",
       "6  Julio   32500    6500       S      26000"
      ]
     },
     "execution_count": 170,
     "metadata": {},
     "output_type": "execute_result"
    }
   ],
   "source": [
    "\"\"\"\n",
    "Ejercicio 23\n",
    "Muestra todos los datos sobre el mes en el que hay un mayor beneficio.\n",
    "\"\"\"\n",
    "df2[df2[\"Beneficio\"] == df2[\"Beneficio\"].max()]"
   ]
  },
  {
   "cell_type": "code",
   "execution_count": 181,
   "id": "52fc812d-0210-4dee-9d03-2b871a42892e",
   "metadata": {},
   "outputs": [
    {
     "name": "stdout",
     "output_type": "stream",
     "text": [
      "La media de los beneficios anuales es 8287.5\n"
     ]
    }
   ],
   "source": [
    "\"\"\"\n",
    "Ejercicio 24\n",
    "Muestra los meses en los que el beneficio ha sido mayor que la media de los beneficios anuales \n",
    "aunque no se hayan cobrado aún todas las facturas.\n",
    "\"\"\"\n",
    "print(f\"La media de los beneficios anuales es {df2['Beneficio'].mean()}\")"
   ]
  },
  {
   "cell_type": "code",
   "execution_count": 182,
   "id": "fbdef73d-59ee-43f0-804b-2e5d35d529ac",
   "metadata": {},
   "outputs": [
    {
     "data": {
      "text/html": [
       "<div>\n",
       "<style scoped>\n",
       "    .dataframe tbody tr th:only-of-type {\n",
       "        vertical-align: middle;\n",
       "    }\n",
       "\n",
       "    .dataframe tbody tr th {\n",
       "        vertical-align: top;\n",
       "    }\n",
       "\n",
       "    .dataframe thead th {\n",
       "        text-align: right;\n",
       "    }\n",
       "</style>\n",
       "<table border=\"1\" class=\"dataframe\">\n",
       "  <thead>\n",
       "    <tr style=\"text-align: right;\">\n",
       "      <th></th>\n",
       "      <th>Mes</th>\n",
       "      <th>Beneficio</th>\n",
       "    </tr>\n",
       "  </thead>\n",
       "  <tbody>\n",
       "    <tr>\n",
       "      <th>1</th>\n",
       "      <td>Febrero</td>\n",
       "      <td>8700</td>\n",
       "    </tr>\n",
       "    <tr>\n",
       "      <th>3</th>\n",
       "      <td>Abril</td>\n",
       "      <td>17950</td>\n",
       "    </tr>\n",
       "    <tr>\n",
       "      <th>6</th>\n",
       "      <td>Julio</td>\n",
       "      <td>26000</td>\n",
       "    </tr>\n",
       "    <tr>\n",
       "      <th>7</th>\n",
       "      <td>Agosto</td>\n",
       "      <td>14372</td>\n",
       "    </tr>\n",
       "    <tr>\n",
       "      <th>10</th>\n",
       "      <td>Noviembre</td>\n",
       "      <td>10800</td>\n",
       "    </tr>\n",
       "  </tbody>\n",
       "</table>\n",
       "</div>"
      ],
      "text/plain": [
       "          Mes  Beneficio\n",
       "1     Febrero       8700\n",
       "3       Abril      17950\n",
       "6       Julio      26000\n",
       "7      Agosto      14372\n",
       "10  Noviembre      10800"
      ]
     },
     "execution_count": 182,
     "metadata": {},
     "output_type": "execute_result"
    }
   ],
   "source": [
    "df2.loc[df2[\"Beneficio\"] > df2[\"Beneficio\"].mean(), [\"Mes\", \"Beneficio\"]]"
   ]
  }
 ],
 "metadata": {
  "kernelspec": {
   "display_name": "Python 3 (ipykernel)",
   "language": "python",
   "name": "python3"
  },
  "language_info": {
   "codemirror_mode": {
    "name": "ipython",
    "version": 3
   },
   "file_extension": ".py",
   "mimetype": "text/x-python",
   "name": "python",
   "nbconvert_exporter": "python",
   "pygments_lexer": "ipython3",
   "version": "3.11.7"
  }
 },
 "nbformat": 4,
 "nbformat_minor": 5
}
