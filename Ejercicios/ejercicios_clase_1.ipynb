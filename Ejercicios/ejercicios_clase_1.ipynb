{
 "cells": [
  {
   "cell_type": "markdown",
   "id": "8083e35f",
   "metadata": {},
   "source": [
    "# Ejercicios Clase 1"
   ]
  },
  {
   "cell_type": "code",
   "execution_count": 1,
   "id": "1fdbeba7-e0e4-44a9-aadc-99909809a842",
   "metadata": {},
   "outputs": [
    {
     "data": {
      "text/plain": [
       "'Estoy empezando este curso'"
      ]
     },
     "execution_count": 1,
     "metadata": {},
     "output_type": "execute_result"
    }
   ],
   "source": [
    "#Ejercicio 1\n",
    "frase = \"Estoy empezando este curso\"\n",
    "frase"
   ]
  },
  {
   "cell_type": "code",
   "execution_count": 2,
   "id": "a868317d-aeec-4d0c-a022-babada98268f",
   "metadata": {},
   "outputs": [
    {
     "data": {
      "text/plain": [
       "8.5"
      ]
     },
     "execution_count": 2,
     "metadata": {},
     "output_type": "execute_result"
    }
   ],
   "source": [
    "#Ejercicio 2\n",
    "calificacion = 8.5\n",
    "calificacion"
   ]
  },
  {
   "cell_type": "code",
   "execution_count": 3,
   "id": "bcf76842-61ac-4bbd-952d-a83fe2f0820d",
   "metadata": {},
   "outputs": [
    {
     "name": "stdout",
     "output_type": "stream",
     "text": [
      "Kim 8.5\n"
     ]
    }
   ],
   "source": [
    "#Ejercicio 3\n",
    "nombre = input(\"Introduce tu nombre\")\n",
    "print(f\"{nombre} {calificacion}\")"
   ]
  },
  {
   "cell_type": "code",
   "execution_count": 4,
   "id": "272a6316-59c5-49a4-9a30-eb0ef1c6175c",
   "metadata": {},
   "outputs": [
    {
     "name": "stdout",
     "output_type": "stream",
     "text": [
      "El resultado de la suma es: 90.7\n",
      "La multiplicación de la suma por el entero es 7074.6\n"
     ]
    }
   ],
   "source": [
    "#Ejercicio 4\n",
    "primer_entero = int(input(\"Introduce un número entero: \"))\n",
    "decimal = float(input(\"Introduce un número decimal: \"))\n",
    "suma_nums = primer_entero + decimal\n",
    "print(f\"El resultado de la suma es: {suma_nums}\")\n",
    "segundo_entero = int(input(\"Introduce un segundo número entero: \"))\n",
    "multiplicacion = suma_nums * segundo_entero\n",
    "print(f\"La multiplicación de la suma por el entero es {multiplicacion}\")"
   ]
  },
  {
   "cell_type": "code",
   "execution_count": 5,
   "id": "6770cb39-fcf9-4790-9ce6-26f09de2e51f",
   "metadata": {},
   "outputs": [
    {
     "name": "stdout",
     "output_type": "stream",
     "text": [
      "El valor de la primera raíz es (-0.625+0.5994789404140899j)\n",
      "El valor de la segunda raíz es (-0.625-0.5994789404140899j)\n"
     ]
    }
   ],
   "source": [
    "#Ejercicio 7\n",
    "a = int(input(\"Introduce el valor de a: \"))\n",
    "b = int(input(\"Introduce el valor de b: \"))\n",
    "c = int(input(\"Introduce el valor de c: \"))\n",
    "\n",
    "#Resultados\n",
    "primera_raiz = (-b+(b**2-(4*a*c))**(1/2))/(2*a)\n",
    "print(f\"El valor de la primera raíz es {primera_raiz}\")\n",
    "\n",
    "segunda_raiz = (-b-(b**2-(4*a*c))**(1/2))/(2*a)\n",
    "print(f\"El valor de la segunda raíz es {segunda_raiz}\")\n"
   ]
  },
  {
   "cell_type": "code",
   "execution_count": 10,
   "id": "23ccbfe4-f109-4e76-80a5-b2729bcf3d33",
   "metadata": {},
   "outputs": [
    {
     "name": "stdout",
     "output_type": "stream",
     "text": [
      "Tu indice de masa corporal es: 24.074074074074073\n"
     ]
    }
   ],
   "source": [
    "#Ejercicio 8\n",
    "peso = int(input(\"Introduce tu peso en Kg: \"))\n",
    "estatura = float(input(\"Introduce tu estatura en metros: \"))\n",
    "\n",
    "#Resultado\n",
    "imc = peso / (estatura ** 2)\n",
    "print(f\"Tu indice de masa corporal es: {imc}\")"
   ]
  },
  {
   "cell_type": "code",
   "execution_count": 7,
   "id": "dc5e542d-fece-4234-80c7-2d3bd3ed61bc",
   "metadata": {},
   "outputs": [
    {
     "name": "stdout",
     "output_type": "stream",
     "text": [
      "Saldo despues del primer año: 1030.0\n",
      "Saldo despues del segundo año: 1060.9\n"
     ]
    }
   ],
   "source": [
    "#Ejercicio 9\n",
    "saldo_inicial = int(input(\"Introduce el saldo de tu cuenta: \"))\n",
    "\n",
    "#Resultado\n",
    "saldo_1 = saldo_inicial * 1.03\n",
    "saldo_2 = saldo_1 * 1.03\n",
    "print(f\"Saldo despues del primer año: {saldo_1}\")\n",
    "print(f\"Saldo despues del segundo año: {saldo_2}\")"
   ]
  },
  {
   "cell_type": "code",
   "execution_count": 8,
   "id": "6e652e49-7b5d-4a63-b8ee-c32729291272",
   "metadata": {},
   "outputs": [
    {
     "name": "stdout",
     "output_type": "stream",
     "text": [
      "Entonces tienes 678.2 libras.\n"
     ]
    }
   ],
   "source": [
    "#Ejercicio 10\n",
    "dolares = int(input(\"¿Cuántos dólares tienes? \"))\n",
    "euros = int(input(\"¿Cuántos euros tienes? \"))\n",
    "\n",
    "#Resultado\n",
    "dolares_a_libras = dolares * 0.83\n",
    "euros_a_libras = euros * 0.88\n",
    "\n",
    "libras = dolares_a_libras + euros_a_libras\n",
    "print(f\"Entonces tienes {libras} libras.\")"
   ]
  },
  {
   "cell_type": "code",
   "execution_count": 9,
   "id": "8fb2e8cc-e387-43de-8650-1eb3e9246e64",
   "metadata": {},
   "outputs": [
    {
     "name": "stdout",
     "output_type": "stream",
     "text": [
      "Ejemplo tiene 7 letras\n"
     ]
    }
   ],
   "source": [
    "#Ejercicio 12\n",
    "palabra = input(\"Introduce una palabra: \")\n",
    "\n",
    "nro_letras = len(palabra)\n",
    "print(f\"{palabra} tiene {nro_letras} letras\")"
   ]
  }
 ],
 "metadata": {
  "kernelspec": {
   "display_name": "Python 3.10.12 64-bit",
   "language": "python",
   "name": "python3"
  },
  "language_info": {
   "codemirror_mode": {
    "name": "ipython",
    "version": 3
   },
   "file_extension": ".py",
   "mimetype": "text/x-python",
   "name": "python",
   "nbconvert_exporter": "python",
   "pygments_lexer": "ipython3",
   "version": "3.10.12"
  },
  "vscode": {
   "interpreter": {
    "hash": "31f2aee4e71d21fbe5cf8b01ff0e069b9275f58929596ceb00d14d90e3e16cd6"
   }
  }
 },
 "nbformat": 4,
 "nbformat_minor": 5
}
