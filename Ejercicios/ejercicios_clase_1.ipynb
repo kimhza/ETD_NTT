{
 "cells": [
  {
   "cell_type": "code",
   "execution_count": 2,
   "id": "1fdbeba7-e0e4-44a9-aadc-99909809a842",
   "metadata": {},
   "outputs": [
    {
     "data": {
      "text/plain": [
       "'Estoy empezando este curso'"
      ]
     },
     "execution_count": 2,
     "metadata": {},
     "output_type": "execute_result"
    }
   ],
   "source": [
    "#Ejercicio 1\n",
    "frase = \"Estoy empezando este curso\"\n",
    "frase"
   ]
  },
  {
   "cell_type": "code",
   "execution_count": 3,
   "id": "a868317d-aeec-4d0c-a022-babada98268f",
   "metadata": {},
   "outputs": [
    {
     "data": {
      "text/plain": [
       "8.5"
      ]
     },
     "execution_count": 3,
     "metadata": {},
     "output_type": "execute_result"
    }
   ],
   "source": [
    "#Ejercicio 2\n",
    "calificacion = 8.5\n",
    "calificacion"
   ]
  },
  {
   "cell_type": "code",
   "execution_count": 4,
   "id": "bcf76842-61ac-4bbd-952d-a83fe2f0820d",
   "metadata": {},
   "outputs": [
    {
     "name": "stdin",
     "output_type": "stream",
     "text": [
      "Introduce tu nombre Kim\n"
     ]
    },
    {
     "name": "stdout",
     "output_type": "stream",
     "text": [
      "Kim 8.5\n"
     ]
    }
   ],
   "source": [
    "#Ejercicio 3\n",
    "nombre = input(\"Introduce tu nombre\")\n",
    "print(f\"{nombre} {calificacion}\")"
   ]
  },
  {
   "cell_type": "code",
   "execution_count": 10,
   "id": "272a6316-59c5-49a4-9a30-eb0ef1c6175c",
   "metadata": {},
   "outputs": [
    {
     "name": "stdin",
     "output_type": "stream",
     "text": [
      "Introduce un número entero:  10\n",
      "Introduce un número decimal:  4.0\n"
     ]
    },
    {
     "name": "stdout",
     "output_type": "stream",
     "text": [
      "El resultado de la suma es: 14.0\n"
     ]
    },
    {
     "name": "stdin",
     "output_type": "stream",
     "text": [
      "Introduce un segundo número entero:  6\n"
     ]
    },
    {
     "name": "stdout",
     "output_type": "stream",
     "text": [
      "La multiplicación de la suma por el entero es 84.0\n"
     ]
    }
   ],
   "source": [
    "#Ejercicio 4\n",
    "primer_entero = int(input(\"Introduce un número entero: \"))\n",
    "decimal = float(input(\"Introduce un número decimal: \"))\n",
    "suma_nums = primer_entero + decimal\n",
    "print(f\"El resultado de la suma es: {suma_nums}\")\n",
    "segundo_entero = int(input(\"Introduce un segundo número entero: \"))\n",
    "multiplicacion = suma_nums * segundo_entero\n",
    "print(f\"La multiplicación de la suma por el entero es {multiplicacion}\")"
   ]
  },
  {
   "cell_type": "code",
   "execution_count": null,
   "id": "d09352d7-f158-40b6-807b-3fb1139c1ab0",
   "metadata": {},
   "outputs": [],
   "source": []
  },
  {
   "cell_type": "code",
   "execution_count": 12,
   "id": "6770cb39-fcf9-4790-9ce6-26f09de2e51f",
   "metadata": {},
   "outputs": [
    {
     "name": "stdin",
     "output_type": "stream",
     "text": [
      "Introduce el valor de a:  2\n",
      "Introduce el valor de b:  3\n",
      "Introduce el valor de c:  4\n"
     ]
    },
    {
     "name": "stdout",
     "output_type": "stream",
     "text": [
      "El valor de la primera raíz es (-0.7499999999999999+1.1989578808281798j)\n",
      "El valor de la segunda raíz es (-0.7500000000000001-1.1989578808281798j)\n"
     ]
    }
   ],
   "source": [
    "#Ejercicio 7\n",
    "a = int(input(\"Introduce el valor de a: \"))\n",
    "b = int(input(\"Introduce el valor de b: \"))\n",
    "c = int(input(\"Introduce el valor de c: \"))\n",
    "\n",
    "#Resultados\n",
    "primera_raiz = (-b+(b**2-(4*a*c))**(1/2))/(2*a)\n",
    "print(f\"El valor de la primera raíz es {primera_raiz}\")\n",
    "\n",
    "segunda_raiz = (-b-(b**2-(4*a*c))**(1/2))/(2*a)\n",
    "print(f\"El valor de la segunda raíz es {segunda_raiz}\")\n"
   ]
  },
  {
   "cell_type": "code",
   "execution_count": 13,
   "id": "23ccbfe4-f109-4e76-80a5-b2729bcf3d33",
   "metadata": {},
   "outputs": [
    {
     "name": "stdin",
     "output_type": "stream",
     "text": [
      "Introduce tu peso en Kg:  60\n",
      "Introduce tu estatura en metros:  1.55\n"
     ]
    },
    {
     "name": "stdout",
     "output_type": "stream",
     "text": [
      "Tu indice de masa corporal es: 24.97398543184183\n"
     ]
    }
   ],
   "source": [
    "#Ejercicio 8\n",
    "peso = int(input(\"Introduce tu peso en Kg: \"))\n",
    "estatura = float(input(\"Introduce tu estatura en metros: \"))\n",
    "\n",
    "#Resultado\n",
    "imc = peso / (estatura ** 2)\n",
    "print(f\"Tu indice de masa corporal es: {imc}\")"
   ]
  },
  {
   "cell_type": "code",
   "execution_count": null,
   "id": "3bfc160a-a80f-493d-acdc-4cc27dbe6ee2",
   "metadata": {},
   "outputs": [],
   "source": []
  },
  {
   "cell_type": "code",
   "execution_count": 16,
   "id": "dc5e542d-fece-4234-80c7-2d3bd3ed61bc",
   "metadata": {},
   "outputs": [
    {
     "name": "stdin",
     "output_type": "stream",
     "text": [
      "Introduce el saldo de tu cuenta:  50000\n"
     ]
    },
    {
     "name": "stdout",
     "output_type": "stream",
     "text": [
      "Saldo despues del primer año: 51500.0\n",
      "Saldo despues del segundo año: 53045.0\n"
     ]
    }
   ],
   "source": [
    "#Ejercicio 9\n",
    "saldo_inicial = int(input(\"Introduce el saldo de tu cuenta: \"))\n",
    "\n",
    "#Resultado\n",
    "saldo_1 = saldo_inicial * 1.03\n",
    "saldo_2 = saldo_1 * 1.03\n",
    "print(f\"Saldo despues del primer año: {saldo_1}\")\n",
    "print(f\"Saldo despues del segundo año: {saldo_2}\")"
   ]
  },
  {
   "cell_type": "code",
   "execution_count": 18,
   "id": "6e652e49-7b5d-4a63-b8ee-c32729291272",
   "metadata": {},
   "outputs": [
    {
     "name": "stdin",
     "output_type": "stream",
     "text": [
      "¿Cuántos dólares tienes?  500\n",
      "¿Cuántos euros tienes?  500\n"
     ]
    },
    {
     "name": "stdout",
     "output_type": "stream",
     "text": [
      "Entonces tienes 855.0 libras.\n"
     ]
    }
   ],
   "source": [
    "#Ejercicio 10\n",
    "dolares = int(input(\"¿Cuántos dólares tienes? \"))\n",
    "euros = int(input(\"¿Cuántos euros tienes? \"))\n",
    "\n",
    "#Resultado\n",
    "dolares_a_libras = dolares * 0.83\n",
    "euros_a_libras = euros * 0.88\n",
    "\n",
    "libras = dolares_a_libras + euros_a_libras\n",
    "print(f\"Entonces tienes {libras} libras.\")"
   ]
  },
  {
   "cell_type": "code",
   "execution_count": null,
   "id": "fe8bb4d7-e544-4888-a2fe-571ca1b144b0",
   "metadata": {},
   "outputs": [],
   "source": []
  },
  {
   "cell_type": "code",
   "execution_count": 20,
   "id": "8fb2e8cc-e387-43de-8650-1eb3e9246e64",
   "metadata": {},
   "outputs": [
    {
     "name": "stdin",
     "output_type": "stream",
     "text": [
      "Introduce una palabra:  ejemplo\n"
     ]
    },
    {
     "name": "stdout",
     "output_type": "stream",
     "text": [
      "ejemplo tiene 7 letras\n"
     ]
    }
   ],
   "source": [
    "#Ejercicio 12\n",
    "palabra = input(\"Introduce una palabra: \")\n",
    "\n",
    "nro_letras = len(palabra)\n",
    "print(f\"{palabra} tiene {nro_letras} letras\")"
   ]
  },
  {
   "cell_type": "code",
   "execution_count": null,
   "id": "879a482e-b9cc-4fac-9776-3307650144d8",
   "metadata": {},
   "outputs": [],
   "source": []
  }
 ],
 "metadata": {
  "kernelspec": {
   "display_name": "Python 3 (ipykernel)",
   "language": "python",
   "name": "python3"
  },
  "language_info": {
   "codemirror_mode": {
    "name": "ipython",
    "version": 3
   },
   "file_extension": ".py",
   "mimetype": "text/x-python",
   "name": "python",
   "nbconvert_exporter": "python",
   "pygments_lexer": "ipython3",
   "version": "3.11.7"
  }
 },
 "nbformat": 4,
 "nbformat_minor": 5
}
