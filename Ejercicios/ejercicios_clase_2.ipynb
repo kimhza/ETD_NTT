{
 "cells": [
  {
   "cell_type": "markdown",
   "id": "f288bd20-2096-43ad-a1c7-8c50d4c807df",
   "metadata": {},
   "source": [
    "# Ejercicios Clase2"
   ]
  },
  {
   "cell_type": "code",
   "execution_count": 1,
   "id": "282d8ec9-0f1d-4f38-9fae-cde9e3cd514e",
   "metadata": {},
   "outputs": [
    {
     "name": "stdin",
     "output_type": "stream",
     "text": [
      "Introduce un numero 2\n"
     ]
    },
    {
     "name": "stdout",
     "output_type": "stream",
     "text": [
      "El numero no es multiplo de 3 y 7\n"
     ]
    }
   ],
   "source": [
    "# Repaso\n",
    "numero = int(input(\"Introduce un numero\"))\n",
    "if numero % 3 == 0 and numero % 7 == 0:\n",
    "    print(\"El numero es multiplo de 3 y 7\")\n",
    "elif numero % 3 == 0:\n",
    "    print(\"El numero es multiplo de 3\")\n",
    "elif numero % 7 ==0:\n",
    "    print(\"El numero es multiplo de 7\")\n",
    "else:\n",
    "    print(\"El numero no es multiplo de 3 y 7\")"
   ]
  },
  {
   "cell_type": "code",
   "execution_count": 9,
   "id": "e179f892-dc37-4b06-9516-91ab7e4ac076",
   "metadata": {},
   "outputs": [
    {
     "name": "stdin",
     "output_type": "stream",
     "text": [
      "Cual es tu edad?  23\n"
     ]
    },
    {
     "name": "stdout",
     "output_type": "stream",
     "text": [
      "Eres mayor de edad\n"
     ]
    }
   ],
   "source": [
    "# Ejercicio 1\n",
    "edad = int(input(\"Cual es tu edad? \"))\n",
    "\n",
    "if edad > 0:\n",
    "    if edad < 18:\n",
    "        print(\"Eres menor de edad\")\n",
    "    else:\n",
    "        print(\"Eres mayor de edad\")\n",
    "else:\n",
    "    print(\"Verifica la edad ingresada\")"
   ]
  },
  {
   "cell_type": "code",
   "execution_count": 10,
   "id": "20c7d6d3-0ab9-4b7d-82ee-6007258df8f5",
   "metadata": {},
   "outputs": [
    {
     "name": "stdin",
     "output_type": "stream",
     "text": [
      "Ingresa un número:  64\n"
     ]
    },
    {
     "name": "stdout",
     "output_type": "stream",
     "text": [
      "Este número es par\n"
     ]
    }
   ],
   "source": [
    "# Ejercicio 2\n",
    "numero = int(input(\"Ingresa un número: \"))\n",
    "\n",
    "if numero % 2  == 0:\n",
    "    print(\"Este número es par\")\n",
    "else:\n",
    "    print(\"Este número es impar\")"
   ]
  },
  {
   "cell_type": "code",
   "execution_count": 14,
   "id": "b2febd34-262d-48a3-b46b-f49acd501092",
   "metadata": {},
   "outputs": [
    {
     "name": "stdin",
     "output_type": "stream",
     "text": [
      "Ingresa un número entero (numerador):  2\n",
      "Ingresa un número entero (denominador):  5\n"
     ]
    },
    {
     "name": "stdout",
     "output_type": "stream",
     "text": [
      "El resultado de la división (2/5) es: 0.4\n"
     ]
    }
   ],
   "source": [
    "# Ejercicio 3\n",
    "numerador = int(input(\"Ingresa un número entero (numerador): \"))\n",
    "denominador = int(input(\"Ingresa un número entero (denominador): \"))\n",
    "\n",
    "if denominador != 0:\n",
    "    operacion = numerador / denominador\n",
    "    print(f\"El resultado de la división ({numerador}/{denominador}) es: {operacion}\")\n",
    "else:\n",
    "    print(\"No se puede realizar la división por 0\")"
   ]
  },
  {
   "cell_type": "code",
   "execution_count": 16,
   "id": "db96cbfd-3068-43b5-9fba-a71e49ceb13a",
   "metadata": {},
   "outputs": [
    {
     "name": "stdin",
     "output_type": "stream",
     "text": [
      "Introduce el año en el que estamos:  2024\n",
      "Introduce un año cualquiera:  2030\n"
     ]
    },
    {
     "name": "stdout",
     "output_type": "stream",
     "text": [
      "Quedan 6 años para llegar al año 2030.\n"
     ]
    }
   ],
   "source": [
    "# Ejercicio 4\n",
    "yr_actual = int(input(\"Introduce el año en el que estamos: \"))\n",
    "yr_compara = int(input(\"Introduce un año cualquiera: \"))\n",
    "\n",
    "if yr_actual < yr_compara:\n",
    "    diferencia = yr_compara - yr_actual\n",
    "    print(f\"Quedan {diferencia} años para llegar al año {yr_compara}.\")\n",
    "elif yr_actual > yr_compara:\n",
    "    diferencia = yr_actual - yr_compara\n",
    "    print(f\"Desde el año {yr_compara} han pasado {diferencia} años.\")\n",
    "else:\n",
    "    print(\"Ambos años son el mismo.\")"
   ]
  },
  {
   "cell_type": "code",
   "execution_count": 23,
   "id": "6d709e27-548a-4b07-8595-8f15d80062c9",
   "metadata": {},
   "outputs": [
    {
     "name": "stdin",
     "output_type": "stream",
     "text": [
      "Ingresa un nombre:  Kim\n",
      "Ingresa otro nombre:  Tom\n"
     ]
    },
    {
     "name": "stdout",
     "output_type": "stream",
     "text": [
      "Ambos nombres terminan por la misma letra\n"
     ]
    }
   ],
   "source": [
    "# Ejercicio 5\n",
    "nombre_1 = input(\"Ingresa un nombre: \").lower()\n",
    "nombre_2 = input(\"Ingresa otro nombre: \").lower()\n",
    "\n",
    "\n",
    "if (nombre_1[0] == nombre_2[0]) and (nombre_1[-1] == nombre_2[-1]):\n",
    "    print(\"Ambos nombres comienzan y terminan por la misma letra\")\n",
    "elif nombre_1[0] == nombre_2[0]:\n",
    "    print(\"Ambos nombres comienzan por la misma letra\")\n",
    "elif nombre_1[-1] == nombre_2[-1]:\n",
    "    print(\"Ambos nombres terminan por la misma letra\")\n",
    "else:\n",
    "    print(\"Los nombres no coinciden\")\n"
   ]
  },
  {
   "cell_type": "code",
   "execution_count": 33,
   "id": "e8391649-1018-4df6-975a-4c3f25b2a285",
   "metadata": {},
   "outputs": [
    {
     "name": "stdin",
     "output_type": "stream",
     "text": [
      "Ingresa tu salario actual:  22000\n"
     ]
    },
    {
     "name": "stdout",
     "output_type": "stream",
     "text": [
      "Tu nuevo salario es: 22549.999999999996\n"
     ]
    }
   ],
   "source": [
    "# Ejercicio 6\n",
    "salario_actual = int(input(\"Ingresa tu salario actual: \"))\n",
    "salario_min = 15000\n",
    "salario_max = 20000\n",
    "\n",
    "if salario_actual < salario_min:\n",
    "    salario_aumentado = salario_actual * 1.1\n",
    "elif salario_actual > salario_min and salario_actual < salario_max:\n",
    "    salario_aumentado = salario_actual * 1.05\n",
    "else:\n",
    "    salario_aumentado = salario_actual * 1.025\n",
    "print(f\"Tu nuevo salario es: {salario_aumentado}\")"
   ]
  },
  {
   "cell_type": "code",
   "execution_count": 38,
   "id": "b4157436-28fb-4ce5-8c7c-30280b620e7d",
   "metadata": {},
   "outputs": [
    {
     "name": "stdin",
     "output_type": "stream",
     "text": [
      "Ingresa una pregunta tipo si/no y la bola mágica te responderá:  Hoy lloverá?\n"
     ]
    },
    {
     "name": "stdout",
     "output_type": "stream",
     "text": [
      "Sin duda alguna.\n"
     ]
    }
   ],
   "source": [
    "# Ejercicio 7\n",
    "import random\n",
    "\n",
    "respuestas = {1:\"Sí, definitivamente sí.\", 2:\"Probablemente.\", 3:\"Sin duda alguna.\", 4:\"No lo sé, pregunta de nuevo.\", \n",
    "              5:\"Prueba más tarde.\", 6:\"Mejor que no lo sepas.\", 7:\"No, definitivamente no.\", 8:\"No pinta muy bien.\",\n",
    "              8:\"Tengo dudas al respecto.\"}\n",
    "\n",
    "pregunta = input(\"Ingresa una pregunta tipo si/no y la bola mágica te responderá: \")\n",
    "eleccion = random.randint(1,9)\n",
    "print(respuestas[eleccion])"
   ]
  },
  {
   "cell_type": "code",
   "execution_count": 44,
   "id": "40ce9d72-3cd9-411b-a2bc-b8a2c50e7349",
   "metadata": {},
   "outputs": [
    {
     "name": "stdin",
     "output_type": "stream",
     "text": [
      "Ingresa tu código pin:  4567\n"
     ]
    },
    {
     "name": "stdout",
     "output_type": "stream",
     "text": [
      "El PIN es incorrecto. Inténtelo de nuevo: \n"
     ]
    },
    {
     "name": "stdin",
     "output_type": "stream",
     "text": [
      "Ingresa de nuevo tu código pin:  9876\n"
     ]
    },
    {
     "name": "stdout",
     "output_type": "stream",
     "text": [
      "El PIN es incorrecto. Inténtelo de nuevo: \n"
     ]
    },
    {
     "name": "stdin",
     "output_type": "stream",
     "text": [
      "Ingresa de nuevo tu código pin:  1234\n"
     ]
    },
    {
     "name": "stdout",
     "output_type": "stream",
     "text": [
      "PIN aceptado\n"
     ]
    }
   ],
   "source": [
    "# Ejercicio 8\n",
    "cod_a_comprobar = int(input(\"Ingresa tu código pin: \"))\n",
    "cod_pin = 1234\n",
    "i = 0\n",
    "\n",
    "while cod_a_comprobar != cod_pin:\n",
    "    print(\"El PIN es incorrecto. Inténtelo de nuevo: \")\n",
    "    cod_a_comprobar = int(input(\"Ingresa de nuevo tu código pin: \"))\n",
    "    i = i + 1\n",
    "\n",
    "print(\"PIN aceptado\")"
   ]
  },
  {
   "cell_type": "code",
   "execution_count": 49,
   "id": "68cd1ad6-56af-47a2-86b0-a8f292296fdf",
   "metadata": {},
   "outputs": [
    {
     "name": "stdin",
     "output_type": "stream",
     "text": [
      "Introduce un número:  34\n",
      "Introduce un número:  2\n",
      "Introduce un número:  4\n",
      "Introduce un número:  2\n",
      "Introduce un número:  0\n"
     ]
    },
    {
     "name": "stdout",
     "output_type": "stream",
     "text": [
      "La suma es: 42\n"
     ]
    }
   ],
   "source": [
    "# Ejercicio 9\n",
    "suma = 0\n",
    "numero = int(input(\"Introduce un número: \"))\n",
    "\n",
    "while numero != 0:\n",
    "    suma = suma + numero\n",
    "    numero = int(input(\"Introduce un número: \"))\n",
    "\n",
    "print(f\"La suma es: {suma}\")"
   ]
  },
  {
   "cell_type": "code",
   "execution_count": 61,
   "id": "1122c232-65c5-41c3-8b38-21e5ff7b6050",
   "metadata": {},
   "outputs": [
    {
     "name": "stdin",
     "output_type": "stream",
     "text": [
      "¿Cuánto dinero quieres ahorrar? 4000\n",
      "¿Cuánto dinero metes en la hucha? 300\n",
      "¿Cuánto dinero metes en la hucha? 2300\n",
      "¿Cuánto dinero metes en la hucha? 1500\n"
     ]
    },
    {
     "name": "stdout",
     "output_type": "stream",
     "text": [
      "Genial, has conseguido llegar a tu objetivo y has ahorrado 4100\n"
     ]
    }
   ],
   "source": [
    "# Ejercicio 10\n",
    "meta_ahorro = int(input(\"¿Cuánto dinero quieres ahorrar?\"))\n",
    "ahorro_total = 0\n",
    "\n",
    "while ahorro_total < meta_ahorro:\n",
    "    dinero = int(input(\"¿Cuánto dinero metes en la hucha?\"))\n",
    "    ahorro_total = ahorro_total + dinero\n",
    "\n",
    "print(f\"Genial, has conseguido llegar a tu objetivo y has ahorrado {ahorro_total}\")"
   ]
  },
  {
   "cell_type": "code",
   "execution_count": 64,
   "id": "0679f397-bb2c-48e4-a122-d3cc2c2e0059",
   "metadata": {},
   "outputs": [
    {
     "name": "stdin",
     "output_type": "stream",
     "text": [
      "Introduce un número positivo: 4\n",
      "Introduce un número positivo: 3\n",
      "Introduce un número positivo: 2\n",
      "Introduce un número positivo: 0\n"
     ]
    },
    {
     "name": "stdout",
     "output_type": "stream",
     "text": [
      "4\n"
     ]
    }
   ],
   "source": [
    "# Ejercicio 11\n",
    "resultado = -1\n",
    "numero = int(input(\"Introduce un número positivo:\"))\n",
    "while numero > 0:\n",
    "   if numero > resultado:\n",
    "       resultado = numero\n",
    "   numero=int(input(\"Introduce un número positivo:\"))\n",
    "print(resultado)"
   ]
  },
  {
   "cell_type": "code",
   "execution_count": 69,
   "id": "c44cc123-fef6-4127-a8cd-7235baa77696",
   "metadata": {},
   "outputs": [
    {
     "name": "stdin",
     "output_type": "stream",
     "text": [
      "Ingresa un número positivo:  4567\n"
     ]
    },
    {
     "name": "stdout",
     "output_type": "stream",
     "text": [
      "El resultado de la suma de cada digito es: 22\n"
     ]
    }
   ],
   "source": [
    "# Ejercicio 12\n",
    "numero = input(\"Ingresa un número positivo: \")\n",
    "suma = 0\n",
    "\n",
    "for digito in numero:\n",
    "    suma += int(digito)\n",
    "    \n",
    "print(f\"El resultado de la suma de cada digito es: {suma}\")"
   ]
  },
  {
   "cell_type": "code",
   "execution_count": 72,
   "id": "231f9af5-2ed2-4e41-bafa-6d88a74ac663",
   "metadata": {},
   "outputs": [
    {
     "name": "stdin",
     "output_type": "stream",
     "text": [
      "Ingresa una palabra:  hola\n",
      "Ingresa una palabra:  gato\n",
      "Ingresa una palabra:  adios\n",
      "Ingresa una palabra:  salir\n"
     ]
    },
    {
     "name": "stdout",
     "output_type": "stream",
     "text": [
      "Programa finalizado\n"
     ]
    }
   ],
   "source": [
    "# Ejercicio 13\n",
    "palabra = input(\"Ingresa una palabra: \").lower()\n",
    "finalizar = \"salir\"\n",
    "i = 0\n",
    "\n",
    "while palabra != finalizar:\n",
    "    palabra = input(\"Ingresa una palabra: \").lower()\n",
    "    i += 1\n",
    "\n",
    "print(\"Programa finalizado\")"
   ]
  },
  {
   "cell_type": "code",
   "execution_count": 74,
   "id": "a98d9832-fdef-4264-8660-14b1bccdd426",
   "metadata": {},
   "outputs": [
    {
     "name": "stdout",
     "output_type": "stream",
     "text": [
      "El cuadrado del número 0 es 0\n",
      "El cuadrado del número 1 es 1\n",
      "El cuadrado del número 2 es 4\n",
      "El cuadrado del número 3 es 9\n",
      "El cuadrado del número 4 es 16\n",
      "El cuadrado del número 5 es 25\n"
     ]
    }
   ],
   "source": [
    "# Ejercicio 14\n",
    "i = 0\n",
    "for i in range(0, 6):\n",
    "    print(f\"El cuadrado del número {i} es {i**2}\")"
   ]
  },
  {
   "cell_type": "code",
   "execution_count": 14,
   "id": "22894a1b-07e6-4ae9-89f4-79cb1511ca89",
   "metadata": {},
   "outputs": [
    {
     "name": "stdin",
     "output_type": "stream",
     "text": [
      "Introduce un número mayor que cero:  0\n"
     ]
    },
    {
     "name": "stdout",
     "output_type": "stream",
     "text": [
      "El número debe ser mayor que cero\n"
     ]
    },
    {
     "name": "stdin",
     "output_type": "stream",
     "text": [
      "Introduce un número mayor que cero:  4\n"
     ]
    },
    {
     "name": "stdout",
     "output_type": "stream",
     "text": [
      "Los divisores del número 4 son 1 2 4 \n"
     ]
    }
   ],
   "source": [
    "# Ejercicio 15\n",
    "numero = int(input(\"Introduce un número mayor que cero: \"))\n",
    "i = 0\n",
    "a = \"\"\n",
    "\n",
    "while i <= numero:\n",
    "    if numero > 0:\n",
    "        if numero % (i + 1) == 0:\n",
    "            a += str(i + 1) + \" \"\n",
    "        i += 1\n",
    "    else:\n",
    "        print(\"El número debe ser mayor que cero\")\n",
    "        numero = int(input(\"Introduce un número mayor que cero: \"))\n",
    "print(f\"Los divisores del número {numero} son {a}\")"
   ]
  },
  {
   "cell_type": "code",
   "execution_count": 78,
   "id": "9e4e3f5c-e2d7-41b1-8a08-852b2abdd14e",
   "metadata": {},
   "outputs": [
    {
     "name": "stdin",
     "output_type": "stream",
     "text": [
      "Introduce un número mayor que cero:  24\n"
     ]
    },
    {
     "name": "stdout",
     "output_type": "stream",
     "text": [
      "Los divisores de 24 son [1, 2, 3, 4, 6, 8, 12]\n"
     ]
    }
   ],
   "source": [
    "# Ejercicio 15 - Version 2\n",
    "numero = int(input(\"Introduce un número mayor que cero: \"))\n",
    "divisores = []\n",
    "i = 1\n",
    "\n",
    "if numero > 0:\n",
    "    while i < numero:\n",
    "        if numero % i == 0:\n",
    "            divisores.append(i)\n",
    "        i += 1\n",
    "    print(f\"Los divisores de {numero} son {divisores}\")\n",
    "else:\n",
    "    print(\"El número no es mayor que cero\")"
   ]
  },
  {
   "cell_type": "code",
   "execution_count": 24,
   "id": "8a32f095-d3ae-4fd4-a9a3-69ac37f592a3",
   "metadata": {},
   "outputs": [
    {
     "name": "stdin",
     "output_type": "stream",
     "text": [
      "Escribe una frase:  Este es un ejemplo\n",
      "Introduce una letra:  e\n"
     ]
    },
    {
     "name": "stdout",
     "output_type": "stream",
     "text": [
      "La letra e aparece 5 veces en la frase: 'Este es un ejemplo'.\n"
     ]
    }
   ],
   "source": [
    "# Ejercicio 16\n",
    "frase = input(\"Escribe una frase: \")\n",
    "letra = input(\"Introduce una letra: \")\n",
    "i = 0\n",
    "count = 0\n",
    "\n",
    "for i in frase.lower():\n",
    "    if i == letra.lower():\n",
    "        count += 1\n",
    "        \n",
    "print(f\"La letra {letra} aparece {count} veces en la frase: '{frase}'.\")"
   ]
  },
  {
   "cell_type": "code",
   "execution_count": 28,
   "id": "5ff829dd-3b4d-46e7-a213-546a6f169f3d",
   "metadata": {},
   "outputs": [
    {
     "name": "stdin",
     "output_type": "stream",
     "text": [
      "Introduce un número:  1\n",
      "Introduce un número mayor que el anterior:  10\n"
     ]
    },
    {
     "name": "stdout",
     "output_type": "stream",
     "text": [
      "1\n",
      "3\n",
      "5\n",
      "7\n",
      "9\n"
     ]
    }
   ],
   "source": [
    "# Ejercicio 17\n",
    "num_min = int(input(\"Introduce un número: \"))\n",
    "num_max = int(input(\"Introduce un número mayor que el anterior: \"))\n",
    "\n",
    "if num_max <= num_min:\n",
    "    print(\"El número no es válido por no ser mayor que el anterior.\")\n",
    "else:\n",
    "    for i in range(num_min, num_max, 2):\n",
    "        print(i)"
   ]
  },
  {
   "cell_type": "code",
   "execution_count": 62,
   "id": "62db6593-14f6-415d-87e6-743fd22a633a",
   "metadata": {},
   "outputs": [
    {
     "name": "stdin",
     "output_type": "stream",
     "text": [
      "Ingresa un número:  2\n"
     ]
    },
    {
     "name": "stdout",
     "output_type": "stream",
     "text": [
      "El número no es mayor que 2\n"
     ]
    },
    {
     "name": "stdin",
     "output_type": "stream",
     "text": [
      "Ingresa otro número:  1\n"
     ]
    },
    {
     "name": "stdout",
     "output_type": "stream",
     "text": [
      "El número no es mayor que 2\n"
     ]
    },
    {
     "name": "stdin",
     "output_type": "stream",
     "text": [
      "Ingresa otro número:  13\n"
     ]
    },
    {
     "name": "stdout",
     "output_type": "stream",
     "text": [
      "El número 13 es primo\n"
     ]
    }
   ],
   "source": [
    "# Ejercicio 18 - while\n",
    "numero = int(input(\"Ingresa un número: \"))\n",
    "i = numero\n",
    "count = 0\n",
    "\n",
    "while i > 0:\n",
    "    if numero > 2:\n",
    "        if numero % i == 0:\n",
    "            count += 1\n",
    "        i -= 1\n",
    "    else:\n",
    "        print(\"El número no es mayor que 2\")\n",
    "        numero = int(input(\"Ingresa otro número: \"))\n",
    "        count += 0\n",
    "    \n",
    "if count >= 2:\n",
    "    print(f\"El número {numero} no es primo\")\n",
    "else:\n",
    "    print(f\"El número {numero} es primo\")\n"
   ]
  },
  {
   "cell_type": "code",
   "execution_count": 34,
   "id": "4209f25a-5537-40e9-9c43-8dff6c597895",
   "metadata": {
    "jupyter": {
     "source_hidden": true
    }
   },
   "outputs": [
    {
     "name": "stdin",
     "output_type": "stream",
     "text": [
      "Ingresa un número:  7\n"
     ]
    },
    {
     "name": "stdout",
     "output_type": "stream",
     "text": [
      "El número 7 es primo\n"
     ]
    }
   ],
   "source": [
    "# Ejercicio 18 - while - version2\n",
    "numero = int(input(\"Ingresa un número: \"))\n",
    "i = numero\n",
    "divisores = []\n",
    "\n",
    "while (numero > 2 and i > 0):\n",
    "    if numero % i == 0:\n",
    "        divisores.append(i)\n",
    "    i -= 1\n",
    "\n",
    "if len(divisores) == 2:\n",
    "    print(f\"El número {numero} es primo\")"
   ]
  },
  {
   "cell_type": "code",
   "execution_count": 17,
   "id": "d870b384-9259-4f42-9e3d-2681b8174712",
   "metadata": {},
   "outputs": [
    {
     "name": "stdin",
     "output_type": "stream",
     "text": [
      "Ingresa un número:  2\n"
     ]
    },
    {
     "name": "stdout",
     "output_type": "stream",
     "text": [
      "El número no es mayor que 2\n"
     ]
    },
    {
     "name": "stdin",
     "output_type": "stream",
     "text": [
      "Ingresa otro número:  1\n"
     ]
    },
    {
     "name": "stdout",
     "output_type": "stream",
     "text": [
      "El número no es mayor que 2\n"
     ]
    },
    {
     "name": "stdin",
     "output_type": "stream",
     "text": [
      "Ingresa otro número:  -2\n"
     ]
    },
    {
     "name": "stdout",
     "output_type": "stream",
     "text": [
      "El número no es mayor que 2\n"
     ]
    },
    {
     "name": "stdin",
     "output_type": "stream",
     "text": [
      "Ingresa otro número:  13\n"
     ]
    },
    {
     "name": "stdout",
     "output_type": "stream",
     "text": [
      "El número 13 es primo\n"
     ]
    }
   ],
   "source": [
    "# Ejercicio 18 - for\n",
    "numero = int(input(\"Ingresa un número: \"))\n",
    "count = 0\n",
    "\n",
    "for i in range(numero, -1, -1):\n",
    "    if numero > 2:\n",
    "        if numero % i == 0:\n",
    "            count += 1\n",
    "    else:\n",
    "        print(\"El número no es mayor que 2\")\n",
    "        numero = int(input(\"Ingresa otro número: \"))\n",
    "        count += 0\n",
    "    \n",
    "if count >= 2:\n",
    "    print(f\"El número {numero} no es primo\")\n",
    "else:\n",
    "    print(f\"El número {numero} es primo\")"
   ]
  },
  {
   "cell_type": "code",
   "execution_count": 18,
   "id": "b43a3c2c-a898-41c1-87b7-37d26f73d824",
   "metadata": {},
   "outputs": [
    {
     "name": "stdout",
     "output_type": "stream",
     "text": [
      "True\n"
     ]
    }
   ],
   "source": [
    "# Ejercicio 19 - Comprobacion\n",
    "print(1 + 4 < 6 and 1 + 2 >= 3)"
   ]
  },
  {
   "cell_type": "code",
   "execution_count": 19,
   "id": "7458ee78-06c4-4edc-a4f5-ee71d545ebf3",
   "metadata": {},
   "outputs": [
    {
     "name": "stdout",
     "output_type": "stream",
     "text": [
      "i vale 0 y j vale 0\n",
      "i vale 0 y j vale 1\n",
      "i vale 0 y j vale 2\n",
      "i vale 0 y j vale 3\n",
      "i vale 0 y j vale 4\n",
      "i vale 0 y j vale 5\n",
      "i vale 0 y j vale 6\n",
      "i vale 1 y j vale 0\n",
      "i vale 1 y j vale 1\n",
      "i vale 1 y j vale 2\n",
      "i vale 1 y j vale 3\n",
      "i vale 1 y j vale 4\n",
      "i vale 1 y j vale 5\n",
      "i vale 1 y j vale 6\n",
      "i vale 2 y j vale 0\n",
      "i vale 2 y j vale 1\n",
      "i vale 2 y j vale 2\n",
      "i vale 2 y j vale 3\n",
      "i vale 2 y j vale 4\n",
      "i vale 2 y j vale 5\n",
      "i vale 2 y j vale 6\n",
      "i vale 3 y j vale 0\n",
      "i vale 3 y j vale 1\n",
      "i vale 3 y j vale 2\n",
      "i vale 3 y j vale 3\n",
      "i vale 3 y j vale 4\n",
      "i vale 3 y j vale 5\n",
      "i vale 3 y j vale 6\n",
      "i vale 4 y j vale 0\n",
      "i vale 4 y j vale 1\n",
      "i vale 4 y j vale 2\n",
      "i vale 4 y j vale 3\n",
      "i vale 4 y j vale 4\n",
      "i vale 4 y j vale 5\n",
      "i vale 4 y j vale 6\n",
      "i vale 5 y j vale 0\n",
      "i vale 5 y j vale 1\n",
      "i vale 5 y j vale 2\n",
      "i vale 5 y j vale 3\n",
      "i vale 5 y j vale 4\n",
      "i vale 5 y j vale 5\n",
      "i vale 5 y j vale 6\n",
      "i vale 6 y j vale 0\n",
      "i vale 6 y j vale 1\n",
      "i vale 6 y j vale 2\n",
      "i vale 6 y j vale 3\n",
      "i vale 6 y j vale 4\n",
      "i vale 6 y j vale 5\n",
      "i vale 6 y j vale 6\n"
     ]
    }
   ],
   "source": [
    "# Ejercicio 20 - Comprobacion\n",
    "i = 0\n",
    "\n",
    "while i != 3 + 2*4 / 2:\n",
    "    j = 0\n",
    "    while j != 3 + (2*4 / 2):\n",
    "        print(\"i vale\", i, \"y j vale\", j)\n",
    "        j += 1\n",
    "    i += 1"
   ]
  },
  {
   "cell_type": "code",
   "execution_count": null,
   "id": "a272d133-1d14-4524-9ae4-280ce3751d8a",
   "metadata": {},
   "outputs": [],
   "source": [
    "# Ejercicio 21\n"
   ]
  }
 ],
 "metadata": {
  "kernelspec": {
   "display_name": "Python 3 (ipykernel)",
   "language": "python",
   "name": "python3"
  },
  "language_info": {
   "codemirror_mode": {
    "name": "ipython",
    "version": 3
   },
   "file_extension": ".py",
   "mimetype": "text/x-python",
   "name": "python",
   "nbconvert_exporter": "python",
   "pygments_lexer": "ipython3",
   "version": "3.11.7"
  }
 },
 "nbformat": 4,
 "nbformat_minor": 5
}
