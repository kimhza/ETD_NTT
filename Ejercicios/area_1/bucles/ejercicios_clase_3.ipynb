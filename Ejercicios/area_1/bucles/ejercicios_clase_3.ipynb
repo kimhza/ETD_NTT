{
 "cells": [
  {
   "cell_type": "markdown",
   "id": "0b5d5a78-b8ca-415c-9f1a-d93492afee40",
   "metadata": {},
   "source": [
    "# Ejercicios clase 3"
   ]
  },
  {
   "cell_type": "code",
   "execution_count": 1,
   "id": "7f84de28-a0d7-4830-8803-db40a6755d8a",
   "metadata": {},
   "outputs": [
    {
     "name": "stdout",
     "output_type": "stream",
     "text": [
      "['rojo', 'verde', 'amarillo', 'azul', 'blanco']\n"
     ]
    }
   ],
   "source": [
    "# Ejercicio 1\n",
    "colores = [\"rojo\", \"verde\", \"amarillo\", \"azul\", \"blanco\"]\n",
    "print(colores)"
   ]
  },
  {
   "cell_type": "code",
   "execution_count": 2,
   "id": "9c4e7aac",
   "metadata": {},
   "outputs": [
    {
     "name": "stdout",
     "output_type": "stream",
     "text": [
      "verde\n"
     ]
    }
   ],
   "source": [
    "# Ejercicio 2\n",
    "colores = [\"rojo\", \"verde\", \"amarillo\", \"azul\", \"blanco\"]\n",
    "print(colores[1])"
   ]
  },
  {
   "cell_type": "code",
   "execution_count": 6,
   "id": "18f19987",
   "metadata": {},
   "outputs": [
    {
     "name": "stdout",
     "output_type": "stream",
     "text": [
      "[1, 2, 3, 4, 5, 6, 7, 8, 9, 10]\n"
     ]
    }
   ],
   "source": [
    "# Ejercicio 3\n",
    "numeros = [i for i in range(1, 11)]\n",
    "print(numeros)"
   ]
  },
  {
   "cell_type": "code",
   "execution_count": 8,
   "id": "d3edc2b4",
   "metadata": {},
   "outputs": [
    {
     "name": "stdout",
     "output_type": "stream",
     "text": [
      "[10, 11, 12, 13, 14, 15, 16, 17, 18, 19, 20]\n"
     ]
    }
   ],
   "source": [
    "# Ejercicio 4\n",
    "min_numero = int(input(\"Ingresa un numero: \"))\n",
    "numeros = [i for i in range(min_numero, min_numero + 11)]\n",
    "print(numeros)\n"
   ]
  },
  {
   "cell_type": "code",
   "execution_count": 7,
   "id": "8a68a684",
   "metadata": {},
   "outputs": [
    {
     "name": "stdout",
     "output_type": "stream",
     "text": [
      "Las películas aprobadas son: ['El Padrino', 'Tiburón', 'Pulp Fiction', 'Star Wars']\n"
     ]
    }
   ],
   "source": [
    "# Ejercicio 5\n",
    "peliculas = [\"El Padrino\", \"Tiburón\", \"Los Cazafantasmas\", \"El Exorcista\", \"Pulp Fiction\", \"Star Wars\"]\n",
    "aprobadas = []\n",
    "i = 0\n",
    "\n",
    "while i < 6:\n",
    "    puntuacion = int(input(f\"Ingresa un puntaje entre 1 y 10 para la pelicula {peliculas[i]}: \"))\n",
    "    if puntuacion >= 5:\n",
    "        aprobadas.append(peliculas[i])\n",
    "    i += 1\n",
    "    \n",
    "print(f\"Las películas aprobadas son: {aprobadas}\")"
   ]
  },
  {
   "cell_type": "code",
   "execution_count": 7,
   "id": "47e83f41",
   "metadata": {},
   "outputs": [
    {
     "name": "stdout",
     "output_type": "stream",
     "text": [
      "['rojo', 'verde', 'amarillo', 'azul', 'blanco', 'verde', 'rojo', 'rojo', 'verde', 'amarillo', 'azul', 'blanco']\n"
     ]
    }
   ],
   "source": [
    "# Ejercicio 6\n",
    "colores = ['rojo', 'verde', 'amarillo', 'azul', 'blanco', 'verde', 'rojo', 'rojo', 'verde']\n",
    "\n",
    "for color in colores:\n",
    "    if colores.count(color) == 1:\n",
    "        colores.append(color)\n",
    "        \n",
    "print(colores)"
   ]
  },
  {
   "cell_type": "code",
   "execution_count": 8,
   "id": "47e83f41",
   "metadata": {},
   "outputs": [
    {
     "name": "stdout",
     "output_type": "stream",
     "text": [
      "El color azul está en la posición: 3\n"
     ]
    }
   ],
   "source": [
    "# Ejercicio 7\n",
    "colores = [\"rojo\",\"verde\",\"amarillo\",\"azul\",\"blanco\",\"negro\"]\n",
    "color_usuario = input(\"Ingresa un color: \").lower()\n",
    "\n",
    "if color_usuario in colores:\n",
    "    posicion = colores.index(color_usuario)\n",
    "    print(f\"El color {color_usuario} está en la posición: {posicion}\")\n",
    "else:\n",
    "    print(f\"El color {color_usuario} no está en la lista\")"
   ]
  },
  {
   "cell_type": "code",
   "execution_count": 25,
   "id": "ef387bf7",
   "metadata": {},
   "outputs": [
    {
     "name": "stdout",
     "output_type": "stream",
     "text": [
      "[1, 2, 3, 16, 18, 21, 23, 25]\n"
     ]
    }
   ],
   "source": [
    "# Ejercicio 8\n",
    "numero = int(input(\"Ingresa un número entre 1 y 30: \"))\n",
    "lista_nums = [1, 2, 3, 16, 18, 21, 25]\n",
    "\n",
    "if numero in lista_nums:\n",
    "    print(f\"El número {numero} ya está en la lista.\")\n",
    "else:\n",
    "    if numero > 0 and numero < 31:\n",
    "        for elem in lista_nums:\n",
    "            if numero < elem:\n",
    "                posicion = lista_nums.index(elem)\n",
    "                lista_nums.insert(posicion, numero)\n",
    "                break\n",
    "        print(lista_nums)\n",
    "    else:\n",
    "        print(\"Se debe ingresar un número entre 1 y 30.\")\n",
    "\n",
    "    "
   ]
  },
  {
   "cell_type": "code",
   "execution_count": 30,
   "id": "76ac5ae3",
   "metadata": {},
   "outputs": [
    {
     "name": "stdout",
     "output_type": "stream",
     "text": [
      "El mes diciembre se encuentra en la posición 11\n"
     ]
    }
   ],
   "source": [
    "# Ejercicio 9\n",
    "\n",
    "meses = (\"enero\", \"febrero\", \"marzo\", \"abril\", \"mayo\", \"junio\", \"julio\", \n",
    "         \"agosto\", \"septiembre\", \"octubre\", \"noviembre\", \"diciembre\")\n",
    "posicion = int(input(\"Ingresa un número de mes: \"))\n",
    "lista_meses = list(meses)\n",
    "i = 0\n",
    "\n",
    "while(posicion >= 0):\n",
    "    if posicion >= 0 and posicion <= 11:\n",
    "        print(f\"El mes {lista_meses[posicion]} se encuentra en la posición {posicion}\")\n",
    "        break\n",
    "    else:\n",
    "        print(\"Las posiciones de los meses van de 0 a 11.\")\n",
    "        posicion = int(input(\"Ingresa un número de mes: \"))\n",
    "    i += 1"
   ]
  },
  {
   "cell_type": "code",
   "execution_count": 33,
   "id": "4facbdf0",
   "metadata": {},
   "outputs": [
    {
     "name": "stdout",
     "output_type": "stream",
     "text": [
      "El número 6 se encuentra 4 veces\n"
     ]
    }
   ],
   "source": [
    "# Ejercicio 10\n",
    "numeros = (5, 6, 4, 8, 19, 0, 4, 6, 6, 5, 4, 8, 3, 5, 6, 0)\n",
    "num_usuario = int(input(\"Ingresa un número: \"))\n",
    "conteo_num = numeros.count(num_usuario)\n",
    "\n",
    "if conteo_num > 1:\n",
    "    print(f\"El número {num_usuario} se encuentra {conteo_num} veces\")\n",
    "elif conteo_num == 1:\n",
    "    print(f\"El número {num_usuario} se encuentra {conteo_num} vez\")\n",
    "else:\n",
    "    print(f\"El número {num_usuario} no se encuentra en la tupla\")"
   ]
  },
  {
   "cell_type": "code",
   "execution_count": 43,
   "id": "d830df55",
   "metadata": {},
   "outputs": [
    {
     "name": "stdout",
     "output_type": "stream",
     "text": [
      "{'c', 'n', 'e', 't', 'E', 's', 'm', 'o', 'y', 'u'}\n"
     ]
    }
   ],
   "source": [
    "# Ejercicio 11\n",
    "conjunto = set(\"Estoy muy contento\")\n",
    "conjunto.discard(' ')\n",
    "print(conjunto)"
   ]
  },
  {
   "cell_type": "code",
   "execution_count": 46,
   "id": "fcb7cdad",
   "metadata": {},
   "outputs": [
    {
     "name": "stdout",
     "output_type": "stream",
     "text": [
      "{1, 'verde', 5, 6, 'azul', 'negro', 'blanco', 'rojo'}\n"
     ]
    }
   ],
   "source": [
    "# Ejercicio 12\n",
    "mezcla = {\"azul\", \"verde\", 1, 6, \"rojo\", 3, 3, \"verde\", \"azul\", 1, \"blanco\"}\n",
    "numero = int(input(\"Ingrese un número: \"))\n",
    "\n",
    "mezcla.add(\"negro\")\n",
    "mezcla.add(numero)\n",
    "mezcla.discard(3)\n",
    "print(mezcla)"
   ]
  },
  {
   "cell_type": "code",
   "execution_count": 47,
   "id": "51574056",
   "metadata": {},
   "outputs": [
    {
     "name": "stdout",
     "output_type": "stream",
     "text": [
      "Si se encuentra el elemento 'verde' en el conjunto 'mezcla'\n"
     ]
    }
   ],
   "source": [
    "# Ejercicio 13\n",
    "mezcla = {1, 'blanco', 4, 'verde', 6, 8, 'rojo', 'azul', 4, 1, 'verde'}\n",
    "\n",
    "if \"verde\" in mezcla:\n",
    "    print(\"Si se encuentra el elemento 'verde' en el conjunto 'mezcla'\")\n",
    "else:\n",
    "    print(\"No se encuentra el elemento 'verde' en el conjunto 'mezcla'\")"
   ]
  },
  {
   "cell_type": "code",
   "execution_count": 61,
   "id": "71ad81ee",
   "metadata": {},
   "outputs": [
    {
     "name": "stdout",
     "output_type": "stream",
     "text": [
      "perro - galgo \n",
      "\n",
      "gato - siamés \n",
      "\n",
      "pájaro - canario \n",
      "\n"
     ]
    }
   ],
   "source": [
    "# Ejercicio 14\n",
    "animales = {\"perro\":\"galgo\", \"gato\":\"siamés\", \"pájaro\":\"canario\"}\n",
    "\n",
    "for animal, raza in animales.items():\n",
    "    print(f\"{animal} - {raza} \\n\")"
   ]
  },
  {
   "cell_type": "code",
   "execution_count": 62,
   "id": "71ad81ee",
   "metadata": {},
   "outputs": [
    {
     "name": "stdout",
     "output_type": "stream",
     "text": [
      "perro - galgo \n",
      "\n",
      "gato - siamés \n",
      "\n",
      "pájaro - canario \n",
      "\n",
      "caballo - árabe \n",
      "\n"
     ]
    }
   ],
   "source": [
    "# Ejercicio 15\n",
    "animales = {\"perro\":\"galgo\", \"gato\":\"siamés\", \"pájaro\":\"canario\"}\n",
    "nuevo_animal = input(\"Ingresa un animal: \").lower()\n",
    "nueva_raza = input(\"Ingresa la raza del animal: \").lower()\n",
    "animales[nuevo_animal] = nueva_raza\n",
    "\n",
    "for animal, raza in animales.items():\n",
    "    print(f\"{animal} - {raza} \\n\")"
   ]
  },
  {
   "cell_type": "code",
   "execution_count": 60,
   "id": "d587918e",
   "metadata": {},
   "outputs": [
    {
     "name": "stdout",
     "output_type": "stream",
     "text": [
      "Emily Franco tiene 78 años, vive en Bogotá y su número de teléfono es 5474676867\n"
     ]
    }
   ],
   "source": [
    "# Ejercicio 16\n",
    "nombre = input(\"Ingresa tu nombre: \").capitalize()\n",
    "apellido = input(\"Ingresa tu apellido: \").capitalize()\n",
    "edad = int(input(\"¿Cuantos años tienes?: \"))\n",
    "ciudad = input(\"Ingresa la ciudad donde vives: \").capitalize()\n",
    "telefono = input(\"Ingresa tu número de teléfono: \")\n",
    "\n",
    "datos = {}\n",
    "datos.update({\"nombre\": nombre, \"apellido\": apellido, \"edad\": edad, \"ciudad\": ciudad, \"telefono\": telefono})\n",
    "print(f\"{datos['nombre']} {datos['apellido']} tiene {datos['edad']} años, vive en {datos['ciudad']} y su número de teléfono es {datos['telefono']}\")"
   ]
  },
  {
   "cell_type": "code",
   "execution_count": 8,
   "id": "9a15a2c5",
   "metadata": {},
   "outputs": [
    {
     "name": "stdout",
     "output_type": "stream",
     "text": [
      "{'Nombre': 'Kim', 'Telefono': '3243243', 'Edad': '45'}\n"
     ]
    }
   ],
   "source": [
    "# Ejercicio 17\n",
    "agenda = {}\n",
    "clave = input(\"¿Qué dato quieres incluir? \").capitalize()\n",
    "valor = input(f\"Introduce {clave}: \").capitalize()\n",
    "agenda[clave] = valor\n",
    "flag = 0\n",
    "\n",
    "while flag != 1:\n",
    "    pregunta = input(\"¿Quieres introducir otro dato (responde solo Si o No)? \").lower()\n",
    "    if pregunta == \"si\":\n",
    "        clave = input(\"¿Qué dato quieres incluir? \").capitalize()\n",
    "        valor = input(f\"Introduce {clave}: \").capitalize()\n",
    "        agenda[clave] = valor\n",
    "    else:\n",
    "        flag = 1\n",
    "\n",
    "print(agenda)"
   ]
  },
  {
   "cell_type": "code",
   "execution_count": 2,
   "id": "370cc647",
   "metadata": {},
   "outputs": [
    {
     "name": "stdout",
     "output_type": "stream",
     "text": [
      "\n",
      "        MENU DEL PROGRAMA\n",
      "        *****************\n",
      "        (1)   Agregar un producto.\n",
      "        (2)   Eliminar un producto.\n",
      "        (3)   Listar todos los productos.\n",
      "        (4)   Cerrar.\n",
      "    \n",
      "\n",
      "        MENU DEL PROGRAMA\n",
      "        *****************\n",
      "        (1)   Agregar un producto.\n",
      "        (2)   Eliminar un producto.\n",
      "        (3)   Listar todos los productos.\n",
      "        (4)   Cerrar.\n",
      "    \n",
      "✅ Queso -> 23\n",
      "\n",
      "        MENU DEL PROGRAMA\n",
      "        *****************\n",
      "        (1)   Agregar un producto.\n",
      "        (2)   Eliminar un producto.\n",
      "        (3)   Listar todos los productos.\n",
      "        (4)   Cerrar.\n",
      "    \n",
      "Adios! 👋\n"
     ]
    }
   ],
   "source": [
    "# Ejercicio 18\n",
    "lista_compras = {}\n",
    "flag = 0\n",
    "\n",
    "while flag != 1:\n",
    "    menu = \"\"\"\n",
    "        MENU DEL PROGRAMA\n",
    "        *****************\n",
    "        (1)   Agregar un producto.\n",
    "        (2)   Eliminar un producto.\n",
    "        (3)   Listar todos los productos.\n",
    "        (4)   Cerrar.\n",
    "    \"\"\"\n",
    "    print(menu)\n",
    "    opcion = int(input(\"A continuación, ingresa una opción entre 1 y 4: \"))\n",
    "\n",
    "    if opcion == 1:\n",
    "        clave = input(\"¿Qué producto quieres agregar? \").capitalize()\n",
    "        valor = int(input(f\"Escribe la cantidad de {clave}: \"))\n",
    "        lista_compras[clave] = valor\n",
    "        continue\n",
    "    elif opcion == 2:\n",
    "        eliminar = input(\"¿Qué producto quieres eliminar? \").capitalize()\n",
    "        lista_compras.pop(eliminar)\n",
    "        continue\n",
    "    elif opcion == 3:\n",
    "        for clave, valor in lista_compras.items():\n",
    "            print(f\"✅ {clave} -> {valor}\")\n",
    "        continue\n",
    "    else:\n",
    "        print(\"Adios! 👋\")\n",
    "        flag = 1"
   ]
  }
 ],
 "metadata": {
  "kernelspec": {
   "display_name": "Python 3.10.12 64-bit",
   "language": "python",
   "name": "python3"
  },
  "language_info": {
   "codemirror_mode": {
    "name": "ipython",
    "version": 3
   },
   "file_extension": ".py",
   "mimetype": "text/x-python",
   "name": "python",
   "nbconvert_exporter": "python",
   "pygments_lexer": "ipython3",
   "version": "3.10.12"
  },
  "vscode": {
   "interpreter": {
    "hash": "916dbcbb3f70747c44a77c7bcd40155683ae19c65e1c03b4aa3499c5328201f1"
   }
  }
 },
 "nbformat": 4,
 "nbformat_minor": 5
}
