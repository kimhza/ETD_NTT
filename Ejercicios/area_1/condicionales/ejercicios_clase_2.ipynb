{
 "cells": [
  {
   "cell_type": "markdown",
   "id": "f288bd20-2096-43ad-a1c7-8c50d4c807df",
   "metadata": {},
   "source": [
    "# Ejercicios Clase 2"
   ]
  },
  {
   "cell_type": "code",
   "execution_count": 1,
   "id": "282d8ec9-0f1d-4f38-9fae-cde9e3cd514e",
   "metadata": {},
   "outputs": [
    {
     "name": "stdout",
     "output_type": "stream",
     "text": [
      "El numero no es multiplo de 3 y 7\n"
     ]
    }
   ],
   "source": [
    "# Repaso\n",
    "numero = int(input(\"Introduce un numero\"))\n",
    "if numero % 3 == 0 and numero % 7 == 0:\n",
    "    print(\"El numero es multiplo de 3 y 7\")\n",
    "elif numero % 3 == 0:\n",
    "    print(\"El numero es multiplo de 3\")\n",
    "elif numero % 7 ==0:\n",
    "    print(\"El numero es multiplo de 7\")\n",
    "else:\n",
    "    print(\"El numero no es multiplo de 3 y 7\")"
   ]
  },
  {
   "cell_type": "code",
   "execution_count": 2,
   "id": "e179f892-dc37-4b06-9516-91ab7e4ac076",
   "metadata": {},
   "outputs": [
    {
     "name": "stdout",
     "output_type": "stream",
     "text": [
      "Eres mayor de edad\n"
     ]
    }
   ],
   "source": [
    "# Ejercicio 1\n",
    "edad = int(input(\"Cual es tu edad? \"))\n",
    "\n",
    "if edad > 0:\n",
    "    if edad < 18:\n",
    "        print(\"Eres menor de edad\")\n",
    "    else:\n",
    "        print(\"Eres mayor de edad\")\n",
    "else:\n",
    "    print(\"Verifica la edad ingresada\")"
   ]
  },
  {
   "cell_type": "code",
   "execution_count": 3,
   "id": "20c7d6d3-0ab9-4b7d-82ee-6007258df8f5",
   "metadata": {},
   "outputs": [
    {
     "name": "stdout",
     "output_type": "stream",
     "text": [
      "Este número es par\n"
     ]
    }
   ],
   "source": [
    "# Ejercicio 2\n",
    "numero = int(input(\"Ingresa un número: \"))\n",
    "\n",
    "if numero % 2  == 0:\n",
    "    print(\"Este número es par\")\n",
    "else:\n",
    "    print(\"Este número es impar\")"
   ]
  },
  {
   "cell_type": "code",
   "execution_count": 4,
   "id": "b2febd34-262d-48a3-b46b-f49acd501092",
   "metadata": {},
   "outputs": [
    {
     "name": "stdout",
     "output_type": "stream",
     "text": [
      "El resultado de la división (4/3) es: 1.3333333333333333\n"
     ]
    }
   ],
   "source": [
    "# Ejercicio 3\n",
    "numerador = int(input(\"Ingresa un número entero (numerador): \"))\n",
    "denominador = int(input(\"Ingresa un número entero (denominador): \"))\n",
    "\n",
    "if denominador != 0:\n",
    "    operacion = numerador / denominador\n",
    "    print(f\"El resultado de la división ({numerador}/{denominador}) es: {operacion}\")\n",
    "else:\n",
    "    print(\"No se puede realizar la división por 0\")"
   ]
  },
  {
   "cell_type": "code",
   "execution_count": 5,
   "id": "db96cbfd-3068-43b5-9fba-a71e49ceb13a",
   "metadata": {},
   "outputs": [
    {
     "name": "stdout",
     "output_type": "stream",
     "text": [
      "Quedan 12 años para llegar al año 2036.\n"
     ]
    }
   ],
   "source": [
    "# Ejercicio 4\n",
    "yr_actual = int(input(\"Introduce el año en el que estamos: \"))\n",
    "yr_compara = int(input(\"Introduce un año cualquiera: \"))\n",
    "\n",
    "if yr_actual < yr_compara:\n",
    "    diferencia = yr_compara - yr_actual\n",
    "    print(f\"Quedan {diferencia} años para llegar al año {yr_compara}.\")\n",
    "elif yr_actual > yr_compara:\n",
    "    diferencia = yr_actual - yr_compara\n",
    "    print(f\"Desde el año {yr_compara} han pasado {diferencia} años.\")\n",
    "else:\n",
    "    print(\"Ambos años son el mismo.\")"
   ]
  },
  {
   "cell_type": "code",
   "execution_count": 6,
   "id": "6d709e27-548a-4b07-8595-8f15d80062c9",
   "metadata": {},
   "outputs": [
    {
     "name": "stdout",
     "output_type": "stream",
     "text": [
      "Ambos nombres terminan por la misma letra\n"
     ]
    }
   ],
   "source": [
    "# Ejercicio 5\n",
    "nombre_1 = input(\"Ingresa un nombre: \").lower()\n",
    "nombre_2 = input(\"Ingresa otro nombre: \").lower()\n",
    "\n",
    "\n",
    "if (nombre_1[0] == nombre_2[0]) and (nombre_1[-1] == nombre_2[-1]):\n",
    "    print(\"Ambos nombres comienzan y terminan por la misma letra\")\n",
    "elif nombre_1[0] == nombre_2[0]:\n",
    "    print(\"Ambos nombres comienzan por la misma letra\")\n",
    "elif nombre_1[-1] == nombre_2[-1]:\n",
    "    print(\"Ambos nombres terminan por la misma letra\")\n",
    "else:\n",
    "    print(\"Los nombres no coinciden\")\n"
   ]
  },
  {
   "cell_type": "code",
   "execution_count": 7,
   "id": "e8391649-1018-4df6-975a-4c3f25b2a285",
   "metadata": {},
   "outputs": [
    {
     "name": "stdout",
     "output_type": "stream",
     "text": [
      "Tu nuevo salario es: 3795.0000000000005\n"
     ]
    }
   ],
   "source": [
    "# Ejercicio 6\n",
    "salario_actual = int(input(\"Ingresa tu salario actual: \"))\n",
    "salario_min = 15000\n",
    "salario_max = 20000\n",
    "\n",
    "if salario_actual < salario_min:\n",
    "    salario_aumentado = salario_actual * 1.1\n",
    "elif salario_actual > salario_min and salario_actual < salario_max:\n",
    "    salario_aumentado = salario_actual * 1.05\n",
    "else:\n",
    "    salario_aumentado = salario_actual * 1.025\n",
    "print(f\"Tu nuevo salario es: {salario_aumentado}\")"
   ]
  },
  {
   "cell_type": "code",
   "execution_count": 8,
   "id": "b4157436-28fb-4ce5-8c7c-30280b620e7d",
   "metadata": {},
   "outputs": [
    {
     "name": "stdout",
     "output_type": "stream",
     "text": [
      "Probablemente.\n"
     ]
    }
   ],
   "source": [
    "# Ejercicio 7\n",
    "import random\n",
    "\n",
    "respuestas = {1:\"Sí, definitivamente sí.\", 2:\"Probablemente.\", 3:\"Sin duda alguna.\", 4:\"No lo sé, pregunta de nuevo.\", \n",
    "              5:\"Prueba más tarde.\", 6:\"Mejor que no lo sepas.\", 7:\"No, definitivamente no.\", 8:\"No pinta muy bien.\",\n",
    "              8:\"Tengo dudas al respecto.\"}\n",
    "\n",
    "pregunta = input(\"Ingresa una pregunta tipo si/no y la bola mágica te responderá: \")\n",
    "eleccion = random.randint(1,9)\n",
    "print(respuestas[eleccion])"
   ]
  },
  {
   "cell_type": "code",
   "execution_count": 9,
   "id": "40ce9d72-3cd9-411b-a2bc-b8a2c50e7349",
   "metadata": {},
   "outputs": [
    {
     "name": "stdout",
     "output_type": "stream",
     "text": [
      "PIN aceptado\n"
     ]
    }
   ],
   "source": [
    "# Ejercicio 8\n",
    "cod_a_comprobar = int(input(\"Ingresa tu código pin: \"))\n",
    "cod_pin = 1234\n",
    "i = 0\n",
    "\n",
    "while cod_a_comprobar != cod_pin:\n",
    "    print(\"El PIN es incorrecto. Inténtelo de nuevo: \")\n",
    "    cod_a_comprobar = int(input(\"Ingresa de nuevo tu código pin: \"))\n",
    "    i = i + 1\n",
    "\n",
    "print(\"PIN aceptado\")"
   ]
  },
  {
   "cell_type": "code",
   "execution_count": 10,
   "id": "68cd1ad6-56af-47a2-86b0-a8f292296fdf",
   "metadata": {},
   "outputs": [
    {
     "name": "stdout",
     "output_type": "stream",
     "text": [
      "La suma es: 834\n"
     ]
    }
   ],
   "source": [
    "# Ejercicio 9\n",
    "suma = 0\n",
    "numero = int(input(\"Introduce un número: \"))\n",
    "\n",
    "while numero != 0:\n",
    "    suma = suma + numero\n",
    "    numero = int(input(\"Introduce un número: \"))\n",
    "\n",
    "print(f\"La suma es: {suma}\")"
   ]
  },
  {
   "cell_type": "code",
   "execution_count": 11,
   "id": "1122c232-65c5-41c3-8b38-21e5ff7b6050",
   "metadata": {},
   "outputs": [
    {
     "name": "stdout",
     "output_type": "stream",
     "text": [
      "Genial, has conseguido llegar a tu objetivo y has ahorrado 1000\n"
     ]
    }
   ],
   "source": [
    "# Ejercicio 10\n",
    "meta_ahorro = int(input(\"¿Cuánto dinero quieres ahorrar?\"))\n",
    "ahorro_total = 0\n",
    "\n",
    "while ahorro_total < meta_ahorro:\n",
    "    dinero = int(input(\"¿Cuánto dinero metes en la hucha?\"))\n",
    "    ahorro_total = ahorro_total + dinero\n",
    "\n",
    "print(f\"Genial, has conseguido llegar a tu objetivo y has ahorrado {ahorro_total}\")"
   ]
  },
  {
   "cell_type": "code",
   "execution_count": 12,
   "id": "0679f397-bb2c-48e4-a122-d3cc2c2e0059",
   "metadata": {},
   "outputs": [
    {
     "name": "stdout",
     "output_type": "stream",
     "text": [
      "234\n"
     ]
    }
   ],
   "source": [
    "# Ejercicio 11\n",
    "resultado = -1\n",
    "numero = int(input(\"Introduce un número positivo:\"))\n",
    "while numero > 0:\n",
    "   if numero > resultado:\n",
    "       resultado = numero\n",
    "   numero=int(input(\"Introduce un número positivo:\"))\n",
    "print(resultado)"
   ]
  },
  {
   "cell_type": "code",
   "execution_count": 13,
   "id": "c44cc123-fef6-4127-a8cd-7235baa77696",
   "metadata": {},
   "outputs": [
    {
     "name": "stdout",
     "output_type": "stream",
     "text": [
      "El resultado de la suma de cada digito es: 0\n"
     ]
    }
   ],
   "source": [
    "# Ejercicio 12\n",
    "numero = input(\"Ingresa un número positivo: \")\n",
    "suma = 0\n",
    "\n",
    "for digito in numero:\n",
    "    suma += int(digito)\n",
    "    \n",
    "print(f\"El resultado de la suma de cada digito es: {suma}\")"
   ]
  },
  {
   "cell_type": "code",
   "execution_count": 14,
   "id": "231f9af5-2ed2-4e41-bafa-6d88a74ac663",
   "metadata": {},
   "outputs": [
    {
     "name": "stdout",
     "output_type": "stream",
     "text": [
      "Programa finalizado\n"
     ]
    }
   ],
   "source": [
    "# Ejercicio 13\n",
    "palabra = input(\"Ingresa una palabra: \").lower()\n",
    "finalizar = \"salir\"\n",
    "i = 0\n",
    "\n",
    "while palabra != finalizar:\n",
    "    palabra = input(\"Ingresa una palabra: \").lower()\n",
    "    i += 1\n",
    "\n",
    "print(\"Programa finalizado\")"
   ]
  },
  {
   "cell_type": "code",
   "execution_count": 15,
   "id": "a98d9832-fdef-4264-8660-14b1bccdd426",
   "metadata": {},
   "outputs": [
    {
     "name": "stdout",
     "output_type": "stream",
     "text": [
      "El cuadrado del número 0 es 0\n",
      "El cuadrado del número 1 es 1\n",
      "El cuadrado del número 2 es 4\n",
      "El cuadrado del número 3 es 9\n",
      "El cuadrado del número 4 es 16\n",
      "El cuadrado del número 5 es 25\n"
     ]
    }
   ],
   "source": [
    "# Ejercicio 14\n",
    "i = 0\n",
    "for i in range(0, 6):\n",
    "    print(f\"El cuadrado del número {i} es {i**2}\")"
   ]
  },
  {
   "cell_type": "code",
   "execution_count": 16,
   "id": "22894a1b-07e6-4ae9-89f4-79cb1511ca89",
   "metadata": {},
   "outputs": [
    {
     "name": "stdout",
     "output_type": "stream",
     "text": [
      "Los divisores del número 34 son 1 2 17 34 \n"
     ]
    }
   ],
   "source": [
    "# Ejercicio 15\n",
    "numero = int(input(\"Introduce un número mayor que cero: \"))\n",
    "i = 0\n",
    "a = \"\"\n",
    "\n",
    "while i <= numero:\n",
    "    if numero > 0:\n",
    "        if numero % (i + 1) == 0:\n",
    "            a += str(i + 1) + \" \"\n",
    "        i += 1\n",
    "    else:\n",
    "        print(\"El número debe ser mayor que cero\")\n",
    "        numero = int(input(\"Introduce un número mayor que cero: \"))\n",
    "print(f\"Los divisores del número {numero} son {a}\")"
   ]
  },
  {
   "cell_type": "code",
   "execution_count": 17,
   "id": "9e4e3f5c-e2d7-41b1-8a08-852b2abdd14e",
   "metadata": {},
   "outputs": [
    {
     "name": "stdout",
     "output_type": "stream",
     "text": [
      "Los divisores de 3 son [1]\n"
     ]
    }
   ],
   "source": [
    "# Ejercicio 15 - Version 2\n",
    "numero = int(input(\"Introduce un número mayor que cero: \"))\n",
    "divisores = []\n",
    "i = 1\n",
    "\n",
    "if numero > 0:\n",
    "    while i < numero:\n",
    "        if numero % i == 0:\n",
    "            divisores.append(i)\n",
    "        i += 1\n",
    "    print(f\"Los divisores de {numero} son {divisores}\")\n",
    "else:\n",
    "    print(\"El número no es mayor que cero\")"
   ]
  },
  {
   "cell_type": "code",
   "execution_count": 18,
   "id": "8a32f095-d3ae-4fd4-a9a3-69ac37f592a3",
   "metadata": {},
   "outputs": [
    {
     "name": "stdout",
     "output_type": "stream",
     "text": [
      "La letra e aparece 5 veces en la frase: 'Este es un ejemplo'.\n"
     ]
    }
   ],
   "source": [
    "# Ejercicio 16\n",
    "frase = input(\"Escribe una frase: \")\n",
    "letra = input(\"Introduce una letra: \")\n",
    "i = 0\n",
    "count = 0\n",
    "\n",
    "for i in frase.lower():\n",
    "    if i == letra.lower():\n",
    "        count += 1\n",
    "        \n",
    "print(f\"La letra {letra} aparece {count} veces en la frase: '{frase}'.\")"
   ]
  },
  {
   "cell_type": "code",
   "execution_count": 19,
   "id": "5ff829dd-3b4d-46e7-a213-546a6f169f3d",
   "metadata": {},
   "outputs": [
    {
     "name": "stdout",
     "output_type": "stream",
     "text": [
      "67\n",
      "69\n",
      "71\n",
      "73\n",
      "75\n",
      "77\n",
      "79\n",
      "81\n",
      "83\n",
      "85\n",
      "87\n",
      "89\n",
      "91\n",
      "93\n",
      "95\n",
      "97\n",
      "99\n",
      "101\n",
      "103\n",
      "105\n",
      "107\n",
      "109\n",
      "111\n",
      "113\n",
      "115\n",
      "117\n",
      "119\n",
      "121\n",
      "123\n",
      "125\n",
      "127\n",
      "129\n",
      "131\n",
      "133\n",
      "135\n",
      "137\n",
      "139\n",
      "141\n",
      "143\n",
      "145\n",
      "147\n",
      "149\n",
      "151\n",
      "153\n",
      "155\n",
      "157\n",
      "159\n",
      "161\n",
      "163\n",
      "165\n",
      "167\n",
      "169\n",
      "171\n",
      "173\n",
      "175\n",
      "177\n",
      "179\n",
      "181\n",
      "183\n",
      "185\n",
      "187\n",
      "189\n",
      "191\n",
      "193\n",
      "195\n",
      "197\n",
      "199\n",
      "201\n",
      "203\n",
      "205\n",
      "207\n",
      "209\n",
      "211\n",
      "213\n",
      "215\n",
      "217\n",
      "219\n",
      "221\n",
      "223\n",
      "225\n",
      "227\n",
      "229\n",
      "231\n",
      "233\n",
      "235\n",
      "237\n",
      "239\n",
      "241\n",
      "243\n",
      "245\n",
      "247\n",
      "249\n",
      "251\n",
      "253\n",
      "255\n",
      "257\n",
      "259\n",
      "261\n",
      "263\n",
      "265\n",
      "267\n",
      "269\n",
      "271\n",
      "273\n",
      "275\n",
      "277\n",
      "279\n",
      "281\n",
      "283\n",
      "285\n",
      "287\n",
      "289\n",
      "291\n",
      "293\n",
      "295\n",
      "297\n",
      "299\n",
      "301\n",
      "303\n",
      "305\n",
      "307\n",
      "309\n",
      "311\n",
      "313\n",
      "315\n",
      "317\n",
      "319\n",
      "321\n",
      "323\n",
      "325\n",
      "327\n",
      "329\n",
      "331\n",
      "333\n",
      "335\n",
      "337\n",
      "339\n",
      "341\n",
      "343\n"
     ]
    }
   ],
   "source": [
    "# Ejercicio 17\n",
    "num_min = int(input(\"Introduce un número: \"))\n",
    "num_max = int(input(\"Introduce un número mayor que el anterior: \"))\n",
    "\n",
    "if num_max <= num_min:\n",
    "    print(\"El número no es válido por no ser mayor que el anterior.\")\n",
    "else:\n",
    "    for i in range(num_min, num_max, 2):\n",
    "        print(i)"
   ]
  },
  {
   "cell_type": "code",
   "execution_count": 20,
   "id": "62db6593-14f6-415d-87e6-743fd22a633a",
   "metadata": {},
   "outputs": [
    {
     "name": "stdout",
     "output_type": "stream",
     "text": [
      "El número 23 no es primo\n"
     ]
    }
   ],
   "source": [
    "# Ejercicio 18 - while\n",
    "numero = int(input(\"Ingresa un número: \"))\n",
    "i = numero\n",
    "count = 0\n",
    "\n",
    "while i > 0:\n",
    "    if numero > 2:\n",
    "        if numero % i == 0:\n",
    "            count += 1\n",
    "        i -= 1\n",
    "    else:\n",
    "        print(\"El número no es mayor que 2\")\n",
    "        numero = int(input(\"Ingresa otro número: \"))\n",
    "        count += 0\n",
    "    \n",
    "if count >= 2:\n",
    "    print(f\"El número {numero} no es primo\")\n",
    "else:\n",
    "    print(f\"El número {numero} es primo\")\n"
   ]
  },
  {
   "cell_type": "code",
   "execution_count": 23,
   "id": "4209f25a-5537-40e9-9c43-8dff6c597895",
   "metadata": {
    "jupyter": {
     "source_hidden": true
    }
   },
   "outputs": [
    {
     "name": "stdout",
     "output_type": "stream",
     "text": [
      "El número 3 es primo\n"
     ]
    }
   ],
   "source": [
    "# Ejercicio 18 - while - version2\n",
    "numero = int(input(\"Ingresa un número: \"))\n",
    "i = numero\n",
    "divisores = []\n",
    "\n",
    "while (numero > 2 and i > 0):\n",
    "    if numero % i == 0:\n",
    "        divisores.append(i)\n",
    "    i -= 1\n",
    "\n",
    "if len(divisores) == 2:\n",
    "    print(f\"El número {numero} es primo\")\n",
    "else:\n",
    "    print(f\"El número {numero} no es primo\")"
   ]
  },
  {
   "cell_type": "code",
   "execution_count": 28,
   "id": "d870b384-9259-4f42-9e3d-2681b8174712",
   "metadata": {},
   "outputs": [
    {
     "name": "stdout",
     "output_type": "stream",
     "text": [
      "El número no es mayor que 2\n",
      "El número no es mayor que 2\n",
      "El número 5 es primo\n"
     ]
    }
   ],
   "source": [
    "# Ejercicio 18 - for\n",
    "numero = int(input(\"Ingresa un número: \"))\n",
    "count = 0\n",
    "\n",
    "for i in range(numero, -1, -1):\n",
    "    if numero > 2 and i > 0:\n",
    "        if numero % i == 0:\n",
    "            count += 1\n",
    "    else:\n",
    "        print(\"El número no es mayor que 2\")\n",
    "        numero = int(input(\"Ingresa otro número: \"))\n",
    "        count += 0\n",
    "    \n",
    "if count >= 2:\n",
    "    print(f\"El número {numero} no es primo\")\n",
    "else:\n",
    "    print(f\"El número {numero} es primo\")"
   ]
  },
  {
   "cell_type": "code",
   "execution_count": 25,
   "id": "b43a3c2c-a898-41c1-87b7-37d26f73d824",
   "metadata": {},
   "outputs": [
    {
     "name": "stdout",
     "output_type": "stream",
     "text": [
      "True\n"
     ]
    }
   ],
   "source": [
    "# Ejercicio 19 - Comprobacion\n",
    "print(1 + 4 < 6 and 1 + 2 >= 3)"
   ]
  },
  {
   "cell_type": "code",
   "execution_count": 26,
   "id": "7458ee78-06c4-4edc-a4f5-ee71d545ebf3",
   "metadata": {},
   "outputs": [
    {
     "name": "stdout",
     "output_type": "stream",
     "text": [
      "i vale 0 y j vale 0\n",
      "i vale 0 y j vale 1\n",
      "i vale 0 y j vale 2\n",
      "i vale 0 y j vale 3\n",
      "i vale 0 y j vale 4\n",
      "i vale 0 y j vale 5\n",
      "i vale 0 y j vale 6\n",
      "i vale 1 y j vale 0\n",
      "i vale 1 y j vale 1\n",
      "i vale 1 y j vale 2\n",
      "i vale 1 y j vale 3\n",
      "i vale 1 y j vale 4\n",
      "i vale 1 y j vale 5\n",
      "i vale 1 y j vale 6\n",
      "i vale 2 y j vale 0\n",
      "i vale 2 y j vale 1\n",
      "i vale 2 y j vale 2\n",
      "i vale 2 y j vale 3\n",
      "i vale 2 y j vale 4\n",
      "i vale 2 y j vale 5\n",
      "i vale 2 y j vale 6\n",
      "i vale 3 y j vale 0\n",
      "i vale 3 y j vale 1\n",
      "i vale 3 y j vale 2\n",
      "i vale 3 y j vale 3\n",
      "i vale 3 y j vale 4\n",
      "i vale 3 y j vale 5\n",
      "i vale 3 y j vale 6\n",
      "i vale 4 y j vale 0\n",
      "i vale 4 y j vale 1\n",
      "i vale 4 y j vale 2\n",
      "i vale 4 y j vale 3\n",
      "i vale 4 y j vale 4\n",
      "i vale 4 y j vale 5\n",
      "i vale 4 y j vale 6\n",
      "i vale 5 y j vale 0\n",
      "i vale 5 y j vale 1\n",
      "i vale 5 y j vale 2\n",
      "i vale 5 y j vale 3\n",
      "i vale 5 y j vale 4\n",
      "i vale 5 y j vale 5\n",
      "i vale 5 y j vale 6\n",
      "i vale 6 y j vale 0\n",
      "i vale 6 y j vale 1\n",
      "i vale 6 y j vale 2\n",
      "i vale 6 y j vale 3\n",
      "i vale 6 y j vale 4\n",
      "i vale 6 y j vale 5\n",
      "i vale 6 y j vale 6\n"
     ]
    }
   ],
   "source": [
    "# Ejercicio 20 - Comprobacion\n",
    "i = 0\n",
    "\n",
    "while i != 3 + 2*4 / 2:\n",
    "    j = 0\n",
    "    while j != 3 + (2*4 / 2):\n",
    "        print(\"i vale\", i, \"y j vale\", j)\n",
    "        j += 1\n",
    "    i += 1"
   ]
  }
 ],
 "metadata": {
  "kernelspec": {
   "display_name": "Python 3.10.12 64-bit",
   "language": "python",
   "name": "python3"
  },
  "language_info": {
   "codemirror_mode": {
    "name": "ipython",
    "version": 3
   },
   "file_extension": ".py",
   "mimetype": "text/x-python",
   "name": "python",
   "nbconvert_exporter": "python",
   "pygments_lexer": "ipython3",
   "version": "3.10.12"
  },
  "vscode": {
   "interpreter": {
    "hash": "916dbcbb3f70747c44a77c7bcd40155683ae19c65e1c03b4aa3499c5328201f1"
   }
  }
 },
 "nbformat": 4,
 "nbformat_minor": 5
}
