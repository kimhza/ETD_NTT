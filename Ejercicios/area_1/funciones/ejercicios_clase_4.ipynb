{
 "cells": [
  {
   "cell_type": "markdown",
   "id": "0b5d5a78-b8ca-415c-9f1a-d93492afee40",
   "metadata": {},
   "source": [
    "# Ejercicios clase 4"
   ]
  },
  {
   "cell_type": "code",
   "execution_count": 1,
   "id": "7f84de28-a0d7-4830-8803-db40a6755d8a",
   "metadata": {},
   "outputs": [
    {
     "name": "stdout",
     "output_type": "stream",
     "text": [
      "Estoy en la Escuela de Talento Digital\n"
     ]
    }
   ],
   "source": [
    "# Ejercicio 1\n",
    "def escribir():\n",
    "    print(\"Estoy en la Escuela de Talento Digital\")\n",
    "    \n",
    "escribir()"
   ]
  },
  {
   "cell_type": "code",
   "execution_count": 27,
   "id": "9c4e7aac",
   "metadata": {},
   "outputs": [
    {
     "name": "stdout",
     "output_type": "stream",
     "text": [
      "Kim está en la Escuela de Talento Digital\n",
      "Camilo está en la Escuela de Talento Digital\n",
      "Jhon está en la Escuela de Talento Digital\n"
     ]
    }
   ],
   "source": [
    "# Ejercicio 2\n",
    "def presentar(nombre):\n",
    "    print(f\"{nombre} está en la Escuela de Talento Digital\")\n",
    "    \n",
    "presentar(\"Kim\")\n",
    "presentar(\"Camilo\")\n",
    "presentar(\"Jhon\")"
   ]
  },
  {
   "cell_type": "code",
   "execution_count": 3,
   "id": "18f19987",
   "metadata": {},
   "outputs": [
    {
     "name": "stdout",
     "output_type": "stream",
     "text": [
      "El resultado de 4 * 3 es igual a 12\n",
      "El resultado de 7 * 3 es igual a 21\n",
      "El resultado de 6 * 3 es igual a 18\n"
     ]
    }
   ],
   "source": [
    "# Ejercicio 3\n",
    "def multiplica_por_tres(numero):\n",
    "    print(f\"El resultado de {numero} * 3 es igual a {numero * 3}\")\n",
    "\n",
    "multiplica_por_tres(4)\n",
    "multiplica_por_tres(7)\n",
    "multiplica_por_tres(6)"
   ]
  },
  {
   "cell_type": "code",
   "execution_count": 5,
   "id": "d3edc2b4",
   "metadata": {},
   "outputs": [
    {
     "name": "stdout",
     "output_type": "stream",
     "text": [
      "Tabla de multiplicar del 3\n",
      "0 * 3 = 0\n",
      "1 * 3 = 3\n",
      "2 * 3 = 6\n",
      "3 * 3 = 9\n",
      "4 * 3 = 12\n",
      "5 * 3 = 15\n",
      "6 * 3 = 18\n",
      "7 * 3 = 21\n",
      "8 * 3 = 24\n",
      "9 * 3 = 27\n",
      "10 * 3 = 30\n"
     ]
    }
   ],
   "source": [
    "# Ejercicio 4\n",
    "def multiplica_por_tres(numero = 3):\n",
    "    print(f\"Tabla de multiplicar del {numero}\")\n",
    "    for i in range(0, 11):\n",
    "        print(f\"{i} * {numero} = {numero * i}\")\n",
    "\n",
    "multiplica_por_tres()"
   ]
  },
  {
   "cell_type": "code",
   "execution_count": 6,
   "id": "8a68a684",
   "metadata": {},
   "outputs": [
    {
     "name": "stdout",
     "output_type": "stream",
     "text": [
      "El número 12 es par\n",
      "El número 15 es impar\n",
      "El número 87 es impar\n"
     ]
    }
   ],
   "source": [
    "# Ejercicio 5\n",
    "def define_numero(numero):\n",
    "    if numero % 2  == 0:\n",
    "        print(f\"El número {numero} es par\")\n",
    "    else:\n",
    "        print(f\"El número {numero} es impar\")\n",
    "\n",
    "define_numero(12)\n",
    "define_numero(15)\n",
    "define_numero(87)"
   ]
  },
  {
   "cell_type": "code",
   "execution_count": 12,
   "id": "47e83f41",
   "metadata": {},
   "outputs": [
    {
     "name": "stdout",
     "output_type": "stream",
     "text": [
      "6.0\n",
      "9.6\n",
      "5.0\n"
     ]
    }
   ],
   "source": [
    "# Ejercicio 6\n",
    "def calcula_media(*args):\n",
    "    suma = 0\n",
    "    \n",
    "    for i in args:\n",
    "        suma += i\n",
    "        \n",
    "    media = suma / len(args)\n",
    "    print(media)\n",
    "\n",
    "calcula_media(8,4)\n",
    "calcula_media(2,4,6,12,24)\n",
    "calcula_media(1,2,3,4,5,6,7,8,9)   \n",
    "    "
   ]
  },
  {
   "cell_type": "code",
   "execution_count": 25,
   "id": "47e83f41",
   "metadata": {},
   "outputs": [
    {
     "name": "stdout",
     "output_type": "stream",
     "text": [
      "a y b son el mismo número\n",
      "Los números que hay entre 4 y 10: 4 5 6 7 8 9 10 \n",
      "Los números que hay entre 14 y 10: 10 11 12 13 14 \n"
     ]
    }
   ],
   "source": [
    "# Ejercicio 7\n",
    "def entre_numeros(a, b):\n",
    "    nums = \"\" \n",
    "    mayor = 0\n",
    "    menor = 0\n",
    "    \n",
    "    if a == b:\n",
    "        print(\"a y b son el mismo número\")\n",
    "        return\n",
    "    elif a > b:\n",
    "        mayor = a\n",
    "        menor = b\n",
    "    else:\n",
    "        menor = a\n",
    "        mayor = b\n",
    "    \n",
    "    for i in range(menor, mayor + 1):\n",
    "        nums += str(i) + \" \"\n",
    "        \n",
    "    print(f\"Los números que hay entre {a} y {b}: {nums}\")\n",
    "\n",
    "entre_numeros(56,56)\n",
    "entre_numeros(4,10)\n",
    "entre_numeros(14,10)"
   ]
  },
  {
   "cell_type": "code",
   "execution_count": 40,
   "id": "ef387bf7",
   "metadata": {},
   "outputs": [
    {
     "name": "stdout",
     "output_type": "stream",
     "text": [
      "Dados los números: (8, 4, 1), el máximo es 8 y el mínimo es 1\n",
      "Dados los números: (4, 6, 0, 12, 24, 24), el máximo es 24 y el mínimo es 0\n",
      "Dados los números: (2, 2, 4, 5, 6, 7, 8, 9), el máximo es 9 y el mínimo es 2\n"
     ]
    }
   ],
   "source": [
    "# Ejercicio 8\n",
    "def calcula_max_min(*args):\n",
    "    mayor = 0\n",
    "    menor = args[0]\n",
    "    \n",
    "    for i in args:\n",
    "        if i > mayor:\n",
    "            mayor = i\n",
    "        if i < args[0]:\n",
    "            menor = i\n",
    "        \n",
    "    \n",
    "    print(f\"Dados los números: {args}, el máximo es {mayor} y el mínimo es {menor}\")\n",
    "\n",
    "calcula_max_min(8,4,1)\n",
    "calcula_max_min(4,6,0,12,24,24)\n",
    "calcula_max_min(2,2,4,5,6,7,8,9)   "
   ]
  },
  {
   "cell_type": "code",
   "execution_count": 44,
   "id": "76ac5ae3",
   "metadata": {},
   "outputs": [
    {
     "name": "stdout",
     "output_type": "stream",
     "text": [
      "El número de caracteres del texto 'Computador' es 10\n",
      "El número de caracteres del texto 'Colombia' es 8\n",
      "El número de caracteres del texto 'Sol' es 3\n"
     ]
    }
   ],
   "source": [
    "# Ejercicio 9\n",
    "def contar_caracteres(texto):\n",
    "    print(f\"El número de caracteres del texto '{texto}' es {len(texto)}\")\n",
    "    \n",
    "contar_caracteres(\"Computador\")\n",
    "contar_caracteres(\"Colombia\")\n",
    "contar_caracteres(\"Sol\")"
   ]
  },
  {
   "cell_type": "code",
   "execution_count": 62,
   "id": "4facbdf0",
   "metadata": {},
   "outputs": [
    {
     "name": "stdout",
     "output_type": "stream",
     "text": [
      "\n",
      "            MENÚ CONVERTIDOR DE TIEMPO\n",
      "            **************************\n",
      "                (1) Convertir a segundos\n",
      "                (2) Convertir a horas, minutos y segundos          \n",
      "          \n",
      "🕐 23:45:56 equivale a 85556 segundos\n"
     ]
    }
   ],
   "source": [
    "# Ejercicio 10\n",
    "def calcular_segundos(horas, minutos, segundos):\n",
    "    horas_a_segundos = horas * 3600\n",
    "    minutos_a_segundos = minutos * 60\n",
    "    total_segundos = horas_a_segundos + minutos_a_segundos + segundos\n",
    "    return total_segundos\n",
    "\n",
    "def calcular_horas(segundos):\n",
    "    if segundos < 60:\n",
    "        print(f\"🕐 No hay conversión, son {segundos}s\")\n",
    "    elif segundos >= 60 and segundos < 3600:\n",
    "        segundos_a_minutos = segundos // 60\n",
    "        segundos_restantes = segundos - (segundos_a_minutos * 60)\n",
    "        print(f\"🕐 {segundos}s equivale a 00h, {segundos_a_minutos}min y {segundos_restantes}s\")\n",
    "    else:\n",
    "        segundos_a_horas = segundos // 3600\n",
    "        tiempo_restante = segundos - (segundos_a_horas * 3600)\n",
    "        if tiempo_restante == 0:\n",
    "            segundos_a_minutos = 0\n",
    "            segundos_restantes = 0\n",
    "        elif tiempo_restante > 0 and tiempo_restante <= 60:\n",
    "            segundos_a_minutos = 0\n",
    "            segundos_restantes = tiempo_restante\n",
    "        else:\n",
    "            segundos_a_minutos = tiempo_restante // 60 \n",
    "            segundos_restantes = tiempo_restante - (segundos_a_minutos * 60)\n",
    "        print(f\"🕐 {segundos}s equivale a {segundos_a_horas}h, {segundos_a_minutos}min y {segundos_restantes}s\")\n",
    "\n",
    "def separar_valores(tiempo):\n",
    "    lista_tiempo = tiempo.split(\":\")\n",
    "    horas = int(lista_tiempo[0])\n",
    "    minutos = int(lista_tiempo[1])\n",
    "    segundos = int(lista_tiempo[2])\n",
    "    return horas, minutos, segundos \n",
    "\n",
    "def mostrar_programa():\n",
    "    flag = 0\n",
    "\n",
    "    while flag != 1:\n",
    "        print(\"\"\"\n",
    "            MENÚ CONVERTIDOR DE TIEMPO\n",
    "            **************************\n",
    "                (1) Convertir a segundos\n",
    "                (2) Convertir a horas, minutos y segundos          \n",
    "          \"\"\")\n",
    "        opcion = int(input(\"A continuación, ingresa una opcióN (1 ó 2): \"))\n",
    "\n",
    "        if opcion == 1:\n",
    "            tiempo = input(\"Por favor ingresa el valor en hh:mm:ss \")\n",
    "            [horas, minutos, segundos] = separar_valores(tiempo)\n",
    "            total_segundos = calcular_segundos(horas, minutos, segundos)\n",
    "            print(f\"🕐 {tiempo} equivale a {total_segundos} segundos\")\n",
    "            flag = 1\n",
    "        elif opcion == 2:\n",
    "            tiempo = int(input(\"Por favor ingresa los segundos \"))\n",
    "            calcular_horas(tiempo)\n",
    "            flag = 1\n",
    "        else:\n",
    "            print(\"Opción no válida. Selecciona un valor entre 1 ó 2\")\n",
    "            continue\n",
    "        \n",
    "mostrar_programa()"
   ]
  },
  {
   "cell_type": "code",
   "execution_count": 63,
   "id": "d830df55",
   "metadata": {},
   "outputs": [
    {
     "name": "stdout",
     "output_type": "stream",
     "text": [
      "El texto contiene la @\n",
      "El texto no contiene la @\n"
     ]
    }
   ],
   "source": [
    "# Ejercicio 11\n",
    "def buscar_caracter(texto):\n",
    "    if \"@\" in texto:\n",
    "        mensaje = f\"El texto contiene la @\"\n",
    "    else:\n",
    "        mensaje = f\"El texto no contiene la @\"\n",
    "    print(mensaje)\n",
    "    \n",
    "buscar_caracter(\"correo@gmail.com\")\n",
    "buscar_caracter(\"correogmail.com\")"
   ]
  },
  {
   "cell_type": "code",
   "execution_count": 67,
   "id": "fcb7cdad",
   "metadata": {},
   "outputs": [
    {
     "name": "stdout",
     "output_type": "stream",
     "text": [
      "El importe total a pagar es $28750.0 por $25000 al 15%\n"
     ]
    }
   ],
   "source": [
    "# Ejercicio 12\n",
    "def calcular_importe(importe, porcentaje):\n",
    "    importe_total = importe + (importe * (porcentaje/100))\n",
    "    return importe_total\n",
    "    \n",
    "def principal():\n",
    "    cantidad = int(input(\"Escribe una cantidad ($): \"))\n",
    "    porcentaje = int(input(\"Escribe un porcentaje (%) de impuestos a pagar: \"))\n",
    "    importe_total = calcular_importe(cantidad, porcentaje)\n",
    "    print(f\"El importe total a pagar es ${importe_total} por ${cantidad} al {porcentaje}%\")\n",
    "\n",
    "principal()"
   ]
  },
  {
   "cell_type": "code",
   "execution_count": 69,
   "id": "51574056",
   "metadata": {},
   "outputs": [
    {
     "name": "stdout",
     "output_type": "stream",
     "text": [
      "De los siguientes números: [567, 2, 4, 5, 7], el máximo es 567\n"
     ]
    }
   ],
   "source": [
    "# Ejercicio 13\n",
    "def calcula_max(lista):\n",
    "    mayor = 0\n",
    "\n",
    "    for i in lista:\n",
    "        if i > mayor:\n",
    "            mayor = i\n",
    "    return mayor\n",
    "\n",
    "\n",
    "def principal():\n",
    "    lista_nums = []\n",
    "    flag = 0\n",
    "    \n",
    "    while flag != 1:\n",
    "        num = int(input(\"Ingresa un número ó 0 para realizar el cálculo: \"))\n",
    "        if num != 0:\n",
    "            lista_nums.append(num)\n",
    "        else:\n",
    "            flag = 1\n",
    "    \n",
    "    mayor = calcula_max(lista_nums)\n",
    "    print(f\"De los siguientes números: {lista_nums}, el máximo es {mayor}\")\n",
    "\n",
    "principal()"
   ]
  },
  {
   "cell_type": "code",
   "execution_count": 73,
   "id": "71ad81ee",
   "metadata": {},
   "outputs": [
    {
     "name": "stdout",
     "output_type": "stream",
     "text": [
      "2\n"
     ]
    }
   ],
   "source": [
    "# Ejercicio 14\n",
    "def maximo(a, b):\n",
    "    if a > b:\n",
    "        return a\n",
    "    else:\n",
    "        return b\n",
    "\n",
    "def minimo(a, b):\n",
    "    if a < b:\n",
    "        return a\n",
    "    else:\n",
    "        return b\n",
    "\n",
    "x = int(input(\"Un número: \"))\n",
    "y = int(input(\"Otro número: \"))\n",
    "\n",
    "print(maximo(x-3, minimo(x+2, y-5)))"
   ]
  },
  {
   "cell_type": "code",
   "execution_count": 76,
   "id": "71ad81ee",
   "metadata": {},
   "outputs": [
    {
     "name": "stdout",
     "output_type": "stream",
     "text": [
      "La suma de los digitos del número 15582 es 21\n"
     ]
    }
   ],
   "source": [
    "# Ejercicio 15\n",
    "def calcular_suma(numero):\n",
    "    suma = 0\n",
    "    \n",
    "    for i in numero:\n",
    "        suma += int(i)    \n",
    "    return suma\n",
    "    \n",
    "def principal():\n",
    "    numero = input(\"Escribe un número: \")\n",
    "    \n",
    "    suma = calcular_suma(numero)\n",
    "    print(f\"La suma de los digitos del número {numero} es {suma}\")\n",
    "\n",
    "principal()"
   ]
  },
  {
   "cell_type": "code",
   "execution_count": 77,
   "id": "d587918e",
   "metadata": {},
   "outputs": [
    {
     "name": "stdout",
     "output_type": "stream",
     "text": [
      "False\n"
     ]
    }
   ],
   "source": [
    "# Ejercicio 16\n",
    "def define_numero(numero):\n",
    "    i = numero\n",
    "    divisores = []\n",
    "\n",
    "    while (numero > 1 and i > 0):\n",
    "        if numero % i == 0:\n",
    "            divisores.append(i)\n",
    "        i -= 1\n",
    "\n",
    "    if len(divisores) == 2:\n",
    "        return True\n",
    "    else:\n",
    "        return False\n",
    "           \n",
    "def principal():\n",
    "    numero = int(input(\"Ingresa un número: \"))\n",
    "    verificacion = define_numero(numero)\n",
    "    print(verificacion)\n",
    "\n",
    "principal()"
   ]
  },
  {
   "cell_type": "code",
   "execution_count": 78,
   "id": "9a15a2c5",
   "metadata": {},
   "outputs": [
    {
     "name": "stdout",
     "output_type": "stream",
     "text": [
      "Febrero del año 2024 tiene 29 dias y es un año bisiesto.\n"
     ]
    }
   ],
   "source": [
    "# Ejercicio 17\n",
    "def comprobar_bisiesto(año):\n",
    "    if año % 400 == 0:\n",
    "        return(True)\n",
    "    else:\n",
    "        if (año % 4 == 0 and año % 100 != 0):\n",
    "            return(True)\n",
    "        else:\n",
    "            return(False)\n",
    "\n",
    "def calcular_dias(mes, año):\n",
    "    dict_dias_mes = {\"enero\": 31, \"febrero\": 28, \"marzo\": 31, \"abril\": 30, \"mayo\": 31, \"junio\": 30, \"julio\": 31,\n",
    "                    \"agosto\": 31, \"septiembre\": 30, \"octubre\": 31, \"noviembre\": 30, \"diciembre\": 31}\n",
    "    bisiesto = comprobar_bisiesto(año)\n",
    "    \n",
    "    if bisiesto == True:\n",
    "        frase = \"es un año bisiesto.\"\n",
    "        if mes == \"febrero\":\n",
    "            dict_dias_mes[mes] += 1\n",
    "    else:\n",
    "        frase = \"no es un año bisiesto.\"\n",
    "    \n",
    "    mensaje = f\"{mes.capitalize()} del año {año} tiene {dict_dias_mes[mes]} dias y {frase}\"\n",
    "    return mensaje\n",
    "        \n",
    "def principal():\n",
    "    mes = input(\"Ingresa el mes (en letras): \").lower()\n",
    "    año = int(input(\"Ingresa el año (en número): \"))\n",
    "    mensaje = calcular_dias(mes, año)\n",
    "    print(mensaje)\n",
    "    \n",
    "principal()"
   ]
  }
 ],
 "metadata": {
  "kernelspec": {
   "display_name": "Python 3.10.12 64-bit",
   "language": "python",
   "name": "python3"
  },
  "language_info": {
   "codemirror_mode": {
    "name": "ipython",
    "version": 3
   },
   "file_extension": ".py",
   "mimetype": "text/x-python",
   "name": "python",
   "nbconvert_exporter": "python",
   "pygments_lexer": "ipython3",
   "version": "3.10.12"
  },
  "vscode": {
   "interpreter": {
    "hash": "916dbcbb3f70747c44a77c7bcd40155683ae19c65e1c03b4aa3499c5328201f1"
   }
  }
 },
 "nbformat": 4,
 "nbformat_minor": 5
}
